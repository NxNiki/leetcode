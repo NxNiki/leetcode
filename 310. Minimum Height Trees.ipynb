{
 "cells": [
  {
   "cell_type": "markdown",
   "metadata": {},
   "source": [
    "A tree is an undirected graph in which any two vertices are connected by exactly one path. In other words, any connected graph without simple cycles is a tree.\n",
    "\n",
    "Given a tree of n nodes labelled from 0 to n - 1, and an array of n - 1 edges where edges[i] = [ai, bi] indicates that there is an undirected edge between the two nodes ai and bi in the tree, you can choose any node of the tree as the root. When you select a node x as the root, the result tree has height h. Among all possible rooted trees, those with minimum height (i.e. min(h))  are called minimum height trees (MHTs).\n",
    "\n",
    "Return a list of all MHTs' root labels. You can return the answer in any order.\n",
    "\n",
    "The height of a rooted tree is the number of edges on the longest downward path between the root and a leaf."
   ]
  },
  {
   "cell_type": "code",
   "execution_count": 10,
   "metadata": {},
   "outputs": [],
   "source": [
    "from collections import defaultdict\n",
    "from collections import deque \n",
    "\n",
    "class Solution:\n",
    "    #def findMinHeightTrees(self, n: int, edges: List[List[int]]) -> List[int]:\n",
    "    def findMinHeightTrees(self, n: int, edges):\n",
    "        if n<=2:\n",
    "            return [i for i in range(n)]       \n",
    "        adj=defaultdict(set)      \n",
    "        for edge in edges:\n",
    "            adj[edge[0]].add(edge[1])\n",
    "            adj[edge[1]].add(edge[0])\n",
    "        Q=deque()\n",
    "        for node in adj:\n",
    "            if len(adj[node])==1:\n",
    "                Q.append(node)\n",
    "        while n>2:\n",
    "            lenQ=len(Q)\n",
    "            n-=lenQ\n",
    "            for i in range(lenQ):\n",
    "                curr=Q.popleft()\n",
    "                for node in adj[curr]:\n",
    "                    adj[node].remove(curr)\n",
    "                    if len(adj[node])==1:\n",
    "                        Q.append(node)\n",
    "        return list(Q)"
   ]
  },
  {
   "cell_type": "code",
   "execution_count": 11,
   "metadata": {},
   "outputs": [
    {
     "data": {
      "text/plain": [
       "[1]"
      ]
     },
     "execution_count": 11,
     "metadata": {},
     "output_type": "execute_result"
    }
   ],
   "source": [
    "# test:\n",
    "s = Solution\n",
    "s.findMinHeightTrees(s, n=4, edges = [[0,1],[1,3],[1,2]])"
   ]
  }
 ],
 "metadata": {
  "kernelspec": {
   "display_name": "Python 3",
   "language": "python",
   "name": "python3"
  },
  "language_info": {
   "codemirror_mode": {
    "name": "ipython",
    "version": 3
   },
   "file_extension": ".py",
   "mimetype": "text/x-python",
   "name": "python",
   "nbconvert_exporter": "python",
   "pygments_lexer": "ipython3",
   "version": "3.7.6"
  }
 },
 "nbformat": 4,
 "nbformat_minor": 4
}
