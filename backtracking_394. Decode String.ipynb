{
 "cells": [
  {
   "cell_type": "code",
   "execution_count": 17,
   "metadata": {},
   "outputs": [
    {
     "name": "stdout",
     "output_type": "stream",
     "text": [
      "a\n",
      "3\n",
      "3\n",
      "b\n",
      "7\n",
      "bc\n",
      "8\n",
      "8\n"
     ]
    },
    {
     "data": {
      "text/plain": [
       "'aaabcbc'"
      ]
     },
     "execution_count": 17,
     "metadata": {},
     "output_type": "execute_result"
    }
   ],
   "source": [
    "class Solution:\n",
    "    def decodeString(self, s: str) -> str:\n",
    "        \n",
    "        def recurse():\n",
    "            res = ''\n",
    "            nonlocal i\n",
    "            while i < len(s) and s[i] != ']':\n",
    "                if not s[i].isdigit():\n",
    "                    res += s[i]\n",
    "                    print(res)\n",
    "                    i += 1\n",
    "                    print(i)\n",
    "                else:\n",
    "                    k = 0\n",
    "                    while s[i].isdigit():\n",
    "                        k = k * 10 + int(s[i])\n",
    "                        i += 1\n",
    "                    i += 1    \n",
    "                    string = recurse()\n",
    "                    print(i)\n",
    "                    i += 1\n",
    "\n",
    "                    while k > 0:\n",
    "                        res += string\n",
    "                        k -= 1\n",
    "\n",
    "            return res\n",
    "        \n",
    "        i = 0\n",
    "        return recurse()\n",
    "    \n",
    "s = \"3[a]2[bc]\"\n",
    "sol = Solution()\n",
    "sol.decodeString(s)"
   ]
  }
 ],
 "metadata": {
  "kernelspec": {
   "display_name": "Python 3",
   "language": "python",
   "name": "python3"
  },
  "language_info": {
   "codemirror_mode": {
    "name": "ipython",
    "version": 3
   },
   "file_extension": ".py",
   "mimetype": "text/x-python",
   "name": "python",
   "nbconvert_exporter": "python",
   "pygments_lexer": "ipython3",
   "version": "3.7.6"
  }
 },
 "nbformat": 4,
 "nbformat_minor": 4
}
