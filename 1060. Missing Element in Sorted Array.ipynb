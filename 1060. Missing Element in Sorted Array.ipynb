{
 "cells": [
  {
   "cell_type": "code",
   "execution_count": 3,
   "metadata": {},
   "outputs": [
    {
     "name": "stdout",
     "output_type": "stream",
     "text": [
      "3\n"
     ]
    },
    {
     "data": {
      "text/plain": [
       "6"
      ]
     },
     "execution_count": 3,
     "metadata": {},
     "output_type": "execute_result"
    }
   ],
   "source": [
    "class Solution(object):\n",
    "    def missingElement(self, nums, k):\n",
    "        \"\"\"\n",
    "        :type nums: List[int]\n",
    "        :type k: int\n",
    "        :rtype: int\n",
    "        \"\"\"\n",
    "        \n",
    "        for i in range(1, len(nums)):\n",
    "\n",
    "            lag = nums[i] - nums[i - 1]\n",
    "            add = 1\n",
    "            while lag > 1:\n",
    "                missing = nums[i - 1] + add\n",
    "                print(missing)\n",
    "                k -= 1\n",
    "                if k == 0:\n",
    "                    return missing\n",
    "                lag -= 1\n",
    "                add += 1\n",
    "                    \n",
    "        return nums[-1] + k\n",
    "                \n",
    "nums = [1,2,4]\n",
    "k = 3\n",
    "\n",
    "sol = Solution()\n",
    "sol.missingElement(nums, k)"
   ]
  },
  {
   "cell_type": "code",
   "execution_count": 9,
   "metadata": {},
   "outputs": [
    {
     "name": "stdout",
     "output_type": "stream",
     "text": [
      "1\n",
      "2\n"
     ]
    },
    {
     "data": {
      "text/plain": [
       "8"
      ]
     },
     "execution_count": 9,
     "metadata": {},
     "output_type": "execute_result"
    }
   ],
   "source": [
    "class Solution(object):\n",
    "    def missingElement(self, nums, k):\n",
    "        \"\"\"\n",
    "        :type nums: List[int]\n",
    "        :type k: int\n",
    "        :rtype: int\n",
    "        \"\"\"\n",
    "        \n",
    "        missing = lambda idx: nums[idx] - nums[0] - idx\n",
    "        \n",
    "        if missing(len(nums)-1) < k:\n",
    "            return nums[-1] + k - missing(len(nums)-1)\n",
    "        \n",
    "        left, right = 0, len(nums)-1\n",
    "        while left <= right:\n",
    "            mid = left + (right - left)//2\n",
    "            print(mid)\n",
    "            print(missing(mid))\n",
    "            if missing(mid) < k <= missing(mid+1):\n",
    "                return nums[mid] + k - missing(mid)\n",
    "            elif k < missing(mid):\n",
    "                right = mid - 1\n",
    "            else:\n",
    "                left = mid + 1 \n",
    "\n",
    "                \n",
    "nums = [1,2,4]\n",
    "k = 3\n",
    "\n",
    "                \n",
    "nums = [4,7,9,10]\n",
    "k = 1\n",
    "k = 3\n",
    "\n",
    "sol = Solution()\n",
    "sol.missingElement(nums, k)"
   ]
  }
 ],
 "metadata": {
  "kernelspec": {
   "display_name": "Python 3",
   "language": "python",
   "name": "python3"
  },
  "language_info": {
   "codemirror_mode": {
    "name": "ipython",
    "version": 3
   },
   "file_extension": ".py",
   "mimetype": "text/x-python",
   "name": "python",
   "nbconvert_exporter": "python",
   "pygments_lexer": "ipython3",
   "version": "3.7.6"
  }
 },
 "nbformat": 4,
 "nbformat_minor": 4
}
