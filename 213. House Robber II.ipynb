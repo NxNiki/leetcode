{
 "cells": [
  {
   "cell_type": "markdown",
   "metadata": {},
   "source": [
    "Top down dynamic programming:\n",
    "Suppose the length of nums is n:\n",
    "\n",
    "[0, 1, 2, 3, 4,..., n-1]\n",
    "\n",
    "We define a function recurse(i, nums), which returns the max rob we can get from ith to n-1th in nums:\n",
    "\n",
    "[i, i+1, i+2,...,n-1]\n",
    "\n",
    "We can see a recurse rule:\n",
    "\n",
    "recurse(i, nums) = max(nums[i]+recurse(i+2, nums), recurse(i+1, nums))\n",
    "\n",
    "That is to say the max rob we can get from pos i is the larger value of what we can get at pos i+1 and nums[i] + what we can get at pos i+2."
   ]
  },
  {
   "cell_type": "code",
   "execution_count": 11,
   "metadata": {},
   "outputs": [
    {
     "name": "stdout",
     "output_type": "stream",
     "text": [
      "5 8\n",
      "4 8\n",
      "5 8\n",
      "3 13\n",
      "5 8\n",
      "4 8\n",
      "2 13\n",
      "5 8\n",
      "4 8\n",
      "5 8\n",
      "3 13\n",
      "1 16\n",
      "5 8\n",
      "4 8\n",
      "5 8\n",
      "3 13\n",
      "5 8\n",
      "4 8\n",
      "2 13\n",
      "0 16\n"
     ]
    },
    {
     "data": {
      "text/plain": [
       "16"
      ]
     },
     "execution_count": 11,
     "metadata": {},
     "output_type": "execute_result"
    }
   ],
   "source": [
    "class Solution:\n",
    "    def rob(self, nums) -> int:\n",
    "        \n",
    "        def recurse(i, nums):\n",
    "            if i>=len(nums):\n",
    "                return 0\n",
    "            \n",
    "            res = max(recurse(i+1, nums), nums[i]+recurse(i+2, nums))\n",
    "            print(i, res)\n",
    "            return res\n",
    "            \n",
    "        return recurse(0, nums)\n",
    "    \n",
    "## as the input omits the first or last element, recurse will return 0\n",
    "    \n",
    "s = Solution()\n",
    "s.rob([1, 3, 4, 5, 2, 8])"
   ]
  },
  {
   "cell_type": "markdown",
   "metadata": {},
   "source": [
    "You can see the the recurse function are called repetitiously mutiple times which is demonstarted in the below tree structure.\n",
    "\n",
    "0\n",
    "1               2\n",
    "2       3       3       4\n",
    "3   4   4   5   4   5   5   6\n",
    "4 5 5 6 5 6 6 7 5 6 6 7 6 7\n",
    "5 6"
   ]
  },
  {
   "cell_type": "code",
   "execution_count": 14,
   "metadata": {},
   "outputs": [
    {
     "name": "stdout",
     "output_type": "stream",
     "text": [
      "5 8\n",
      "4 8\n",
      "3 13\n",
      "2 13\n",
      "1 16\n",
      "0 16\n"
     ]
    },
    {
     "data": {
      "text/plain": [
       "16"
      ]
     },
     "execution_count": 14,
     "metadata": {},
     "output_type": "execute_result"
    }
   ],
   "source": [
    "# solution with DP:\n",
    "\n",
    "class Solution:\n",
    "    def rob(self, nums) -> int:\n",
    "        \n",
    "        dp = [0]*len(nums)\n",
    "        \n",
    "        def recurse(i, nums):\n",
    "            if i>=len(nums):\n",
    "                return 0\n",
    "            \n",
    "            if dp[i]>0:\n",
    "                return dp[i]\n",
    "            \n",
    "            res = max(recurse(i+1, nums), nums[i]+recurse(i+2, nums))\n",
    "            dp[i]=res\n",
    "            print(i, res)\n",
    "            return res\n",
    "            \n",
    "        return recurse(0, nums)\n",
    "    \n",
    "## as the input omits the first or last element, recurse will return 0\n",
    "    \n",
    "s = Solution()\n",
    "s.rob([1, 3, 4, 5, 2, 8])"
   ]
  },
  {
   "cell_type": "code",
   "execution_count": 15,
   "metadata": {},
   "outputs": [
    {
     "name": "stdout",
     "output_type": "stream",
     "text": [
      "4 2\n",
      "4 2\n",
      "3 5\n",
      "2 6\n",
      "4 2\n",
      "3 5\n",
      "4 2\n",
      "4 2\n",
      "3 5\n",
      "2 6\n",
      "1 8\n",
      "0 8\n",
      "4 8\n",
      "3 8\n",
      "4 8\n",
      "4 8\n",
      "3 8\n",
      "2 13\n",
      "1 13\n"
     ]
    },
    {
     "data": {
      "text/plain": [
       "13"
      ]
     },
     "execution_count": 15,
     "metadata": {},
     "output_type": "execute_result"
    }
   ],
   "source": [
    "# for circular problem, we just need to separate the problem into two cases with either the 1st or last element removed in nums.\n",
    "\n",
    "class Solution:\n",
    "    def rob(self, nums) -> int:\n",
    "        \n",
    "        def recurse(i, nums):\n",
    "            if i>=len(nums):\n",
    "                return 0\n",
    "            \n",
    "            res = max(nums[i]+recurse(i+2, nums), recurse(i+1, nums))\n",
    "            print(i, res)\n",
    "            return res\n",
    "            \n",
    "        res1 = recurse(0, nums[:-1])\n",
    "        res2 = recurse(1, nums[1:])\n",
    "        \n",
    "        return max(res1, res2)\n",
    "    \n",
    "\n",
    "    \n",
    "s = Solution()\n",
    "s.rob([1, 3, 4, 5, 2, 8])"
   ]
  },
  {
   "cell_type": "markdown",
   "metadata": {},
   "source": [
    "The obove answer is clearly wrong? why?"
   ]
  },
  {
   "cell_type": "code",
   "execution_count": 26,
   "metadata": {},
   "outputs": [
    {
     "name": "stdout",
     "output_type": "stream",
     "text": [
      "[0, 0, 0, 0, 2]\n",
      "[0, 0, 0, 5, 2]\n",
      "[0, 0, 6, 5, 2]\n",
      "[0, 8, 6, 5, 2]\n",
      "[8, 8, 6, 5, 2]\n",
      "[0, 0, 0, 0, 8]\n",
      "[0, 0, 0, 8, 8]\n",
      "[0, 0, 13, 8, 8]\n",
      "[0, 13, 13, 8, 8]\n",
      "[16, 13, 13, 8, 8]\n"
     ]
    },
    {
     "data": {
      "text/plain": [
       "16"
      ]
     },
     "execution_count": 26,
     "metadata": {},
     "output_type": "execute_result"
    }
   ],
   "source": [
    "class Solution:\n",
    "    def rob(self, nums) -> int:\n",
    "        ## as the input omits the first or last element, recurse will return 0 if len(nums)==1\n",
    "        if len(nums)==1:\n",
    "            return nums[0]\n",
    "        \n",
    "        \n",
    "        def recurse(i, nums, dp):\n",
    "            if i>=len(nums):\n",
    "                return 0\n",
    "            \n",
    "            if dp[i]>0:\n",
    "                return dp[i]\n",
    "            \n",
    "            res = max(nums[i]+recurse(i+2, nums, dp), recurse(i+1, nums, dp))\n",
    "            dp[i] = res\n",
    "            print(dp)\n",
    "            return res\n",
    "        \n",
    "        # as we run it twice, we must set 2 separate dp:\n",
    "        dp1 = [0] * (len(nums)-1)\n",
    "        dp2 = [0] * (len(nums)-1)\n",
    "        res1 = recurse(0, nums[:-1], dp1)\n",
    "        res2 = recurse(0, nums[1:], dp2) # as we omit first element of nums, we should start from 0 rather than 1.\n",
    "        # res2 = recurse(1, nums) # or start with 1 with the whole nums.\n",
    "        \n",
    "        return max(res1, res2)\n",
    "    \n",
    "    \n",
    "s = Solution()\n",
    "s.rob([1, 3, 4, 5, 2, 8])\n",
    "# s.rob([1,2,3])"
   ]
  },
  {
   "cell_type": "code",
   "execution_count": 28,
   "metadata": {},
   "outputs": [
    {
     "name": "stdout",
     "output_type": "stream",
     "text": [
      "[0, 0, 0, 0, 2]\n",
      "[0, 0, 0, 5, 2]\n",
      "[0, 0, 6, 5, 2]\n",
      "[0, 8, 6, 5, 2]\n",
      "[8, 8, 6, 5, 2]\n",
      "[0, 0, 0, 0, 8]\n",
      "[0, 0, 0, 8, 8]\n",
      "[0, 0, 13, 8, 8]\n",
      "[0, 13, 13, 8, 8]\n",
      "[16, 13, 13, 8, 8]\n"
     ]
    },
    {
     "data": {
      "text/plain": [
       "16"
      ]
     },
     "execution_count": 28,
     "metadata": {},
     "output_type": "execute_result"
    }
   ],
   "source": [
    "class Solution:\n",
    "    def rob(self, nums) -> int:\n",
    "        ## as the input omits the first or last element, recurse will return 0 if len(nums)==1\n",
    "        if len(nums)==1:\n",
    "            return nums[0]\n",
    "        \n",
    "        \n",
    "        def recurse(i, nums):\n",
    "            if i>=len(nums):\n",
    "                return 0\n",
    "            \n",
    "            if dp[i]>0:\n",
    "                return dp[i]\n",
    "            \n",
    "            res = max(nums[i]+recurse(i+2, nums), recurse(i+1, nums))\n",
    "            dp[i] = res\n",
    "            print(dp)\n",
    "            return res\n",
    "        \n",
    "        dp = [0] * (len(nums)-1)\n",
    "        res1 = recurse(0, nums[:-1])\n",
    "        dp = [0] * (len(nums)-1)\n",
    "        res2 = recurse(0, nums[1:]) # as we omit first element of nums, we should start from 0 rather than 1.\n",
    "        # res2 = recurse(1, nums) # or start with 1 with the whole nums.\n",
    "        \n",
    "        return max(res1, res2)\n",
    "    \n",
    "    \n",
    "s = Solution()\n",
    "s.rob([1, 3, 4, 5, 2, 8])\n",
    "# s.rob([1,2,3])"
   ]
  },
  {
   "cell_type": "code",
   "execution_count": 34,
   "metadata": {},
   "outputs": [
    {
     "name": "stdout",
     "output_type": "stream",
     "text": [
      "[0, 1, 3, 0, 0, 0]\n",
      "[0, 1, 3, 5, 0, 0]\n",
      "[0, 1, 3, 5, 8, 0]\n",
      "[0, 1, 3, 5, 8, 8]\n",
      "---\n",
      "[0, 3, 4, 0, 0, 0]\n",
      "[0, 3, 4, 8, 0, 0]\n",
      "[0, 3, 4, 8, 8, 0]\n",
      "[0, 3, 4, 8, 8, 16]\n"
     ]
    },
    {
     "data": {
      "text/plain": [
       "16"
      ]
     },
     "execution_count": 34,
     "metadata": {},
     "output_type": "execute_result"
    }
   ],
   "source": [
    "# bottom-up DP:\n",
    "\n",
    "class Solution:\n",
    "    def rob(self, nums) -> int:\n",
    "        ## as the input omits the first or last element, recurse will return 0 if len(nums)==1\n",
    "        if len(nums)==1:\n",
    "            return nums[0]\n",
    "        \n",
    "        def dp(nums):\n",
    "            dp = [0]*(len(nums)+1)\n",
    "            dp[1] = nums[0]\n",
    "            for i in range(2, len(nums)+1):\n",
    "                dp[i] = max(nums[i-1]+dp[i-2], dp[i-1])\n",
    "                print(dp)\n",
    "            \n",
    "            return dp[-1]\n",
    "        \n",
    "        res1 = dp(nums[:-1])\n",
    "        print('---')\n",
    "        res2 = dp(nums[1:])\n",
    "        \n",
    "        return max(res1, res2)\n",
    "    \n",
    "    \n",
    "s = Solution()\n",
    "s.rob([1, 3, 4, 5, 2, 8])\n",
    "# s.rob([1,2,3])"
   ]
  }
 ],
 "metadata": {
  "kernelspec": {
   "display_name": "Python 3",
   "language": "python",
   "name": "python3"
  },
  "language_info": {
   "codemirror_mode": {
    "name": "ipython",
    "version": 3
   },
   "file_extension": ".py",
   "mimetype": "text/x-python",
   "name": "python",
   "nbconvert_exporter": "python",
   "pygments_lexer": "ipython3",
   "version": "3.7.6"
  }
 },
 "nbformat": 4,
 "nbformat_minor": 4
}
