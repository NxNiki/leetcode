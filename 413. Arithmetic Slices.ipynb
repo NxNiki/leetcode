{
 "cells": [
  {
   "cell_type": "code",
   "execution_count": 10,
   "metadata": {},
   "outputs": [],
   "source": [
    "class Solution:\n",
    "    def numberOfArithmeticSlices(self, nums) -> int:\n",
    "        if len(nums)<3:\n",
    "            return 0\n",
    "        \n",
    "        count = 0\n",
    "        dp = [False]*len(nums)\n",
    "        for start in range(len(nums)-2):\n",
    "            for end in range(start+2, len(nums)):\n",
    "                if self.checkArithmetic(nums, start, end):\n",
    "                    print(nums[start:end+1])\n",
    "                    count += 1\n",
    "                    #dp[start:end+1] = True\n",
    "       \n",
    "        return count\n",
    "    \n",
    "    \n",
    "    def checkArithmetic(self, nums, start, end):\n",
    "        diff = nums[start+1]-nums[start]\n",
    "        for i in range(start+2, end+1):\n",
    "            if nums[i]-nums[i-1]!=diff:\n",
    "                return False\n",
    "        \n",
    "        return True"
   ]
  },
  {
   "cell_type": "code",
   "execution_count": 11,
   "metadata": {},
   "outputs": [
    {
     "name": "stdout",
     "output_type": "stream",
     "text": [
      "[1, 2, 3]\n",
      "[8, 9, 10]\n"
     ]
    },
    {
     "data": {
      "text/plain": [
       "2"
      ]
     },
     "execution_count": 11,
     "metadata": {},
     "output_type": "execute_result"
    }
   ],
   "source": [
    "x = [1,2,3,8,9,10]\n",
    "s = Solution()\n",
    "s.numberOfArithmeticSlices(nums = x)"
   ]
  },
  {
   "cell_type": "code",
   "execution_count": 15,
   "metadata": {},
   "outputs": [
    {
     "data": {
      "text/plain": [
       "[True, True, False, False, True, True, True, True, True, True]"
      ]
     },
     "execution_count": 15,
     "metadata": {},
     "output_type": "execute_result"
    }
   ],
   "source": [
    "dp = [True]*10\n",
    "dp[2:4]=[False]*2\n",
    "dp"
   ]
  }
 ],
 "metadata": {
  "kernelspec": {
   "display_name": "Python 3",
   "language": "python",
   "name": "python3"
  },
  "language_info": {
   "codemirror_mode": {
    "name": "ipython",
    "version": 3
   },
   "file_extension": ".py",
   "mimetype": "text/x-python",
   "name": "python",
   "nbconvert_exporter": "python",
   "pygments_lexer": "ipython3",
   "version": "3.7.6"
  }
 },
 "nbformat": 4,
 "nbformat_minor": 4
}
