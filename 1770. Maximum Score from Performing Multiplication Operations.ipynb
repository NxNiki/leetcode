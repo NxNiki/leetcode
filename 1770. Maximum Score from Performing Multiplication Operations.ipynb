{
 "cells": [
  {
   "cell_type": "code",
   "execution_count": 4,
   "metadata": {},
   "outputs": [
    {
     "name": "stdout",
     "output_type": "stream",
     "text": [
      "[[0, 0, 0, 0], [0, 0, 0, 0], [0, 0, 24, 0], [0, 0, 0, 0]]\n",
      "[[0, 0, 0, 0], [0, 0, 0, 0], [0, 20, 24, 0], [0, 0, 0, 0]]\n",
      "[[0, 0, 0, 0], [0, 0, 0, 0], [16, 20, 24, 0], [0, 0, 0, 0]]\n",
      "[[0, 0, 0, 0], [0, 38, 0, 0], [16, 20, 24, 0], [0, 0, 0, 0]]\n",
      "[[0, 0, 0, 0], [31, 38, 0, 0], [16, 20, 24, 0], [0, 0, 0, 0]]\n",
      "[[43, 0, 0, 0], [31, 38, 0, 0], [16, 20, 24, 0], [0, 0, 0, 0]]\n"
     ]
    },
    {
     "data": {
      "text/plain": [
       "43"
      ]
     },
     "execution_count": 4,
     "metadata": {},
     "output_type": "execute_result"
    }
   ],
   "source": [
    "class Solution:\n",
    "    def maximumScore(self, nums, multipliers) -> int:\n",
    "        n, m = len(nums), len(multipliers)\n",
    "        dp = [[0] * (m + 1) for _ in range(m + 1)]\n",
    "        \n",
    "        for i in range(m - 1, -1, -1):\n",
    "            for left in range(i, -1, -1):\n",
    "                mult = multipliers[i]\n",
    "                right = n - 1 - (i - left)\n",
    "                dp[i][left] = max(mult * nums[left] + dp[i + 1][left + 1], \n",
    "                                  mult * nums[right] + dp[i + 1][left])  \n",
    "                print(dp)\n",
    "        \n",
    "        return dp[0][0]\n",
    "    \n",
    "    \n",
    "nums = [1,2,3,4,5,6]\n",
    "multipliers = [2,3,4]\n",
    "\n",
    "s = Solution()\n",
    "s.maximumScore(nums, multipliers)"
   ]
  },
  {
   "cell_type": "code",
   "execution_count": 9,
   "metadata": {},
   "outputs": [
    {
     "name": "stdout",
     "output_type": "stream",
     "text": [
      "[[0, 0, 0, 0], [0, 12, 0, 0], [0, 0, 0, 0], [0, 0, 0, 0]]\n",
      "[[0, 0, 0, 0], [0, 12, 0, 0], [0, 18, 0, 0], [0, 0, 0, 0]]\n",
      "[[0, 0, 0, 0], [0, 12, 0, 0], [0, 18, 30, 0], [0, 0, 0, 0]]\n",
      "[[0, 0, 0, 0], [0, 12, 0, 0], [0, 18, 30, 0], [0, 26, 0, 0]]\n",
      "[[0, 0, 0, 0], [0, 12, 0, 0], [0, 18, 30, 0], [0, 26, 42, 0]]\n",
      "[[0, 0, 0, 0], [0, 12, 0, 0], [0, 18, 30, 0], [0, 26, 42, 54]]\n"
     ]
    },
    {
     "data": {
      "text/plain": [
       "54"
      ]
     },
     "execution_count": 9,
     "metadata": {},
     "output_type": "execute_result"
    }
   ],
   "source": [
    "class Solution:\n",
    "    def maximumScore(self, nums, multipliers) -> int:\n",
    "        n, m = len(nums), len(multipliers)\n",
    "        dp = [[0] * (m + 1) for _ in range(m + 1)]\n",
    "        \n",
    "        for i in range(1, m+1):\n",
    "            for left in range(1, i+1):\n",
    "                mult = multipliers[i-1]\n",
    "                right = n - 1 - (i - left)\n",
    "                dp[i][left] = max(mult * nums[left] + dp[i - 1][left], \n",
    "                                  mult * nums[right] + dp[i - 1][left - 1])  \n",
    "                print(dp)\n",
    "        \n",
    "        return dp[m][m]\n",
    "    \n",
    "    \n",
    "nums = [1,2,3,4,5,6]\n",
    "multipliers = [2,3,4]\n",
    "\n",
    "s = Solution()\n",
    "s.maximumScore(nums, multipliers)"
   ]
  },
  {
   "cell_type": "code",
   "execution_count": 13,
   "metadata": {},
   "outputs": [
    {
     "name": "stdout",
     "output_type": "stream",
     "text": [
      "[[0, 0, 0], [0, 0, 0], [0, 0, 24], [0, 0, 0]]\n",
      "[[0, 0, 0], [0, 20, 0], [0, 0, 24], [0, 0, 0]]\n",
      "[[0, 0, 0], [0, 20, 38], [0, 0, 24], [0, 0, 0]]\n",
      "[[16, 0, 0], [0, 20, 38], [0, 0, 24], [0, 0, 0]]\n",
      "[[16, 31, 0], [0, 20, 38], [0, 0, 24], [0, 0, 0]]\n",
      "[[16, 31, 43], [0, 20, 38], [0, 0, 24], [0, 0, 0]]\n"
     ]
    },
    {
     "data": {
      "text/plain": [
       "43"
      ]
     },
     "execution_count": 13,
     "metadata": {},
     "output_type": "execute_result"
    }
   ],
   "source": [
    "#https://leetcode.com/problems/maximum-score-from-performing-multiplication-operations/discuss/1075495/Python3-bottom-up-dp\n",
    "    \n",
    "class Solution:\n",
    "    def maximumScore(self, nums,  multipliers ) -> int:\n",
    "        n, m = len(nums), len(multipliers)\n",
    "        dp = [[0]*m for _ in range(m+1)]\n",
    "        \n",
    "        for i in reversed(range(m)):\n",
    "            for j in range(i, m): \n",
    "                k = i + m - j - 1\n",
    "                dp[i][j] = max(nums[i] * multipliers[k] + dp[i+1][j], nums[j-m+n] * multipliers[k] + dp[i][j-1])\n",
    "                print(dp)\n",
    "        return dp[0][-1]\n",
    "    \n",
    "nums = [1,2,3,4,5,6]\n",
    "multipliers = [2,3,4]\n",
    "\n",
    "s = Solution()\n",
    "s.maximumScore(nums, multipliers)"
   ]
  }
 ],
 "metadata": {
  "kernelspec": {
   "display_name": "Python 3",
   "language": "python",
   "name": "python3"
  },
  "language_info": {
   "codemirror_mode": {
    "name": "ipython",
    "version": 3
   },
   "file_extension": ".py",
   "mimetype": "text/x-python",
   "name": "python",
   "nbconvert_exporter": "python",
   "pygments_lexer": "ipython3",
   "version": "3.7.6"
  }
 },
 "nbformat": 4,
 "nbformat_minor": 4
}
