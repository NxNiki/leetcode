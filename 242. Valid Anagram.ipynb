{
 "cells": [
  {
   "cell_type": "code",
   "execution_count": 2,
   "metadata": {},
   "outputs": [
    {
     "name": "stdout",
     "output_type": "stream",
     "text": [
      "{'a': 3, 'n': 1, 'g': 1, 'r': 1, 'm': 1}\n"
     ]
    },
    {
     "data": {
      "text/plain": [
       "True"
      ]
     },
     "execution_count": 2,
     "metadata": {},
     "output_type": "execute_result"
    }
   ],
   "source": [
    "class Solution:\n",
    "    def isAnagram(self, s: str, t: str) -> bool:\n",
    "        \n",
    "        hashmap = {}\n",
    "        for char in s:\n",
    "            if char in hashmap:\n",
    "                hashmap[char] += 1\n",
    "            else:\n",
    "                hashmap[char] = 1\n",
    "                \n",
    "        print(hashmap)\n",
    "                \n",
    "        for char in t:\n",
    "            if char in hashmap:\n",
    "                hashmap[char] -= 1\n",
    "                if hashmap[char] < 0:\n",
    "                    return False\n",
    "            else:\n",
    "                return False\n",
    "            \n",
    "        for char in hashmap:\n",
    "            if hashmap[char]>0:\n",
    "                return False\n",
    "        \n",
    "        return True\n",
    "        \n",
    "s = \"anagram\"\n",
    "t = \"nagaram\"\n",
    "\n",
    "sol = Solution()\n",
    "sol.isAnagram(s, t)"
   ]
  }
 ],
 "metadata": {
  "kernelspec": {
   "display_name": "Python 3",
   "language": "python",
   "name": "python3"
  },
  "language_info": {
   "codemirror_mode": {
    "name": "ipython",
    "version": 3
   },
   "file_extension": ".py",
   "mimetype": "text/x-python",
   "name": "python",
   "nbconvert_exporter": "python",
   "pygments_lexer": "ipython3",
   "version": "3.7.6"
  }
 },
 "nbformat": 4,
 "nbformat_minor": 4
}
