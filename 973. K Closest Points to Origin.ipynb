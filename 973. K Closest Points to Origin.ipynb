{
 "cells": [
  {
   "cell_type": "code",
   "execution_count": 3,
   "metadata": {},
   "outputs": [
    {
     "data": {
      "text/plain": [
       "[1]"
      ]
     },
     "execution_count": 3,
     "metadata": {},
     "output_type": "execute_result"
    }
   ],
   "source": [
    "class Solution(object):\n",
    "    def kClosest(self, points, k):\n",
    "        \"\"\"\n",
    "        :type points: List[List[int]]\n",
    "        :type k: int\n",
    "        :rtype: List[List[int]]\n",
    "        \"\"\"\n",
    "        \n",
    "        hashmap = {n: 0 for n in range(len(points))}\n",
    "        \n",
    "        for i in range(len(points)):\n",
    "            dis = points[i][0] **2 + points[i][1] **2\n",
    "            hashmap[i] = dis\n",
    "            \n",
    "            \n",
    "        key_sort = sorted(hashmap.keys(), key = hashmap.get)\n",
    "        return key_sort[:k]\n",
    "    \n",
    "points = [[1,3],[-2,2]]\n",
    "k = 1\n",
    "\n",
    "sol = Solution()\n",
    "sol.kClosest(points, k)"
   ]
  },
  {
   "cell_type": "code",
   "execution_count": 4,
   "metadata": {},
   "outputs": [
    {
     "data": {
      "text/plain": [
       "2"
      ]
     },
     "execution_count": 4,
     "metadata": {},
     "output_type": "execute_result"
    }
   ],
   "source": [
    " hashmap = {n: 0 for n in range(len(points))}\n",
    "        \n",
    "        for i in range(len(points)):\n",
    "            dis = points[i][0] **2 + points[i][1] **2\n",
    "            hashmap[i] = dis\n",
    "            \n",
    "            \n",
    "        key_sort = sorted(hashmap.keys(), key = hashmap.get)\n",
    "        res = []\n",
    "        for i in key_sort[:k]:\n",
    "            res.append(points[i])\n",
    "\n",
    "        return res"
   ]
  },
  {
   "cell_type": "code",
   "execution_count": 9,
   "metadata": {},
   "outputs": [
    {
     "data": {
      "text/plain": [
       "[[-2, 2]]"
      ]
     },
     "execution_count": 9,
     "metadata": {},
     "output_type": "execute_result"
    }
   ],
   "source": [
    "## binary search\n",
    "\n",
    "class Solution(object):\n",
    "    def kClosest(self, points, k):\n",
    "        \"\"\"\n",
    "        :type points: List[List[int]]\n",
    "        :type k: int\n",
    "        :rtype: List[List[int]]\n",
    "        \"\"\"\n",
    "        distance = [self.cal_distance(p1, p2) for p1, p2 in points]\n",
    "        left, right = 0, max(distance)\n",
    "        remaining = points\n",
    "        res = []\n",
    "        while k>0:\n",
    "            mid = (left + right)/2\n",
    "            closer, farther = self.split(remaining, mid)\n",
    "            if len(closer) > k:\n",
    "                right = mid\n",
    "                #remaining = closer # works on example with this commented.\n",
    "            else:\n",
    "                k -= len(closer)\n",
    "                res.extend(closer)\n",
    "                remaining = farther\n",
    "                left = mid\n",
    "        return res\n",
    "        \n",
    "    def cal_distance(self, pt1, pt2):\n",
    "        return (pt1 **2 + pt2 **2)**(1/2)\n",
    "    \n",
    "    def split(self, remaining, mid):\n",
    "        closer = []\n",
    "        farther = []\n",
    "        for p1, p2 in remaining:\n",
    "            dis = self.cal_distance(p1, p2)\n",
    "            if dis <= mid:\n",
    "                closer.append([p1, p2])\n",
    "            else:\n",
    "                farther.append([p1, p2])\n",
    "                \n",
    "        return [closer, farther]\n",
    "        \n",
    "points = [[1,3],[-2,2]]\n",
    "k = 1\n",
    "\n",
    "sol = Solution()\n",
    "sol.kClosest(points, k)"
   ]
  },
  {
   "cell_type": "code",
   "execution_count": null,
   "metadata": {},
   "outputs": [],
   "source": [
    "class Solution(object):\n",
    "    def kClosest(self, points, k):\n",
    "        \"\"\"\n",
    "        :type points: List[List[int]]\n",
    "        :type k: int\n",
    "        :rtype: List[List[int]]\n",
    "        \"\"\"\n",
    "        distance = [self.cal_distance(p1, p2) for p1, p2 in points]\n",
    "        left, right = 0, max(distance)\n",
    "        remaining = [i for i in range(len(points))]\n",
    "        res = []\n",
    "        while k>0:\n",
    "            mid = (left + right)/2\n",
    "            closer, farther = self.split(remaining, distance, mid)\n",
    "            if len(closer) > k:\n",
    "                right = mid\n",
    "                remaining = closer\n",
    "            else:\n",
    "                k -= len(closer)\n",
    "                res.extend(closer)\n",
    "                remaining = farther\n",
    "                left = mid\n",
    "                \n",
    "        return [points[i] for i in res]\n",
    "    \n",
    "        \n",
    "    def cal_distance(self, pt1, pt2):\n",
    "        return (pt1 **2 + pt2 **2)**(1/2)\n",
    "    \n",
    "    def split(self, remaining, distance, mid):\n",
    "        closer = []\n",
    "        farther = []\n",
    "        for i in remaining:\n",
    "            dis = distance[i]\n",
    "            if dis <= mid:\n",
    "                closer.append(i)\n",
    "            else:\n",
    "                farther.append(i)\n",
    "                \n",
    "        return [closer, farther]\n",
    "        \n",
    "points = [[1,3],[-2,2]]\n",
    "k = 2\n",
    "\n",
    "sol = Solution()\n",
    "sol.kClosest(points, k)"
   ]
  }
 ],
 "metadata": {
  "kernelspec": {
   "display_name": "Python 3",
   "language": "python",
   "name": "python3"
  },
  "language_info": {
   "codemirror_mode": {
    "name": "ipython",
    "version": 3
   },
   "file_extension": ".py",
   "mimetype": "text/x-python",
   "name": "python",
   "nbconvert_exporter": "python",
   "pygments_lexer": "ipython3",
   "version": "3.7.6"
  }
 },
 "nbformat": 4,
 "nbformat_minor": 4
}
