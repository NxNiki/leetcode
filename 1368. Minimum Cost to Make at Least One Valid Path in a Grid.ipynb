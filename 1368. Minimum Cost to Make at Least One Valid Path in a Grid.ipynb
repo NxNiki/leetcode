{
 "cells": [
  {
   "cell_type": "code",
   "execution_count": 18,
   "metadata": {},
   "outputs": [
    {
     "data": {
      "text/plain": [
       "sys.version_info(major=3, minor=7, micro=6, releaselevel='final', serial=0)"
      ]
     },
     "execution_count": 18,
     "metadata": {},
     "output_type": "execute_result"
    }
   ],
   "source": [
    "## \n",
    "import math\n",
    "from collections import defaultdict, deque\n",
    "\n",
    "d = defaultdict(lambda: math.inf, {(0,0): 0})\n",
    "d[1,1]\n",
    "\n",
    "import sys\n",
    "sys.version_info"
   ]
  },
  {
   "cell_type": "code",
   "execution_count": 26,
   "metadata": {},
   "outputs": [
    {
     "name": "stdout",
     "output_type": "stream",
     "text": [
      "0 0 0\n",
      "0 0 1\n",
      "0 0 2\n",
      "0 0 3\n",
      "1 1 0\n",
      "1 1 1\n",
      "1 1 2\n",
      "1 1 3\n",
      "2 2 0\n",
      "2 2 1\n",
      "2 2 2\n",
      "2 2 3\n",
      "3 3 0\n",
      "3 3 1\n",
      "3 3 2\n",
      "3 3 3\n"
     ]
    },
    {
     "data": {
      "text/plain": [
       "3"
      ]
     },
     "execution_count": 26,
     "metadata": {},
     "output_type": "execute_result"
    }
   ],
   "source": [
    "from typing import Tuple, Iterator\n",
    "\n",
    "class Solution:\n",
    "    def minCost(self, grid) -> int:\n",
    "        m, n = len(grid), len(grid[0])\n",
    "\n",
    "        # Iterate over the neighborhood of a position in the grid.\n",
    "        # Only neighbors within the grid boundarys are yielded.\n",
    "        # The cost to visit the neighbor is 0 if the current positions\n",
    "        # sign points to the neighbor. Otherwise it is 1.\n",
    "        def neighborhood(y: int, x: int) -> Iterator[Tuple[int, int, int]]:\n",
    "            if x + 1 < n:\n",
    "                yield y, x + 1, int(grid[y][x] != 1)\n",
    "            if x > 0:\n",
    "                yield y, x - 1, int(grid[y][x] != 2)\n",
    "            if y + 1 < m:\n",
    "                yield y + 1, x, int(grid[y][x] != 3)\n",
    "            if y > 0:\n",
    "                yield y - 1, x, int(grid[y][x] != 4)\n",
    "\n",
    "        # The initial cost to visit a node is infinity.\n",
    "        # Only the start node can be reached with a cost of 0.\n",
    "        min_cost = defaultdict(lambda: math.inf, {(0, 0): 0})\n",
    "        queue = deque([(0, 0, 0)])\n",
    "\n",
    "        while queue:\n",
    "            cost, y, x = queue.popleft()\n",
    "            print(cost, y, x)\n",
    "\n",
    "            # We can skip queue entries if we have already found a more\n",
    "            # efficient path to their position.\n",
    "            if cost != min_cost[y, x]:\n",
    "                print('continue')\n",
    "                continue\n",
    "\n",
    "            # The target position has been found and we can return the cost.\n",
    "            if y == m - 1 and x == n - 1:\n",
    "                return cost\n",
    "\n",
    "            # Visit the neighbors of the current position if the path over the\n",
    "            # current node improves the minimum cost to reach them.\n",
    "            for y2, x2, step_cost in neighborhood(y, x):\n",
    "                cost2 = cost + step_cost\n",
    "                if cost2 < min_cost[y2, x2]:\n",
    "                    min_cost[y2, x2] = cost2\n",
    "\n",
    "                    # Append a neighbor to the left of the queue if there is\n",
    "                    # no additional step cost. Otherwise append the neighbor\n",
    "                    # to the right.\n",
    "                    if not step_cost:\n",
    "                        queue.appendleft((cost2, y2, x2))\n",
    "                    else:\n",
    "                        queue.append((cost2, y2, x2))\n",
    "\n",
    "        return 0\n",
    "    \n",
    "\n",
    "grid = [[1,1,1,1],[2,2,2,2],[1,1,1,1],[2,2,2,2]]\n",
    "# grid = [[1,1,3],[3,2,2],[1,1,4]]\n",
    "# grid = [[1,2],[4,3]]\n",
    "\n",
    "sol = Solution()\n",
    "sol.minCost(grid)"
   ]
  }
 ],
 "metadata": {
  "kernelspec": {
   "display_name": "Python 3",
   "language": "python",
   "name": "python3"
  },
  "language_info": {
   "codemirror_mode": {
    "name": "ipython",
    "version": 3
   },
   "file_extension": ".py",
   "mimetype": "text/x-python",
   "name": "python",
   "nbconvert_exporter": "python",
   "pygments_lexer": "ipython3",
   "version": "3.7.6"
  }
 },
 "nbformat": 4,
 "nbformat_minor": 4
}
