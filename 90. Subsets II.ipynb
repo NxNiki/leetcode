{
 "cells": [
  {
   "cell_type": "code",
   "execution_count": 17,
   "metadata": {},
   "outputs": [
    {
     "name": "stdout",
     "output_type": "stream",
     "text": [
      "[]\n",
      "0 0\n",
      "-----\n",
      "[1]\n",
      "1 1\n",
      "-----\n",
      "[1, 2]\n",
      "2 2\n",
      "-----\n",
      "[1, 2, 2]\n",
      "1 2\n",
      "-----\n",
      "skip\n",
      "0 1\n",
      "-----\n",
      "[2]\n",
      "2 2\n",
      "-----\n",
      "[2, 2]\n",
      "0 2\n",
      "-----\n",
      "skip\n"
     ]
    },
    {
     "data": {
      "text/plain": [
       "[[], [1], [1, 2], [1, 2, 2], [2], [2, 2]]"
      ]
     },
     "execution_count": 17,
     "metadata": {},
     "output_type": "execute_result"
    }
   ],
   "source": [
    "class Solution:\n",
    "    def subsetsWithDup(self, nums):\n",
    "        \n",
    "        def backtracking(cur, start):\n",
    "            res.append(cur.copy())\n",
    "            print(cur)\n",
    "            for i in range(start, len(nums)):\n",
    "                print(start, i)\n",
    "                print('-----')\n",
    "                if i>start and nums[i]==nums[i-1]:\n",
    "                    print('skip')\n",
    "                    continue\n",
    "                else:\n",
    "                    cur.append(nums[i])\n",
    "                    backtracking(cur, i+1)\n",
    "                    cur.pop()\n",
    "                \n",
    "        \n",
    "        \n",
    "        nums.sort()\n",
    "        res = []\n",
    "        backtracking([], 0)\n",
    "        return res\n",
    "    \n",
    "\n",
    "nums = [1,2,2]\n",
    "s = Solution()\n",
    "s.subsetsWithDup(nums)"
   ]
  }
 ],
 "metadata": {
  "kernelspec": {
   "display_name": "Python 3",
   "language": "python",
   "name": "python3"
  },
  "language_info": {
   "codemirror_mode": {
    "name": "ipython",
    "version": 3
   },
   "file_extension": ".py",
   "mimetype": "text/x-python",
   "name": "python",
   "nbconvert_exporter": "python",
   "pygments_lexer": "ipython3",
   "version": "3.7.6"
  }
 },
 "nbformat": 4,
 "nbformat_minor": 4
}
