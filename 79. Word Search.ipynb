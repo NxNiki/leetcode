{
 "cells": [
  {
   "cell_type": "code",
   "execution_count": 15,
   "metadata": {},
   "outputs": [
    {
     "data": {
      "text/plain": [
       "False"
      ]
     },
     "execution_count": 15,
     "metadata": {},
     "output_type": "execute_result"
    }
   ],
   "source": [
    "class Solution:\n",
    "    def exist(self, board, word: str) -> bool:\n",
    "        \n",
    "        def backtrack(i, j, w):\n",
    "            if w == len(word):\n",
    "                return True\n",
    "            \n",
    "            if not (0<=i<nrow and 0<=j<ncol) or board[i][j]!=word[w]:\n",
    "#                 print(i, j, w)\n",
    "                return\n",
    "            \n",
    "            if board[i][j]==word[w]:\n",
    "                board[i][j] = '#'\n",
    "                res =  (backtrack(i+1, j, w+1) or\n",
    "                        backtrack(i, j+1, w+1) or\n",
    "                        backtrack(i, j-1, w+1) or\n",
    "                        backtrack(i-1, j, w+1))\n",
    "                board[i][j] = word[w]\n",
    "                return res\n",
    "            \n",
    "        nrow = len(board)\n",
    "        ncol = len(board[0])\n",
    "        \n",
    "        for i in range(nrow):\n",
    "            for j in range(ncol):\n",
    "                if backtrack(i, j, 0):\n",
    "                    return True\n",
    "            \n",
    "        return False\n",
    "        \n",
    "# board = [[\"A\",\"B\",\"C\",\"E\"],[\"S\",\"F\",\"C\",\"S\"],[\"A\",\"D\",\"E\",\"E\"]]\n",
    "# word = 'SEE'\n",
    "\n",
    "# board = [[\"A\",\"B\",\"C\",\"E\"],[\"S\",\"F\",\"C\",\"S\"],[\"A\",\"D\",\"E\",\"E\"]]\n",
    "# word = 'ABCB'\n",
    "\n",
    "board = [[\"a\",\"a\",\"a\",\"a\"],[\"a\",\"a\",\"a\",\"a\"],[\"a\",\"a\",\"a\",\"a\"]]\n",
    "word = \"aaaaaaaaaaaaa\"\n",
    "\n",
    "s = Solution()\n",
    "s.exist(board, word)"
   ]
  },
  {
   "cell_type": "code",
   "execution_count": null,
   "metadata": {},
   "outputs": [],
   "source": []
  }
 ],
 "metadata": {
  "kernelspec": {
   "display_name": "Python 3",
   "language": "python",
   "name": "python3"
  },
  "language_info": {
   "codemirror_mode": {
    "name": "ipython",
    "version": 3
   },
   "file_extension": ".py",
   "mimetype": "text/x-python",
   "name": "python",
   "nbconvert_exporter": "python",
   "pygments_lexer": "ipython3",
   "version": "3.7.6"
  }
 },
 "nbformat": 4,
 "nbformat_minor": 4
}
