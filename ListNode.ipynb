{
 "cells": [
  {
   "cell_type": "code",
   "execution_count": 28,
   "metadata": {},
   "outputs": [],
   "source": [
    "class ListNode:\n",
    "    def __init__(self, val=0, next=None):\n",
    "        self.val = val\n",
    "        self.next = next\n",
    "        \n",
    "    def show(self):\n",
    "        while self:\n",
    "            print(self.val)\n",
    "            self = self.next\n",
    "            \n",
    "        \n",
    "class Solution:\n",
    "    def deleteDuplicates(self, head: [ListNode]) -> [ListNode]:\n",
    "        dummy = prev = ListNode(0, head)\n",
    "        \n",
    "        while head:\n",
    "            if head.next and head.next.val == head.val:\n",
    "                while head.next and head.next.val==head.val:\n",
    "                    head = head.next\n",
    "                head = head.next\n",
    "                prev.next = head # this will also\n",
    "            else:\n",
    "                prev = prev.next # this does not affect dummy\n",
    "                head = head.next\n",
    "                \n",
    "        \n",
    "        return dummy.next"
   ]
  },
  {
   "cell_type": "code",
   "execution_count": 24,
   "metadata": {},
   "outputs": [
    {
     "data": {
      "text/plain": [
       "10"
      ]
     },
     "execution_count": 24,
     "metadata": {},
     "output_type": "execute_result"
    }
   ],
   "source": [
    "h = ListNode(10, None)\n",
    "h.val"
   ]
  },
  {
   "cell_type": "code",
   "execution_count": 29,
   "metadata": {},
   "outputs": [],
   "source": [
    "def createLinkList(l):\n",
    "    head = ListNode(val = l[0])\n",
    "    p = head\n",
    "    for i in l[1:]:\n",
    "        p.next = ListNode(val = i)\n",
    "        p = p.next\n",
    "    return head\n",
    "        \n",
    "    "
   ]
  },
  {
   "cell_type": "code",
   "execution_count": 30,
   "metadata": {},
   "outputs": [
    {
     "name": "stdout",
     "output_type": "stream",
     "text": [
      "1\n",
      "3\n",
      "3\n",
      "4\n",
      "5\n",
      "6\n"
     ]
    }
   ],
   "source": [
    "head = createLinkList([1,3,3,4,5,6])\n",
    "head.show()"
   ]
  },
  {
   "cell_type": "code",
   "execution_count": 22,
   "metadata": {},
   "outputs": [
    {
     "data": {
      "text/plain": [
       "3"
      ]
     },
     "execution_count": 22,
     "metadata": {},
     "output_type": "execute_result"
    }
   ],
   "source": [
    "s = Solution()\n",
    "head2 = s.deleteDuplicates(head)\n",
    "head2.next.val"
   ]
  }
 ],
 "metadata": {
  "kernelspec": {
   "display_name": "Python 3",
   "language": "python",
   "name": "python3"
  },
  "language_info": {
   "codemirror_mode": {
    "name": "ipython",
    "version": 3
   },
   "file_extension": ".py",
   "mimetype": "text/x-python",
   "name": "python",
   "nbconvert_exporter": "python",
   "pygments_lexer": "ipython3",
   "version": "3.7.6"
  }
 },
 "nbformat": 4,
 "nbformat_minor": 4
}
