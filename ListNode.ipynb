{
 "cells": [
  {
   "cell_type": "code",
   "execution_count": 85,
   "metadata": {},
   "outputs": [],
   "source": [
    "class ListNode:\n",
    "    def __init__(self, val=0, next=None):\n",
    "        self.val = val\n",
    "        self.next = next\n",
    "        \n",
    "    def createLinkList(l):\n",
    "        head = ListNode(val = l[0])\n",
    "        p = head\n",
    "        for i in l[1:]:\n",
    "            p.next = ListNode(val = i)\n",
    "            p = p.next\n",
    "        return head\n",
    "        \n",
    "    def show(self):\n",
    "        res = []\n",
    "        while self:\n",
    "            res.append(self.val)\n",
    "            self = self.next\n",
    "        return res\n",
    "            \n",
    "        \n",
    "class Solution:\n",
    "    def deleteDuplicates(self, head: [ListNode]) -> [ListNode]:\n",
    "        \n",
    "        dummy = prev = ListNode(0, head)\n",
    "        # if we update head, dummy and prev will also be changed?\n",
    "        \n",
    "        while head:\n",
    "            print('---')\n",
    "            print('dummy', dummy.show())\n",
    "            print('prev', prev.show())\n",
    "            print('head', head.show())\n",
    "            if head.next and head.next.val == head.val:\n",
    "                while head.next and head.next.val==head.val:\n",
    "                    head = head.next\n",
    "                head = head.next\n",
    "                prev.next = head # this will also\n",
    "            else:\n",
    "                prev = prev.next # this does not affect dummy\n",
    "                head = head.next\n",
    "                \n",
    "        \n",
    "        return dummy.next"
   ]
  },
  {
   "cell_type": "code",
   "execution_count": 86,
   "metadata": {},
   "outputs": [
    {
     "data": {
      "text/plain": [
       "[1, 3, 3, 4, 5, 6]"
      ]
     },
     "execution_count": 86,
     "metadata": {},
     "output_type": "execute_result"
    }
   ],
   "source": [
    "head = ListNode.createLinkList([1,3,3,4,5,6])\n",
    "head.show()"
   ]
  },
  {
   "cell_type": "code",
   "execution_count": 87,
   "metadata": {},
   "outputs": [
    {
     "name": "stdout",
     "output_type": "stream",
     "text": [
      "---\n",
      "dummy [0, 1, 3, 3, 4, 5, 6]\n",
      "prev [0, 1, 3, 3, 4, 5, 6]\n",
      "head [1, 3, 3, 4, 5, 6]\n",
      "---\n",
      "dummy [0, 1, 3, 3, 4, 5, 6]\n",
      "prev [1, 3, 3, 4, 5, 6]\n",
      "head [3, 3, 4, 5, 6]\n",
      "---\n",
      "dummy [0, 1, 4, 5, 6]\n",
      "prev [1, 4, 5, 6]\n",
      "head [4, 5, 6]\n",
      "---\n",
      "dummy [0, 1, 4, 5, 6]\n",
      "prev [4, 5, 6]\n",
      "head [5, 6]\n",
      "---\n",
      "dummy [0, 1, 4, 5, 6]\n",
      "prev [5, 6]\n",
      "head [6]\n"
     ]
    },
    {
     "data": {
      "text/plain": [
       "[1, 4, 5, 6]"
      ]
     },
     "execution_count": 87,
     "metadata": {},
     "output_type": "execute_result"
    }
   ],
   "source": [
    "s = Solution()\n",
    "head2 = s.deleteDuplicates(head)\n",
    "head2.show()"
   ]
  },
  {
   "cell_type": "code",
   "execution_count": null,
   "metadata": {},
   "outputs": [],
   "source": []
  },
  {
   "cell_type": "code",
   "execution_count": null,
   "metadata": {},
   "outputs": [],
   "source": []
  },
  {
   "cell_type": "code",
   "execution_count": null,
   "metadata": {},
   "outputs": [],
   "source": []
  }
 ],
 "metadata": {
  "kernelspec": {
   "display_name": "Python 3",
   "language": "python",
   "name": "python3"
  },
  "language_info": {
   "codemirror_mode": {
    "name": "ipython",
    "version": 3
   },
   "file_extension": ".py",
   "mimetype": "text/x-python",
   "name": "python",
   "nbconvert_exporter": "python",
   "pygments_lexer": "ipython3",
   "version": "3.7.6"
  }
 },
 "nbformat": 4,
 "nbformat_minor": 4
}
