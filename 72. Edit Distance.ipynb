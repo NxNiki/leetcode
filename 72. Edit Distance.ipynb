{
 "cells": [
  {
   "cell_type": "code",
   "execution_count": null,
   "metadata": {},
   "outputs": [],
   "source": [
    "class Solution:\n",
    "    def minDistance(self, word1: str, word2: str) -> int:\n",
    "        \n",
    "        num1 = len(word1)\n",
    "        num2 = len(word2)\n",
    "        \n",
    "        dp = [[float('inf')] * (num2+1) for _ in range(num1+1)]\n",
    "        \n",
    "        for i in range(num1+1):\n",
    "            dp[i][0] = i\n",
    "        for j in range(num2+1):\n",
    "            dp[0][j] = j\n",
    "            \n",
    "        for i in range(1, num1+1):\n",
    "            for j in range(1, num2+1):\n",
    "                if word1[i-1]==word2[j-1]:\n",
    "                    dp[i][j] = dp[i-1][j-1]\n",
    "                else:\n",
    "                    dp[i][j] = 1 + min(dp[i-1][j], dp[i][j-1], dp[i-1][j-1])\n",
    "                    \n",
    "        return dp[i][j]\n",
    "    \n",
    "        \n",
    "#         def recurse(word1, word2, i, j):\n",
    "#             if i==len(word1):\n",
    "#                 return len(word2)-j\n",
    "#             if j==len(word2):\n",
    "#                 return len(word1)-i\n",
    "            \n",
    "#             if word1[i]==word2[j]:\n",
    "#                 return recurse(word1, word2, i+1, j+1)\n",
    "#             else:\n",
    "#                 return (1 + min(recurse(word1, word2, i+1, j), # remove\n",
    "#                         recurse(word1, word2, i+1, j+1), # replace\n",
    "#                         recurse(word1, word2, i, j+1)) # insert\n",
    "#                        )\n",
    "            \n",
    "#         return recurse(word1, word2, 0, 0)\n",
    "\n",
    "        "
   ]
  },
  {
   "cell_type": "code",
   "execution_count": 3,
   "metadata": {},
   "outputs": [
    {
     "name": "stdout",
     "output_type": "stream",
     "text": [
      "0 0\n",
      "0 1\n",
      "0 2\n",
      "0 3\n",
      "1 2\n",
      "1 3\n",
      "2 2\n",
      "2 3\n",
      "3 2\n",
      "4 3\n",
      "3 3\n",
      "2 3\n",
      "1 3\n",
      "1 1\n",
      "2 2\n",
      "1 2\n",
      "1 0\n",
      "1 1\n",
      "2 0\n",
      "3 1\n",
      "3 2\n",
      "4 1\n",
      "4 2\n",
      "4 3\n",
      "5 2\n",
      "5 3\n",
      "5 1\n",
      "5 2\n",
      "4 2\n",
      "2 1\n",
      "2 2\n",
      "3 1\n",
      "3 2\n",
      "1 1\n"
     ]
    },
    {
     "data": {
      "text/plain": [
       "3"
      ]
     },
     "execution_count": 3,
     "metadata": {},
     "output_type": "execute_result"
    }
   ],
   "source": [
    "class Solution:\n",
    "    def minDistance(self, word1: str, word2: str) -> int:\n",
    "        \n",
    "        m, n = len(word1), len(word2)\n",
    "        dp = [[-1]*(n + 1) for _ in range(m + 1)]\n",
    "        \n",
    "        def recurse(i, j):\n",
    "            print(i, j)\n",
    "            if dp[i][j]<0:\n",
    "                if i == m:\n",
    "                    dp[i][j] = n-j\n",
    "                elif j == n:\n",
    "                    dp[i][j] = m-i\n",
    "\n",
    "                elif word1[i]==word2[j]:\n",
    "                    dp[i][j] = recurse(i+1, j+1)\n",
    "                else:\n",
    "                    dp[i][j] = min(recurse(i, j+1), recurse(i+1, j), recurse(i+1, j+1)) + 1\n",
    "                \n",
    "            return dp[i][j]\n",
    "        \n",
    "        return recurse(0, 0)\n",
    "    \n",
    "w1 = \"horse\"\n",
    "w2 = \"ros\"\n",
    "\n",
    "s = Solution()\n",
    "s.minDistance(w1, w2)"
   ]
  }
 ],
 "metadata": {
  "kernelspec": {
   "display_name": "Python 3",
   "language": "python",
   "name": "python3"
  },
  "language_info": {
   "codemirror_mode": {
    "name": "ipython",
    "version": 3
   },
   "file_extension": ".py",
   "mimetype": "text/x-python",
   "name": "python",
   "nbconvert_exporter": "python",
   "pygments_lexer": "ipython3",
   "version": "3.7.6"
  }
 },
 "nbformat": 4,
 "nbformat_minor": 4
}
