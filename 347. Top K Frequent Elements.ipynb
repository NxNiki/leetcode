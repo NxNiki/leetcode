{
 "cells": [
  {
   "cell_type": "code",
   "execution_count": 60,
   "metadata": {},
   "outputs": [
    {
     "name": "stdout",
     "output_type": "stream",
     "text": [
      "1\n",
      "[3, 2, 1]\n"
     ]
    },
    {
     "data": {
      "text/plain": [
       "[2, 1]"
      ]
     },
     "execution_count": 60,
     "metadata": {},
     "output_type": "execute_result"
    }
   ],
   "source": [
    "from collections import Counter\n",
    "import random\n",
    "\n",
    "class Solution(object):\n",
    "    def topKFrequent(self, nums, k):\n",
    "        \"\"\"\n",
    "        :type nums: List[int]\n",
    "        :type k: int\n",
    "        :rtype: List[int]\n",
    "        \"\"\"\n",
    "        count = Counter(nums)\n",
    "        unique = list(count.keys())\n",
    "        \n",
    "        def partition(left, right):\n",
    "            \n",
    "            pivot_index = random.randint(left, right)\n",
    "            print(pivot_index)\n",
    "            unique[pivot_index], unique[right] = unique[right], unique[pivot_index]\n",
    "            start = left\n",
    "            for i in range(left, right):\n",
    "                if count[unique[i]] < count[unique[right]]:\n",
    "                    unique[i], unique[start] = unique[start], unique[i]\n",
    "                    start += 1\n",
    "            \n",
    "            unique[start], unique[right] = unique[right], unique[start]\n",
    "            print(unique)\n",
    "            return start\n",
    "        \n",
    "        def quick_sort(left, right):\n",
    "            \n",
    "            if left >= right: # this should be >= rather than <=, == is also ok.\n",
    "                return\n",
    "            pos = partition(left, right)\n",
    "            \n",
    "            if pos == len(nums) - k:\n",
    "                return\n",
    "            if pos < len(nums) - k:\n",
    "                quick_sort(left, pos - 1)\n",
    "            else:\n",
    "                quick_sort(pos - 1, right)\n",
    "            \n",
    "        quick_sort(0, len(unique) - 1) # make sure this is unqiue rather than nums\n",
    "        return unique[len(unique) - k:]\n",
    "    \n",
    "sol = Solution()\n",
    "nums = [1,1,1,2,2,3]\n",
    "k = 2\n",
    "sol.topKFrequent(nums, k)\n",
    "                    "
   ]
  },
  {
   "cell_type": "code",
   "execution_count": 61,
   "metadata": {},
   "outputs": [
    {
     "name": "stdout",
     "output_type": "stream",
     "text": [
      "Counter({-1: 2, 2: 2, 4: 1, 1: 1, 3: 1})\n",
      "1\n",
      "[1, 3, -1, 2, 4]\n"
     ]
    },
    {
     "data": {
      "text/plain": [
       "[2, 4]"
      ]
     },
     "execution_count": 61,
     "metadata": {},
     "output_type": "execute_result"
    }
   ],
   "source": [
    "# each time we run, we get different results...\n",
    "\n",
    "nums = [4,1,-1,2,-1,2,3]\n",
    "print(Counter(nums))\n",
    "k = 2\n",
    "sol.topKFrequent(nums, k)\n",
    "\n"
   ]
  }
 ],
 "metadata": {
  "kernelspec": {
   "display_name": "Python 3",
   "language": "python",
   "name": "python3"
  },
  "language_info": {
   "codemirror_mode": {
    "name": "ipython",
    "version": 3
   },
   "file_extension": ".py",
   "mimetype": "text/x-python",
   "name": "python",
   "nbconvert_exporter": "python",
   "pygments_lexer": "ipython3",
   "version": "3.7.6"
  }
 },
 "nbformat": 4,
 "nbformat_minor": 4
}
