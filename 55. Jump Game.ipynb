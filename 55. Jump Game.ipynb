{
 "cells": [
  {
   "cell_type": "code",
   "execution_count": 7,
   "metadata": {},
   "outputs": [
    {
     "data": {
      "text/plain": [
       "False"
      ]
     },
     "execution_count": 7,
     "metadata": {},
     "output_type": "execute_result"
    }
   ],
   "source": [
    "## top down DP:\n",
    "\n",
    "class Solution:\n",
    "    def canJump(self, nums) -> bool:\n",
    "        \n",
    "        def recurse(i):\n",
    "            \n",
    "            if i<=0:\n",
    "                return nums[i]\n",
    "            \n",
    "            if recurse(i-1)>=i:\n",
    "                return max(recurse(i-1), i+nums[i])\n",
    "            else:\n",
    "                return recurse(i-1)\n",
    "        \n",
    "        pos = recurse(len(nums)-2)\n",
    "        return pos>=(len(nums)-1)\n",
    "    \n",
    "s = Solution()\n",
    "s.canJump([0,2,3])"
   ]
  },
  {
   "cell_type": "code",
   "execution_count": 9,
   "metadata": {},
   "outputs": [
    {
     "data": {
      "text/plain": [
       "True"
      ]
     },
     "execution_count": 9,
     "metadata": {},
     "output_type": "execute_result"
    }
   ],
   "source": [
    "## bottom up:\n",
    "\n",
    "class Solution:\n",
    "    def canJump(self, nums) -> bool:\n",
    "        \n",
    "        dp = [0]*len(nums)\n",
    "        dp[0] = nums[0]\n",
    "        for i in range(1, len(nums)):\n",
    "            if dp[i-1]>=i:\n",
    "                dp[i] = max(i+nums[i], dp[i-1])\n",
    "            else:\n",
    "                return False\n",
    "            \n",
    "        return dp[len(nums)-2]>=(len(nums)-1)\n",
    "    \n",
    "s = Solution()\n",
    "s.canJump([0,2,3])\n",
    "s.canJump([1,2,3])"
   ]
  }
 ],
 "metadata": {
  "kernelspec": {
   "display_name": "Python 3",
   "language": "python",
   "name": "python3"
  },
  "language_info": {
   "codemirror_mode": {
    "name": "ipython",
    "version": 3
   },
   "file_extension": ".py",
   "mimetype": "text/x-python",
   "name": "python",
   "nbconvert_exporter": "python",
   "pygments_lexer": "ipython3",
   "version": "3.7.6"
  }
 },
 "nbformat": 4,
 "nbformat_minor": 4
}
