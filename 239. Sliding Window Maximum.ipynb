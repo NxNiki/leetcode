{
 "cells": [
  {
   "cell_type": "code",
   "execution_count": 10,
   "metadata": {},
   "outputs": [
    {
     "name": "stdout",
     "output_type": "stream",
     "text": [
      "1 deque([1])\n",
      "2 deque([1, 2])\n",
      "3 deque([1, 3])\n",
      "4 deque([3, 4])\n",
      "5 deque([5])\n"
     ]
    },
    {
     "data": {
      "text/plain": [
       "[3, 3, 2, 5]"
      ]
     },
     "execution_count": 10,
     "metadata": {},
     "output_type": "execute_result"
    }
   ],
   "source": [
    "from collections import deque\n",
    "class Solution:\n",
    "    def maxSlidingWindow(self, nums, k: int):\n",
    "        if k == 1:\n",
    "            return nums\n",
    "        \n",
    "        def clean_queue(i):\n",
    "            if deq[0] == i - k:\n",
    "                deq.popleft()\n",
    "                \n",
    "            while deq and nums[deq[-1]] < nums[i]: # we made mistake by: deq[-1] < nums[i], deq stores the index rather the value of nums\n",
    "                deq.pop()\n",
    "                \n",
    "        deq = deque([0])\n",
    "        first_max = nums[0]\n",
    "        for i in range(1, k):\n",
    "            \n",
    "            clean_queue(i)\n",
    "            deq.append(i)\n",
    "            print(i, deq)\n",
    "            \n",
    "            if nums[i] > first_max:\n",
    "                first_max = nums[i]\n",
    "                \n",
    "        output = [first_max]\n",
    "        \n",
    "        for i in range(k, len(nums)):\n",
    "            \n",
    "            clean_queue(i)\n",
    "            deq.append(i)\n",
    "            print(i, deq)\n",
    "            \n",
    "            output.append(nums[deq[0]])\n",
    "            \n",
    "        return output\n",
    "            \n",
    "\n",
    "sol = Solution()\n",
    "\n",
    "nums = [1,3,1,2,0,5]\n",
    "k = 3\n",
    "sol.maxSlidingWindow(nums, k)"
   ]
  }
 ],
 "metadata": {
  "kernelspec": {
   "display_name": "Python 3",
   "language": "python",
   "name": "python3"
  },
  "language_info": {
   "codemirror_mode": {
    "name": "ipython",
    "version": 3
   },
   "file_extension": ".py",
   "mimetype": "text/x-python",
   "name": "python",
   "nbconvert_exporter": "python",
   "pygments_lexer": "ipython3",
   "version": "3.7.6"
  }
 },
 "nbformat": 4,
 "nbformat_minor": 4
}
