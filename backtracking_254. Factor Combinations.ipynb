{
 "cells": [
  {
   "cell_type": "code",
   "execution_count": 14,
   "metadata": {},
   "outputs": [
    {
     "name": "stdout",
     "output_type": "stream",
     "text": [
      "6\n",
      "3\n",
      "1\n",
      "[2, 2, 3]\n",
      "2\n",
      "1\n",
      "[2, 6]\n",
      "4\n",
      "1\n",
      "[3, 4]\n",
      "3\n",
      "2\n",
      "1\n",
      "[12]\n"
     ]
    },
    {
     "data": {
      "text/plain": [
       "[[2, 2, 3], [2, 6], [3, 4]]"
      ]
     },
     "execution_count": 14,
     "metadata": {},
     "output_type": "execute_result"
    }
   ],
   "source": [
    "class Solution:\n",
    "    def getFactors(self, n: int):\n",
    "        \n",
    "        res = []\n",
    "        \n",
    "        def backtracking(curr, n, start):\n",
    "#             print(curr)\n",
    "            \n",
    "            if n <= 1:\n",
    "                print(curr)\n",
    "                if len(curr) > 1:\n",
    "                    res.append(curr.copy())\n",
    "                    \n",
    "            i = start      \n",
    "            while i <= n:\n",
    "                if n % i == 0:\n",
    "#                     print(i)\n",
    "                    curr.append(i)\n",
    "                    print(n//i)\n",
    "                    backtracking(curr, n // i, i)\n",
    "                    curr.pop()\n",
    "                \n",
    "                i += 1\n",
    "                    \n",
    "        backtracking([], n, 2)\n",
    "        \n",
    "        return res\n",
    "    \n",
    "sol = Solution()\n",
    "n = 12\n",
    "sol.getFactors(12)"
   ]
  },
  {
   "cell_type": "code",
   "execution_count": 13,
   "metadata": {},
   "outputs": [
    {
     "data": {
      "text/plain": [
       "[[2, 2, 3], [2, 6], [3, 4]]"
      ]
     },
     "execution_count": 13,
     "metadata": {},
     "output_type": "execute_result"
    }
   ],
   "source": [
    "class Solution:\n",
    "    def getFactors(self, n: int):\n",
    "        \n",
    "        res = []\n",
    "        \n",
    "        def backtracking(curr, n, start):\n",
    "            \n",
    "            if n == 1:\n",
    "                if len(curr) > 1:\n",
    "                    res.append(curr.copy())\n",
    "                    \n",
    "            for i in range(start, n + 1):\n",
    "                if n % i == 0:\n",
    "                    curr.append(i)\n",
    "                    backtracking(curr, n // i, i)\n",
    "                    curr.pop()\n",
    "                    \n",
    "        backtracking([], n, 2)\n",
    "        \n",
    "        return res\n",
    "    \n",
    "sol = Solution()\n",
    "n = 12\n",
    "sol.getFactors(12)"
   ]
  },
  {
   "cell_type": "code",
   "execution_count": 11,
   "metadata": {},
   "outputs": [
    {
     "data": {
      "text/plain": [
       "[1, 2]"
      ]
     },
     "execution_count": 11,
     "metadata": {},
     "output_type": "execute_result"
    }
   ],
   "source": [
    "curr = [1,2,3]\n",
    "curr.pop()\n",
    "curr"
   ]
  }
 ],
 "metadata": {
  "kernelspec": {
   "display_name": "Python 3",
   "language": "python",
   "name": "python3"
  },
  "language_info": {
   "codemirror_mode": {
    "name": "ipython",
    "version": 3
   },
   "file_extension": ".py",
   "mimetype": "text/x-python",
   "name": "python",
   "nbconvert_exporter": "python",
   "pygments_lexer": "ipython3",
   "version": "3.7.6"
  }
 },
 "nbformat": 4,
 "nbformat_minor": 4
}
