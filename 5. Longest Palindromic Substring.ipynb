{
 "cells": [
  {
   "cell_type": "code",
   "execution_count": 16,
   "metadata": {},
   "outputs": [],
   "source": [
    "\"\"\"\n",
    "Given a string s, return the longest palindromic substring in s.\n",
    "my solution:\n",
    "\"\"\"\n",
    "\n",
    "class Solution:\n",
    "    def longestPalindrome(self, s: str) -> str:\n",
    "\n",
    "        l = len(s)\n",
    "        \n",
    "        while l>0:\n",
    "            \n",
    "            for start_i in range(len(s)-l+1):\n",
    "                s_sub = s[start_i: start_i+l]\n",
    "                s_reverse = s_sub[::-1]\n",
    "                print(s_sub)\n",
    "                print(s_reverse)\n",
    "                if s_sub==s_reverse:\n",
    "                    return(s_sub)\n",
    "\n",
    "            l-=1\n"
   ]
  },
  {
   "cell_type": "code",
   "execution_count": 19,
   "metadata": {},
   "outputs": [],
   "source": [
    "# others:\n",
    "\n",
    "class Solution:\n",
    "    def longestPalindrome(self, s: str) -> str:\n",
    "        longest = (0,0) \n",
    "        n = len(s)\n",
    "        \n",
    "        def centers():\n",
    "            l = n//2\n",
    "            u = l+1\n",
    "            while 0 <= l or u < n:\n",
    "                if l >= 0:\n",
    "                    yield l\n",
    "                    l -= 1\n",
    "                if u < n:\n",
    "                    yield u\n",
    "                    u += 1\n",
    "                    \n",
    "        for center in centers():\n",
    "            clip = min(center, n-center)\n",
    "            if clip*2 < longest[1]-longest[0]:\n",
    "                continue\n",
    "            \n",
    "            for l, u in [(center, center+1), (center, center)]:\n",
    "                while l > 0 and u < n and s[l-1] == s[u]:\n",
    "                        l -= 1\n",
    "                        u += 1\n",
    "                longest = max(longest, (l,u), key=lambda p: p[1]-p[0])\n",
    "        return s[longest[0]:longest[1]]"
   ]
  },
  {
   "cell_type": "code",
   "execution_count": 25,
   "metadata": {},
   "outputs": [
    {
     "name": "stdout",
     "output_type": "stream",
     "text": [
      "index:0\n",
      "5\n",
      "index:1\n",
      "6\n",
      "index:2\n",
      "4\n",
      "index:3\n",
      "7\n",
      "index:4\n",
      "3\n",
      "index:5\n",
      "8\n",
      "index:6\n",
      "2\n",
      "index:7\n",
      "9\n",
      "index:8\n",
      "1\n",
      "index:9\n",
      "0\n"
     ]
    }
   ],
   "source": [
    "# https://stackoverflow.com/questions/231767/what-does-the-yield-keyword-do\n",
    "\n",
    "n=10\n",
    "def centers():\n",
    "    l = n//2\n",
    "    u = l+1\n",
    "    while 0 <= l or u < n:\n",
    "        if l >= 0:\n",
    "            yield l\n",
    "            l -= 1\n",
    "        if u < n:\n",
    "            yield u\n",
    "            u += 1\n",
    "i=0\n",
    "for center in centers():\n",
    "    print('index:' + str(i))\n",
    "    print(center)\n",
    "    i+=1"
   ]
  },
  {
   "cell_type": "code",
   "execution_count": 21,
   "metadata": {},
   "outputs": [
    {
     "data": {
      "text/plain": [
       "'aba'"
      ]
     },
     "execution_count": 21,
     "metadata": {},
     "output_type": "execute_result"
    }
   ],
   "source": [
    "obj = Solution()\n",
    "s = 'babad'\n",
    "\n",
    "subs = obj.longestPalindrome(s)\n",
    "subs"
   ]
  }
 ],
 "metadata": {
  "kernelspec": {
   "display_name": "Python 3",
   "language": "python",
   "name": "python3"
  },
  "language_info": {
   "codemirror_mode": {
    "name": "ipython",
    "version": 3
   },
   "file_extension": ".py",
   "mimetype": "text/x-python",
   "name": "python",
   "nbconvert_exporter": "python",
   "pygments_lexer": "ipython3",
   "version": "3.7.6"
  }
 },
 "nbformat": 4,
 "nbformat_minor": 4
}
