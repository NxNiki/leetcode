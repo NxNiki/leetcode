{
 "cells": [
  {
   "cell_type": "code",
   "execution_count": null,
   "metadata": {},
   "outputs": [],
   "source": [
    "## time exceeds limitation:\n",
    "# time: O(n^3) space: O(n)\n",
    "\n",
    "class Solution:\n",
    "    def longestPalindrome(self, s: str) -> str:\n",
    "        n = len(s)\n",
    "        \n",
    "        l = n\n",
    "        while l>0:\n",
    "            for i in range(0, n-l+1):\n",
    "                sub_s = s[i:i+l]\n",
    "                sub_rs = sub_s[::-1]\n",
    "                \n",
    "                for j in range(l):\n",
    "                    if sub_s[j]==sub_rs[j]:\n",
    "                        identical = True\n",
    "                    else:\n",
    "                        identical = False\n",
    "                        break\n",
    "                        \n",
    "                if identical == True:\n",
    "                    return(sub_s)\n",
    "                \n",
    "            l-=1\n",
    "                "
   ]
  },
  {
   "cell_type": "code",
   "execution_count": 16,
   "metadata": {},
   "outputs": [],
   "source": [
    "\"\"\"\n",
    "Given a string s, return the longest palindromic substring in s.\n",
    "my solution:\n",
    "\"\"\"\n",
    "\n",
    "class Solution:\n",
    "    def longestPalindrome(self, s: str) -> str:\n",
    "\n",
    "        l = len(s)\n",
    "        \n",
    "        while l>0:\n",
    "            \n",
    "            for start_i in range(len(s)-l+1):\n",
    "                s_sub = s[start_i: start_i+l]\n",
    "                s_reverse = s_sub[::-1]\n",
    "                print(s_sub)\n",
    "                print(s_reverse)\n",
    "                if s_sub==s_reverse:\n",
    "                    return(s_sub)\n",
    "\n",
    "            l-=1\n"
   ]
  },
  {
   "cell_type": "code",
   "execution_count": 19,
   "metadata": {},
   "outputs": [],
   "source": [
    "# others:\n",
    "\n",
    "class Solution:\n",
    "    def longestPalindrome(self, s: str) -> str:\n",
    "        longest = (0,0) \n",
    "        n = len(s)\n",
    "        \n",
    "        def centers():\n",
    "            l = n//2\n",
    "            u = l+1\n",
    "            while 0 <= l or u < n:\n",
    "                if l >= 0:\n",
    "                    yield l\n",
    "                    l -= 1\n",
    "                if u < n:\n",
    "                    yield u\n",
    "                    u += 1\n",
    "                    \n",
    "        for center in centers():\n",
    "            clip = min(center, n-center)\n",
    "            if clip*2 < longest[1]-longest[0]:\n",
    "                continue\n",
    "            \n",
    "            for l, u in [(center, center+1), (center, center)]:\n",
    "                while l > 0 and u < n and s[l-1] == s[u]:\n",
    "                        l -= 1\n",
    "                        u += 1\n",
    "                longest = max(longest, (l,u), key=lambda p: p[1]-p[0])\n",
    "        return s[longest[0]:longest[1]]"
   ]
  },
  {
   "cell_type": "code",
   "execution_count": 25,
   "metadata": {},
   "outputs": [
    {
     "name": "stdout",
     "output_type": "stream",
     "text": [
      "index:0\n",
      "5\n",
      "index:1\n",
      "6\n",
      "index:2\n",
      "4\n",
      "index:3\n",
      "7\n",
      "index:4\n",
      "3\n",
      "index:5\n",
      "8\n",
      "index:6\n",
      "2\n",
      "index:7\n",
      "9\n",
      "index:8\n",
      "1\n",
      "index:9\n",
      "0\n"
     ]
    }
   ],
   "source": [
    "# https://stackoverflow.com/questions/231767/what-does-the-yield-keyword-do\n",
    "\n",
    "n=10\n",
    "def centers():\n",
    "    l = n//2\n",
    "    u = l+1\n",
    "    while 0 <= l or u < n:\n",
    "        if l >= 0:\n",
    "            yield l\n",
    "            l -= 1\n",
    "        if u < n:\n",
    "            yield u\n",
    "            u += 1\n",
    "i=0\n",
    "for center in centers():\n",
    "    print('index:' + str(i))\n",
    "    print(center)\n",
    "    i+=1"
   ]
  },
  {
   "cell_type": "code",
   "execution_count": 21,
   "metadata": {},
   "outputs": [
    {
     "data": {
      "text/plain": [
       "'aba'"
      ]
     },
     "execution_count": 21,
     "metadata": {},
     "output_type": "execute_result"
    }
   ],
   "source": [
    "obj = Solution()\n",
    "s = 'babad'\n",
    "\n",
    "subs = obj.longestPalindrome(s)\n",
    "subs"
   ]
  },
  {
   "cell_type": "code",
   "execution_count": null,
   "metadata": {},
   "outputs": [],
   "source": [
    "# 2/20/2022:\n",
    "## greedy solution:\n",
    "## time: O(n^2) space: O(n)\n",
    "\n",
    "class Solution:\n",
    "    def longestPalindrome(self, s: str) -> str:\n",
    "        \n",
    "        def getPalindrome(left, right):\n",
    "            \n",
    "            while left>=0 and right<len(s) and s[left]==s[right]:\n",
    "                left -=1\n",
    "                right += 1\n",
    "                \n",
    "            return s[left+1:right]\n",
    "            \n",
    "        \n",
    "        res = []\n",
    "        \n",
    "        for i in range(len(s)):\n",
    "            odd = getPalindrome(i, i)\n",
    "            even = getPalindrome(i, i+1)\n",
    "            \n",
    "            res = max(odd, even, res, key = len)\n",
    "        \n",
    "        return res"
   ]
  },
  {
   "cell_type": "code",
   "execution_count": null,
   "metadata": {},
   "outputs": [],
   "source": [
    "## exceeds limitation:\n",
    "## top down DP:\n",
    "## time: O(n^2) space: O(n^2)\n",
    "\n",
    "class Solution:\n",
    "    def longestPalindrome(self, s: str) -> str:\n",
    "        \n",
    "        dp = [[-1]*len(s) for _ in range(len(s))]\n",
    "        def recurse(i, j):\n",
    "            \n",
    "            if dp[i][j]!=-1:\n",
    "                return dp[i][j]\n",
    "            \n",
    "            if i>=j:\n",
    "                dp[i][j] = True\n",
    "                return True\n",
    "            \n",
    "            if s[i]==s[j] and recurse(i+1, j-1):\n",
    "                dp[i][j] = True\n",
    "                return True\n",
    "            else:\n",
    "                dp[i][j] = False\n",
    "                return False\n",
    "            \n",
    "        res = []\n",
    "        for i in range(len(s)):\n",
    "            for j in range(i, len(s)):\n",
    "                if recurse(i, j):\n",
    "                    cur = s[i:j+1]\n",
    "                    if len(cur)>len(res):\n",
    "                        res = cur\n",
    "        return res "
   ]
  },
  {
   "cell_type": "code",
   "execution_count": 13,
   "metadata": {},
   "outputs": [
    {
     "name": "stdout",
     "output_type": "stream",
     "text": [
      "[[True, False, False, False, False, False, False, False, False, False, False, False, False, False], [-1, True, False, False, False, False, False, False, False, False, False, False, False, False], [-1, -1, True, False, False, False, False, False, False, False, False, False, False, False], [-1, -1, -1, True, False, False, False, False, False, False, False, False, False, True], [-1, -1, -1, -1, True, False, False, False, True, False, False, False, True, False], [-1, -1, -1, -1, -1, True, False, True, False, False, False, True, False, False], [-1, -1, -1, -1, -1, -1, True, False, False, False, True, False, False, False], [-1, -1, -1, -1, -1, -1, -1, True, False, True, False, False, False, False], [-1, -1, -1, -1, -1, -1, -1, -1, True, False, False, False, True, False], [-1, -1, -1, -1, -1, -1, -1, -1, -1, True, False, True, False, False], [-1, -1, -1, -1, -1, -1, -1, -1, -1, -1, True, False, False, False], [-1, -1, -1, -1, -1, -1, -1, -1, -1, -1, -1, True, False, False], [-1, -1, -1, -1, -1, -1, -1, -1, -1, -1, -1, -1, True, False], [-1, -1, -1, -1, -1, -1, -1, -1, -1, -1, -1, -1, -1, True]]\n"
     ]
    },
    {
     "data": {
      "text/plain": [
       "'cbadabadabc'"
      ]
     },
     "execution_count": 13,
     "metadata": {},
     "output_type": "execute_result"
    }
   ],
   "source": [
    "## bottom up DP:\n",
    "\n",
    "class Solution:\n",
    "    def longestPalindrome(self, s: str) -> str:\n",
    "        \n",
    "        dp = [[-1]*len(s) for _ in range(len(s))]\n",
    "            \n",
    "        res = []\n",
    "        for i in range(len(s)-1, -1, -1):\n",
    "            for j in range(i, len(s)):\n",
    "                dp[i][j] = (s[i] == s[j] and ((j-i<3) or dp[i+1][j-1]))\n",
    "                \n",
    "                if j-i+1 > len(res) and dp[i][j]:\n",
    "                    res = s[i:j+1]\n",
    "        print(dp)\n",
    "        return res\n",
    "    \n",
    "obj = Solution()\n",
    "s = 'cbacbadabadabc'\n",
    "\n",
    "obj.longestPalindrome(s)\n"
   ]
  },
  {
   "cell_type": "code",
   "execution_count": 9,
   "metadata": {},
   "outputs": [
    {
     "name": "stdout",
     "output_type": "stream",
     "text": [
      "True True True\n",
      "True\n",
      "True\n",
      "---\n",
      "True True False\n",
      "True\n",
      "True\n",
      "---\n",
      "True False True\n",
      "True\n",
      "True\n",
      "---\n",
      "True False False\n",
      "False\n",
      "False\n",
      "---\n",
      "False True True\n",
      "True\n",
      "False\n",
      "---\n",
      "False True False\n",
      "False\n",
      "False\n",
      "---\n",
      "False False True\n",
      "True\n",
      "False\n",
      "---\n",
      "False False False\n",
      "False\n",
      "False\n",
      "---\n"
     ]
    }
   ],
   "source": [
    "\n",
    "def logic_check(a, b, c):\n",
    "    \n",
    "    print(a, b, c)\n",
    "    print(a and b or c)\n",
    "    print(a and (b or c))\n",
    "    print('---')\n",
    "\n",
    "logic = [True, False]\n",
    "\n",
    "for a in logic:\n",
    "    for b in logic:\n",
    "        for c in logic:\n",
    "            logic_check(a,b,c)"
   ]
  }
 ],
 "metadata": {
  "kernelspec": {
   "display_name": "Python 3",
   "language": "python",
   "name": "python3"
  },
  "language_info": {
   "codemirror_mode": {
    "name": "ipython",
    "version": 3
   },
   "file_extension": ".py",
   "mimetype": "text/x-python",
   "name": "python",
   "nbconvert_exporter": "python",
   "pygments_lexer": "ipython3",
   "version": "3.7.6"
  }
 },
 "nbformat": 4,
 "nbformat_minor": 4
}
