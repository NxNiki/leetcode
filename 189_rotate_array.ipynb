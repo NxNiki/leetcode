{
 "cells": [
  {
   "cell_type": "code",
   "execution_count": 5,
   "id": "32be45e9-8fbd-4efc-9aa9-fb04db4008bf",
   "metadata": {},
   "outputs": [
    {
     "name": "stdout",
     "output_type": "stream",
     "text": [
      "[1, 1]\n",
      "[2, 1]\n"
     ]
    }
   ],
   "source": [
    "from typing import List\n",
    "\n",
    "class Solution:\n",
    "    def rotate(self, nums: List[int], k: int) -> None:\n",
    "        \"\"\"\n",
    "        Do not return anything, modify nums in-place instead.\n",
    "        \"\"\"\n",
    "\n",
    "        if k == len(nums) or len(nums) == 1 or k == 0:\n",
    "            return\n",
    "\n",
    "        prev_index = 0\n",
    "        start_index = 0\n",
    "        num_values_moved = 0\n",
    "        prev_value = nums[prev_index]\n",
    "\n",
    "        \n",
    "        while num_values_moved < len(nums):\n",
    "            dest_index = (prev_index + k) % len(nums)\n",
    "            temp = nums[dest_index]\n",
    "            nums[dest_index] = prev_value\n",
    "            prev_value = temp\n",
    "            prev_index = dest_index\n",
    "            print(nums)\n",
    "            if start_index == dest_index:\n",
    "                prev_index = start_index + 1\n",
    "                start_index = prev_index\n",
    "                prev_value = nums[prev_index]\n",
    "            num_values_moved += 1\n",
    "\n",
    "\n",
    "\n",
    "sol = Solution()\n",
    "\n",
    "nums = [1,2]\n",
    "k = 1\n",
    "\n",
    "sol.rotate(nums, k)"
   ]
  },
  {
   "cell_type": "code",
   "execution_count": null,
   "id": "b72c97ae-b98d-44b3-bb35-53af83d820f9",
   "metadata": {},
   "outputs": [],
   "source": []
  }
 ],
 "metadata": {
  "kernelspec": {
   "display_name": "Python 3 (ipykernel)",
   "language": "python",
   "name": "python3"
  },
  "language_info": {
   "codemirror_mode": {
    "name": "ipython",
    "version": 3
   },
   "file_extension": ".py",
   "mimetype": "text/x-python",
   "name": "python",
   "nbconvert_exporter": "python",
   "pygments_lexer": "ipython3",
   "version": "3.12.8"
  }
 },
 "nbformat": 4,
 "nbformat_minor": 5
}
