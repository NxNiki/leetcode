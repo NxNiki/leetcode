{
 "cells": [
  {
   "cell_type": "code",
   "execution_count": 2,
   "metadata": {},
   "outputs": [],
   "source": [
    "class ListNode:\n",
    "    def __init__(self, val=0, next=None):\n",
    "        self.val = val\n",
    "        self.next = next\n",
    "        \n",
    "    def createLinkList(l):\n",
    "        head = ListNode(val = l[0])\n",
    "        p = head\n",
    "        for i in l[1:]:\n",
    "            p.next = ListNode(val = i)\n",
    "            p = p.next\n",
    "        return head\n",
    "        \n",
    "    def show(self):\n",
    "        res = []\n",
    "        while self:\n",
    "            res.append(self.val)\n",
    "            self = self.next\n",
    "        return res\n",
    "            \n",
    "        \n",
    "class Solution:\n",
    "    def deleteDuplicates(self, head: [ListNode]) -> [ListNode]:\n",
    "        # the tricky thing is when we update prev.next (prev.next = head), dummy will also be modified.\n",
    "        # because they point to the SAME List.\n",
    "        # but when we update prev (prev = prev.next), dummy will not be modified.\n",
    "        \n",
    "        dummy = prev = ListNode(0, head)\n",
    "        # the above is not just for simplicity. It won't work if you do below:\n",
    "        #dummy = ListNode(0, head)\n",
    "        #prev = ListNode(0, head) # this will create TWO separate Lists!\n",
    "        # but you can do this:\n",
    "        #dummy = ListNode(0, head)\n",
    "        #prev = dummy\n",
    "        \n",
    "\n",
    "        while head:\n",
    "            print('------')\n",
    "            print('dummy', dummy.show())\n",
    "            print('prev', prev.show())\n",
    "            print('head', head.show())\n",
    "            if head.next and head.next.val == head.val:\n",
    "                while head.next and head.next.val==head.val:\n",
    "                    head = head.next\n",
    "                head = head.next \n",
    "                \n",
    "                #THIS WILL ALSO CHAGNE DUMMY!!\n",
    "                prev.next = head # move prev to the node that are not same to the previous ones. \n",
    "\n",
    "            else:\n",
    "                prev = prev.next # this does not affect dummy\n",
    "                head = head.next # this does not affect dummy\n",
    "                \n",
    "        \n",
    "        return dummy.next"
   ]
  },
  {
   "cell_type": "code",
   "execution_count": null,
   "metadata": {},
   "outputs": [],
   "source": [
    "# another solution:\n",
    "class Solution:\n",
    "    def deleteDuplicates2(self, head: Optional[ListNode]) -> Optional[ListNode]:\n",
    "        dummy = prev = ListNode(0, head)\n",
    "        \n",
    "        while head:\n",
    "            if head.next and head.val ==  head.next.val:\n",
    "                while head.next and head.val ==  head.next.val:\n",
    "                    head = head.next\n",
    "                prev.next = head.next    \n",
    "            else:\n",
    "                prev = prev.next\n",
    "            \n",
    "            head = head.next\n",
    "        \n",
    "        return dummy.next\n",
    "                    "
   ]
  },
  {
   "cell_type": "code",
   "execution_count": 92,
   "metadata": {},
   "outputs": [
    {
     "data": {
      "text/plain": [
       "[1, 3, 3, 4, 5, 5, 6]"
      ]
     },
     "execution_count": 92,
     "metadata": {},
     "output_type": "execute_result"
    }
   ],
   "source": [
    "head = ListNode.createLinkList([1,3,3,4,5,5,6])\n",
    "head.show()"
   ]
  },
  {
   "cell_type": "code",
   "execution_count": 93,
   "metadata": {},
   "outputs": [
    {
     "name": "stdout",
     "output_type": "stream",
     "text": [
      "------\n",
      "dummy [0, 1, 3, 3, 4, 5, 5, 6]\n",
      "prev [0, 1, 3, 3, 4, 5, 5, 6]\n",
      "head [1, 3, 3, 4, 5, 5, 6]\n",
      "------\n",
      "dummy [0, 1, 3, 3, 4, 5, 5, 6]\n",
      "prev [1, 3, 3, 4, 5, 5, 6]\n",
      "head [3, 3, 4, 5, 5, 6]\n",
      "------\n",
      "dummy [0, 1, 4, 5, 5, 6]\n",
      "prev [1, 4, 5, 5, 6]\n",
      "head [4, 5, 5, 6]\n",
      "------\n",
      "dummy [0, 1, 4, 5, 5, 6]\n",
      "prev [4, 5, 5, 6]\n",
      "head [5, 5, 6]\n",
      "------\n",
      "dummy [0, 1, 4, 6]\n",
      "prev [4, 6]\n",
      "head [6]\n"
     ]
    },
    {
     "data": {
      "text/plain": [
       "[1, 4, 6]"
      ]
     },
     "execution_count": 93,
     "metadata": {},
     "output_type": "execute_result"
    }
   ],
   "source": [
    "s = Solution()\n",
    "head2 = s.deleteDuplicates(head)\n",
    "head2.show()"
   ]
  },
  {
   "cell_type": "code",
   "execution_count": 102,
   "metadata": {},
   "outputs": [
    {
     "name": "stdout",
     "output_type": "stream",
     "text": [
      "[0, 1, 3, 3, 4, 5, 5, 6]\n",
      "[0, 3, 3, 4, 5, 5, 6]\n"
     ]
    }
   ],
   "source": [
    "head = ListNode.createLinkList([1,3,3,4,5,5,6])\n",
    "dummy1 = ListNode(0, head)\n",
    "dummy2 = ListNode(0, head)\n",
    "\n",
    "dummy2.next = dummy2.next.next\n",
    "print(dummy1.show())\n",
    "print(dummy2.show())"
   ]
  },
  {
   "cell_type": "code",
   "execution_count": 4,
   "metadata": {},
   "outputs": [
    {
     "name": "stdout",
     "output_type": "stream",
     "text": [
      "[0, 3, 3, 4, 5, 5, 6]\n",
      "[0, 3, 3, 4, 5, 5, 6]\n",
      "[0, 3, 3, 4, 5, 5, 6]\n",
      "[3, 3, 4, 5, 5, 6]\n"
     ]
    }
   ],
   "source": [
    "head = ListNode.createLinkList([1,3,3,4,5,5,6])\n",
    "dummy1 = dummy2 =  ListNode(0, head)\n",
    "\n",
    "dummy2.next = dummy2.next.next\n",
    "print(dummy1.show())\n",
    "print(dummy2.show())\n",
    "\n",
    "dummy2 = dummy2.next\n",
    "print(dummy1.show())\n",
    "print(dummy2.show())"
   ]
  },
  {
   "cell_type": "code",
   "execution_count": 3,
   "metadata": {},
   "outputs": [
    {
     "name": "stdout",
     "output_type": "stream",
     "text": [
      "[0, 3, 3, 4, 5, 5, 6]\n",
      "[0, 3, 3, 4, 5, 5, 6]\n"
     ]
    }
   ],
   "source": [
    "head = ListNode.createLinkList([1,3,3,4,5,5,6])\n",
    "dummy1 = ListNode(0, head)\n",
    "dummy2 = dummy1\n",
    "\n",
    "dummy2.next = dummy2.next.next\n",
    "print(dummy1.show())\n",
    "print(dummy2.show())"
   ]
  }
 ],
 "metadata": {
  "kernelspec": {
   "display_name": "Python 3",
   "language": "python",
   "name": "python3"
  },
  "language_info": {
   "codemirror_mode": {
    "name": "ipython",
    "version": 3
   },
   "file_extension": ".py",
   "mimetype": "text/x-python",
   "name": "python",
   "nbconvert_exporter": "python",
   "pygments_lexer": "ipython3",
   "version": "3.7.6"
  }
 },
 "nbformat": 4,
 "nbformat_minor": 4
}
