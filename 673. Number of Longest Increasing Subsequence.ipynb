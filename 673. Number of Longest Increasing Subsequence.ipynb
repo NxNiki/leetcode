{
 "cells": [
  {
   "cell_type": "code",
   "execution_count": 7,
   "metadata": {},
   "outputs": [
    {
     "name": "stdout",
     "output_type": "stream",
     "text": [
      "i: 0 length: 1 count: 1\n",
      "i: 1 length: 1 count: 1\n",
      "j: 0 length: 1 count: 1\n",
      "i: 2 length: 1 count: 1\n",
      "j: 0 length: 1 count: 1\n",
      "j: 1 length: 1 count: 1\n",
      "i: 3 length: 1 count: 1\n",
      "j: 0 length: 1 count: 1\n",
      "j: 1 length: 1 count: 1\n",
      "j: 2 length: 1 count: 1\n",
      "i: 4 length: 1 count: 1\n",
      "j: 0 length: 1 count: 1\n",
      "j: 1 length: 1 count: 1\n",
      "j: 2 length: 1 count: 1\n",
      "j: 3 length: 2 count: 3\n",
      "i: 5 length: 1 count: 1\n",
      "j: 0 length: 1 count: 1\n",
      "j: 1 length: 1 count: 1\n",
      "j: 2 length: 1 count: 1\n",
      "j: 3 length: 2 count: 3\n",
      "j: 4 length: 2 count: 3\n",
      "i: 6 length: 1 count: 1\n",
      "j: 0 length: 1 count: 1\n",
      "j: 1 length: 1 count: 1\n",
      "j: 2 length: 1 count: 1\n",
      "j: 3 length: 2 count: 3\n",
      "j: 4 length: 2 count: 3\n",
      "j: 5 length: 2 count: 3\n",
      "i: 7 length: 1 count: 1\n",
      "j: 0 length: 1 count: 1\n",
      "j: 1 length: 1 count: 1\n",
      "j: 2 length: 1 count: 1\n",
      "j: 3 length: 2 count: 3\n",
      "j: 4 length: 2 count: 3\n",
      "j: 5 length: 2 count: 3\n",
      "j: 6 length: 3 count: 9\n",
      "i: 8 length: 1 count: 1\n",
      "j: 0 length: 1 count: 1\n",
      "j: 1 length: 1 count: 1\n",
      "j: 2 length: 1 count: 1\n",
      "j: 3 length: 2 count: 3\n",
      "j: 4 length: 2 count: 3\n",
      "j: 5 length: 2 count: 3\n",
      "j: 6 length: 3 count: 9\n",
      "j: 7 length: 3 count: 9\n"
     ]
    },
    {
     "data": {
      "text/plain": [
       "27"
      ]
     },
     "execution_count": 7,
     "metadata": {},
     "output_type": "execute_result"
    }
   ],
   "source": [
    "class Solution:\n",
    "    def findNumberOfLIS(self, nums: list) -> int:\n",
    "        \n",
    "        length = [1]*len(nums)\n",
    "        count = [1]*len(nums)\n",
    "        max_length = 0\n",
    "        max_count = 0\n",
    "        \n",
    "        for i in range(len(nums)):\n",
    "            print('i: {} length: {} count: {}'.format(i, length[i], count[i]))\n",
    "            for j in range(i):\n",
    "                print('j: {} length: {} count: {}'.format(j, length[j], count[j]))\n",
    "                if nums[i]>nums[j]:\n",
    "                    if length[i]==length[j]+1:\n",
    "                        count[i]+=count[j]\n",
    "                    if length[i]<length[j]+1:\n",
    "                        length[i] = length[j]+1\n",
    "                        count[i]=count[j]\n",
    "                \n",
    "            if max_length==length[i]:\n",
    "                max_count += count[i]\n",
    "            if max_length<length[i]:\n",
    "                max_length = length[i]\n",
    "                max_count = count[i]\n",
    "        \n",
    "        return max_count\n",
    "    \n",
    "s = Solution()\n",
    "nums = [1,1,1,2,2,2,3,3,3]\n",
    "s.findNumberOfLIS(nums)"
   ]
  }
 ],
 "metadata": {
  "kernelspec": {
   "display_name": "Python 3",
   "language": "python",
   "name": "python3"
  },
  "language_info": {
   "codemirror_mode": {
    "name": "ipython",
    "version": 3
   },
   "file_extension": ".py",
   "mimetype": "text/x-python",
   "name": "python",
   "nbconvert_exporter": "python",
   "pygments_lexer": "ipython3",
   "version": "3.7.6"
  }
 },
 "nbformat": 4,
 "nbformat_minor": 4
}
