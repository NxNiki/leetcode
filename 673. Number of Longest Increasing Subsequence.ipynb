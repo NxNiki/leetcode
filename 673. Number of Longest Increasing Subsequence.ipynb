{
 "cells": [
  {
   "cell_type": "code",
   "execution_count": 31,
   "metadata": {},
   "outputs": [
    {
     "name": "stdout",
     "output_type": "stream",
     "text": [
      "---\n",
      "i: 1, j: 0, length: [1, 1, 1, 1, 1, 1, 1, 1, 1], count: [1, 1, 1, 1, 1, 1, 1, 1, 1]\n",
      "---\n",
      "i: 2, j: 0, length: [1, 1, 1, 1, 1, 1, 1, 1, 1], count: [1, 1, 1, 1, 1, 1, 1, 1, 1]\n",
      "i: 2, j: 1, length: [1, 1, 1, 1, 1, 1, 1, 1, 1], count: [1, 1, 1, 1, 1, 1, 1, 1, 1]\n",
      "---\n",
      "update length and count!\n",
      "i: 3, j: 0, length: [1, 1, 1, 2, 1, 1, 1, 1, 1], count: [1, 1, 1, 1, 1, 1, 1, 1, 1]\n",
      "update count!\n",
      "i: 3, j: 1, length: [1, 1, 1, 2, 1, 1, 1, 1, 1], count: [1, 1, 1, 2, 1, 1, 1, 1, 1]\n",
      "update count!\n",
      "i: 3, j: 2, length: [1, 1, 1, 2, 1, 1, 1, 1, 1], count: [1, 1, 1, 3, 1, 1, 1, 1, 1]\n",
      "---\n",
      "update length and count!\n",
      "i: 4, j: 0, length: [1, 1, 1, 2, 2, 1, 1, 1, 1], count: [1, 1, 1, 3, 1, 1, 1, 1, 1]\n",
      "update count!\n",
      "i: 4, j: 1, length: [1, 1, 1, 2, 2, 1, 1, 1, 1], count: [1, 1, 1, 3, 2, 1, 1, 1, 1]\n",
      "update count!\n",
      "i: 4, j: 2, length: [1, 1, 1, 2, 2, 1, 1, 1, 1], count: [1, 1, 1, 3, 3, 1, 1, 1, 1]\n",
      "i: 4, j: 3, length: [1, 1, 1, 2, 2, 1, 1, 1, 1], count: [1, 1, 1, 3, 3, 1, 1, 1, 1]\n",
      "---\n",
      "update length and count!\n",
      "i: 5, j: 0, length: [1, 1, 1, 2, 2, 2, 1, 1, 1], count: [1, 1, 1, 3, 3, 1, 1, 1, 1]\n",
      "update count!\n",
      "i: 5, j: 1, length: [1, 1, 1, 2, 2, 2, 1, 1, 1], count: [1, 1, 1, 3, 3, 2, 1, 1, 1]\n",
      "update count!\n",
      "i: 5, j: 2, length: [1, 1, 1, 2, 2, 2, 1, 1, 1], count: [1, 1, 1, 3, 3, 3, 1, 1, 1]\n",
      "i: 5, j: 3, length: [1, 1, 1, 2, 2, 2, 1, 1, 1], count: [1, 1, 1, 3, 3, 3, 1, 1, 1]\n",
      "i: 5, j: 4, length: [1, 1, 1, 2, 2, 2, 1, 1, 1], count: [1, 1, 1, 3, 3, 3, 1, 1, 1]\n",
      "---\n",
      "update length and count!\n",
      "i: 6, j: 0, length: [1, 1, 1, 2, 2, 2, 2, 1, 1], count: [1, 1, 1, 3, 3, 3, 1, 1, 1]\n",
      "update count!\n",
      "i: 6, j: 1, length: [1, 1, 1, 2, 2, 2, 2, 1, 1], count: [1, 1, 1, 3, 3, 3, 2, 1, 1]\n",
      "update count!\n",
      "i: 6, j: 2, length: [1, 1, 1, 2, 2, 2, 2, 1, 1], count: [1, 1, 1, 3, 3, 3, 3, 1, 1]\n",
      "update length and count!\n",
      "i: 6, j: 3, length: [1, 1, 1, 2, 2, 2, 3, 1, 1], count: [1, 1, 1, 3, 3, 3, 3, 1, 1]\n",
      "update count!\n",
      "i: 6, j: 4, length: [1, 1, 1, 2, 2, 2, 3, 1, 1], count: [1, 1, 1, 3, 3, 3, 6, 1, 1]\n",
      "update count!\n",
      "i: 6, j: 5, length: [1, 1, 1, 2, 2, 2, 3, 1, 1], count: [1, 1, 1, 3, 3, 3, 9, 1, 1]\n",
      "---\n",
      "update length and count!\n",
      "i: 7, j: 0, length: [1, 1, 1, 2, 2, 2, 3, 2, 1], count: [1, 1, 1, 3, 3, 3, 9, 1, 1]\n",
      "update count!\n",
      "i: 7, j: 1, length: [1, 1, 1, 2, 2, 2, 3, 2, 1], count: [1, 1, 1, 3, 3, 3, 9, 2, 1]\n",
      "update count!\n",
      "i: 7, j: 2, length: [1, 1, 1, 2, 2, 2, 3, 2, 1], count: [1, 1, 1, 3, 3, 3, 9, 3, 1]\n",
      "update length and count!\n",
      "i: 7, j: 3, length: [1, 1, 1, 2, 2, 2, 3, 3, 1], count: [1, 1, 1, 3, 3, 3, 9, 3, 1]\n",
      "update count!\n",
      "i: 7, j: 4, length: [1, 1, 1, 2, 2, 2, 3, 3, 1], count: [1, 1, 1, 3, 3, 3, 9, 6, 1]\n",
      "update count!\n",
      "i: 7, j: 5, length: [1, 1, 1, 2, 2, 2, 3, 3, 1], count: [1, 1, 1, 3, 3, 3, 9, 9, 1]\n",
      "i: 7, j: 6, length: [1, 1, 1, 2, 2, 2, 3, 3, 1], count: [1, 1, 1, 3, 3, 3, 9, 9, 1]\n",
      "---\n",
      "update length and count!\n",
      "i: 8, j: 0, length: [1, 1, 1, 2, 2, 2, 3, 3, 2], count: [1, 1, 1, 3, 3, 3, 9, 9, 1]\n",
      "update count!\n",
      "i: 8, j: 1, length: [1, 1, 1, 2, 2, 2, 3, 3, 2], count: [1, 1, 1, 3, 3, 3, 9, 9, 2]\n",
      "update count!\n",
      "i: 8, j: 2, length: [1, 1, 1, 2, 2, 2, 3, 3, 2], count: [1, 1, 1, 3, 3, 3, 9, 9, 3]\n",
      "update length and count!\n",
      "i: 8, j: 3, length: [1, 1, 1, 2, 2, 2, 3, 3, 3], count: [1, 1, 1, 3, 3, 3, 9, 9, 3]\n",
      "update count!\n",
      "i: 8, j: 4, length: [1, 1, 1, 2, 2, 2, 3, 3, 3], count: [1, 1, 1, 3, 3, 3, 9, 9, 6]\n",
      "update count!\n",
      "i: 8, j: 5, length: [1, 1, 1, 2, 2, 2, 3, 3, 3], count: [1, 1, 1, 3, 3, 3, 9, 9, 9]\n",
      "i: 8, j: 6, length: [1, 1, 1, 2, 2, 2, 3, 3, 3], count: [1, 1, 1, 3, 3, 3, 9, 9, 9]\n",
      "i: 8, j: 7, length: [1, 1, 1, 2, 2, 2, 3, 3, 3], count: [1, 1, 1, 3, 3, 3, 9, 9, 9]\n"
     ]
    },
    {
     "data": {
      "text/plain": [
       "27"
      ]
     },
     "execution_count": 31,
     "metadata": {},
     "output_type": "execute_result"
    }
   ],
   "source": [
    "class Solution:\n",
    "    def findNumberOfLIS(self, nums: list) -> int:\n",
    "        \n",
    "        length = [1]*len(nums)\n",
    "        count = [1]*len(nums)\n",
    "\n",
    "        max_length = 0\n",
    "        max_count = 0\n",
    "        \n",
    "        for i in range(1, len(nums)):\n",
    "            print('---')\n",
    "            for j in range(i):\n",
    "                if nums[i]>nums[j]:\n",
    "                    if length[i]<length[j]+1:\n",
    "                        print('update length and count!')\n",
    "                        length[i] = length[j]+1\n",
    "                        count[i]=count[j]\n",
    "                    elif length[i]==length[j]+1:\n",
    "                        print('update count!')\n",
    "                        count[i]+=count[j]\n",
    "                        \n",
    "                    \n",
    "                print('i: {}, j: {}, length: {}, count: {}'.format(i, j, length, count))\n",
    "                \n",
    "            if max_length==length[i]:\n",
    "                max_count += count[i]\n",
    "            if max_length<length[i]:\n",
    "                max_length = length[i]\n",
    "                max_count = count[i]\n",
    "        \n",
    "        return max_count\n",
    "    \n",
    "s = Solution()\n",
    "nums = [1,1,1,2,2,2,3,3,3]\n",
    "# nums = [1,1,1,2,2,2]\n",
    "s.findNumberOfLIS(nums)"
   ]
  },
  {
   "cell_type": "code",
   "execution_count": 13,
   "metadata": {},
   "outputs": [
    {
     "name": "stdout",
     "output_type": "stream",
     "text": [
      "max 1 i 0\n"
     ]
    },
    {
     "data": {
      "text/plain": [
       "1"
      ]
     },
     "execution_count": 13,
     "metadata": {},
     "output_type": "execute_result"
    }
   ],
   "source": [
    "class Solution:\n",
    "    def findNumberOfLIS(self, nums) -> int:\n",
    "                       \n",
    "        # length of longest increasing subsequence in nums[:i+1].\n",
    "        \n",
    "        def recurse(i, max_length, count):\n",
    "            print('max', max_length, 'i', i)\n",
    "            length = 1\n",
    "            \n",
    "            if i==len(nums)-1:\n",
    "                return 1\n",
    "            \n",
    "            for j in range(i):\n",
    "                if nums[i]>nums[j]:\n",
    "                    print(length)\n",
    "                    length = max(length, recurse(j, max_length, count)+1)\n",
    "            \n",
    "            if length>max_length:\n",
    "                max_length = length\n",
    "                count = 1\n",
    "            elif length==max_length:\n",
    "                count += 1\n",
    "        \n",
    "            return length\n",
    "\n",
    "        global count\n",
    "        count = 1\n",
    "        recurse(0, 1, count)\n",
    "        \n",
    "        return count\n",
    "    \n",
    "s = Solution()\n",
    "s.findNumberOfLIS([1,3,5,4,7])"
   ]
  },
  {
   "cell_type": "code",
   "execution_count": null,
   "metadata": {},
   "outputs": [],
   "source": []
  }
 ],
 "metadata": {
  "kernelspec": {
   "display_name": "Python 3",
   "language": "python",
   "name": "python3"
  },
  "language_info": {
   "codemirror_mode": {
    "name": "ipython",
    "version": 3
   },
   "file_extension": ".py",
   "mimetype": "text/x-python",
   "name": "python",
   "nbconvert_exporter": "python",
   "pygments_lexer": "ipython3",
   "version": "3.7.6"
  }
 },
 "nbformat": 4,
 "nbformat_minor": 4
}
