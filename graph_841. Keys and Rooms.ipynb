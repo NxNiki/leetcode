{
 "cells": [
  {
   "cell_type": "code",
   "execution_count": 12,
   "metadata": {},
   "outputs": [
    {
     "data": {
      "text/plain": [
       "True"
      ]
     },
     "execution_count": 12,
     "metadata": {},
     "output_type": "execute_result"
    }
   ],
   "source": [
    "class Solution(object):\n",
    "    def canVisitAllRooms(self, rooms):\n",
    "        \"\"\"\n",
    "        :type rooms: List[List[int]]\n",
    "        :rtype: bool\n",
    "        \"\"\"\n",
    "        \n",
    "        can_enter = [False] * len(rooms)\n",
    "        \n",
    "        def recurse(key):\n",
    "            keys = rooms[key]\n",
    "            can_enter[key] = True\n",
    "            \n",
    "            for key in keys:\n",
    "                recurse(key)\n",
    "            \n",
    "        recurse(0)\n",
    "        return all(can_enter)\n",
    "    \n",
    "rooms = [[1],[2],[3],[]]            \n",
    "\n",
    "sol = Solution()\n",
    "sol.canVisitAllRooms(rooms)      \n",
    "\n",
    "## no base case in the recurse so we may go to infinite recursion..."
   ]
  },
  {
   "cell_type": "code",
   "execution_count": 9,
   "metadata": {},
   "outputs": [
    {
     "name": "stdout",
     "output_type": "stream",
     "text": [
      "0\n",
      "False\n",
      "[1]\n",
      "1\n",
      "False\n",
      "[2]\n",
      "2\n",
      "False\n",
      "[3]\n",
      "3\n",
      "True\n",
      "[]\n"
     ]
    },
    {
     "data": {
      "text/plain": [
       "False"
      ]
     },
     "execution_count": 9,
     "metadata": {},
     "output_type": "execute_result"
    }
   ],
   "source": [
    "class Solution(object):\n",
    "    def canVisitAllRooms(self, rooms):\n",
    "        \"\"\"\n",
    "        :type rooms: List[List[int]]\n",
    "        :rtype: bool\n",
    "        \"\"\"\n",
    "        \n",
    "        can_enter = [False] * len(rooms)\n",
    "        \n",
    "        def recurse(key):\n",
    "            print(key)\n",
    "            keys = rooms[key]\n",
    "            can_enter[key] = True\n",
    "            print(all(can_enter))\n",
    "            print(keys)\n",
    "            \n",
    "            if all(can_enter):\n",
    "                return True # this only return the current recurse function but not stop the whole recursion...\n",
    "            \n",
    "            for key in keys:\n",
    "                if can_enter[key]==False:\n",
    "                    recurse(key)\n",
    "\n",
    "        recurse(0)\n",
    "            \n",
    "        return False\n",
    "    \n",
    "\n",
    "rooms = [[1],[2],[3],[]]            \n",
    "\n",
    "sol = Solution()\n",
    "sol.canVisitAllRooms(rooms)"
   ]
  },
  {
   "cell_type": "code",
   "execution_count": 11,
   "metadata": {},
   "outputs": [
    {
     "name": "stdout",
     "output_type": "stream",
     "text": [
      "0\n",
      "False\n",
      "[1]\n",
      "1\n",
      "False\n",
      "[2]\n",
      "2\n",
      "False\n",
      "[3]\n",
      "3\n",
      "True\n",
      "[]\n"
     ]
    },
    {
     "data": {
      "text/plain": [
       "True"
      ]
     },
     "execution_count": 11,
     "metadata": {},
     "output_type": "execute_result"
    }
   ],
   "source": [
    "class Solution(object):\n",
    "    def canVisitAllRooms(self, rooms):\n",
    "        \"\"\"\n",
    "        :type rooms: List[List[int]]\n",
    "        :rtype: bool\n",
    "        \"\"\"\n",
    "        \n",
    "        can_enter = [False] * len(rooms)\n",
    "        def recurse(key):\n",
    "            print(key)\n",
    "            keys = rooms[key]\n",
    "            can_enter[key] = True\n",
    "            print(all(can_enter))\n",
    "            print(keys)\n",
    "            \n",
    "            for key in keys:\n",
    "                if can_enter[key]==False:\n",
    "                    recurse(key)\n",
    "\n",
    "        recurse(0)\n",
    "        return all(can_enter)\n",
    "    \n",
    "\n",
    "rooms = [[1],[2],[3],[]]            \n",
    "\n",
    "sol = Solution()\n",
    "sol.canVisitAllRooms(rooms)"
   ]
  }
 ],
 "metadata": {
  "kernelspec": {
   "display_name": "Python 3",
   "language": "python",
   "name": "python3"
  },
  "language_info": {
   "codemirror_mode": {
    "name": "ipython",
    "version": 3
   },
   "file_extension": ".py",
   "mimetype": "text/x-python",
   "name": "python",
   "nbconvert_exporter": "python",
   "pygments_lexer": "ipython3",
   "version": "3.7.6"
  }
 },
 "nbformat": 4,
 "nbformat_minor": 4
}
