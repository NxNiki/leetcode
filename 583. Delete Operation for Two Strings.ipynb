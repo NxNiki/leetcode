{
 "cells": [
  {
   "cell_type": "code",
   "execution_count": 13,
   "metadata": {},
   "outputs": [
    {
     "name": "stdout",
     "output_type": "stream",
     "text": [
      "0 0\n",
      "0 1\n",
      "0 2\n",
      "0 3\n",
      "0 4\n",
      "1 3\n",
      "1 4\n",
      "2 3\n",
      "2 4\n",
      "3 3\n",
      "3 4\n",
      "4 3\n",
      "4 4\n",
      "5 3\n",
      "6 4\n",
      "1 2\n",
      "2 2\n",
      "3 2\n",
      "4 2\n",
      "1 1\n",
      "2 1\n",
      "3 1\n",
      "1 0\n"
     ]
    },
    {
     "data": {
      "text/plain": [
       "4"
      ]
     },
     "execution_count": 13,
     "metadata": {},
     "output_type": "execute_result"
    }
   ],
   "source": [
    "class Solution:\n",
    "    def minDistance(self, word1: str, word2: str) -> int:\n",
    "        \n",
    "        dp = [[-1 for _ in range(len(word2)+1)] for _ in range(len(word1)+1)]\n",
    "        \n",
    "        def recurse(w1, w2, i, j, dp):\n",
    "            \n",
    "            if dp[i][j]<0:\n",
    "                print(i, j)\n",
    "                if i==len(w1):\n",
    "                    dp[i][j] = len(w2)-j\n",
    "                elif j==len(w2):\n",
    "                    dp[i][j] = len(w1)-i\n",
    "                elif w1[i]==w2[j]:\n",
    "                    dp[i][j] = recurse(w1, w2, i+1, j+1, dp)\n",
    "                else:\n",
    "                    dp[i][j] = min(1 + recurse(w1, w2, i, j+1, dp), 1 + recurse(w1, w2, i+1, j, dp))\n",
    "            \n",
    "            return dp[i][j]\n",
    "        \n",
    "        return recurse(word1, word2, 0, 0, dp)\n",
    "    \n",
    "w1 = \"leetcode\"\n",
    "w2 = \"etco\"\n",
    "\n",
    "s = Solution()\n",
    "s.minDistance(w1, w2)"
   ]
  },
  {
   "cell_type": "code",
   "execution_count": 14,
   "metadata": {},
   "outputs": [
    {
     "name": "stdout",
     "output_type": "stream",
     "text": [
      "[[4, 5, 6, 7, 8], [3, 4, 5, 6, 7], [-1, 3, 4, 5, 6], [-1, 2, 3, 4, 5], [-1, -1, 2, 3, 4], [-1, -1, -1, 2, -1], [-1, -1, -1, -1, 2], [-1, -1, -1, -1, -1], [-1, -1, -1, -1, -1]]\n"
     ]
    },
    {
     "data": {
      "text/plain": [
       "4"
      ]
     },
     "execution_count": 14,
     "metadata": {},
     "output_type": "execute_result"
    }
   ],
   "source": [
    "# some clean up of the above solution:\n",
    "\n",
    "class Solution:\n",
    "    def minDistance(self, word1: str, word2: str) -> int:\n",
    "        \n",
    "        m, n = len(word1), len(word2)\n",
    "        dp = [[-1 for _ in range(n+1)] for _ in range(m+1)]\n",
    "        \n",
    "        def recurse(i, j):\n",
    "\n",
    "            if dp[i][j]<0:\n",
    "                if i==m:\n",
    "                    dp[i][j] = n-j\n",
    "                elif j==n:\n",
    "                    dp[i][j] = m-i\n",
    "                elif word1[i]==word2[j]:\n",
    "                    dp[i][j] = recurse(i+1, j+1)\n",
    "                else:\n",
    "                    dp[i][j] = min(1 + recurse(i, j+1), 1 + recurse(i+1, j))\n",
    "            \n",
    "            \n",
    "            return dp[i][j]\n",
    "        \n",
    "        recurse(0, 0)\n",
    "        print(dp)\n",
    "        return dp[0][0]\n",
    "    \n",
    "w1 = \"leetcode\"\n",
    "w2 = \"etco\"\n",
    "\n",
    "s = Solution()\n",
    "s.minDistance(w1, w2)"
   ]
  },
  {
   "cell_type": "code",
   "execution_count": 17,
   "metadata": {},
   "outputs": [
    {
     "name": "stdout",
     "output_type": "stream",
     "text": [
      "[[4, 5, 6, 7, 8], [3, 4, 5, 6, 7], [2, 3, 4, 5, 6], [3, 2, 3, 4, 5], [4, 3, 2, 3, 4], [5, 4, 3, 2, 3], [4, 5, 4, 3, 2], [3, 4, 3, 2, 1], [4, 3, 2, 1, 0]]\n"
     ]
    },
    {
     "data": {
      "text/plain": [
       "4"
      ]
     },
     "execution_count": 17,
     "metadata": {},
     "output_type": "execute_result"
    }
   ],
   "source": [
    "class Solution:\n",
    "    def minDistance(self, word1: str, word2: str) -> int:\n",
    "        \n",
    "        m, n = len(word1), len(word2)\n",
    "        dp = [[-1] * (n + 1) for _ in range(m+1)]\n",
    "        \n",
    "        for i in range(m, -1, -1):\n",
    "            for j in range(n, -1, -1):\n",
    "                if i==m:\n",
    "                    dp[i][j] = n-j\n",
    "                elif j==n:\n",
    "                    dp[i][j] = m-i\n",
    "                elif word1[i] == word2[j]:\n",
    "                    dp[i][j] = dp[i+1][j+1] \n",
    "                else:\n",
    "                    dp[i][j] = min(dp[i][j+1], dp[i+1][j]) + 1\n",
    "        \n",
    "        print(dp)\n",
    "        return dp[0][0]\n",
    "    \n",
    "w1 = \"leetcode\"\n",
    "w2 = \"etco\"\n",
    "\n",
    "s = Solution()\n",
    "s.minDistance(w1, w2)\n"
   ]
  },
  {
   "cell_type": "code",
   "execution_count": null,
   "metadata": {},
   "outputs": [],
   "source": [
    "## see problem 1143 Longest Common Subsequence:\n",
    "\n",
    "class Solution:\n",
    "    def minDistance(self, word1: str, word2: str) -> int:\n",
    "        n, m = len(word1), len(word2)\n",
    "        dp = [[0 for _ in range(m+1)] for _ in range(n+1)]\n",
    "        \n",
    "        for i in range(1, n+1):\n",
    "            for j in range(1, m+1):\n",
    "                if word1[i-1]==word2[j-1]:\n",
    "                    dp[i][j] = 1 + dp[i-1][j-1]\n",
    "                else:\n",
    "                    dp[i][j] = max(dp[i-1][j], dp[i][j-1])\n",
    "        \n",
    "        return m + n - 2*dp[n][m]"
   ]
  }
 ],
 "metadata": {
  "kernelspec": {
   "display_name": "Python 3",
   "language": "python",
   "name": "python3"
  },
  "language_info": {
   "codemirror_mode": {
    "name": "ipython",
    "version": 3
   },
   "file_extension": ".py",
   "mimetype": "text/x-python",
   "name": "python",
   "nbconvert_exporter": "python",
   "pygments_lexer": "ipython3",
   "version": "3.7.6"
  }
 },
 "nbformat": 4,
 "nbformat_minor": 4
}
