{
 "cells": [
  {
   "cell_type": "code",
   "execution_count": 6,
   "metadata": {},
   "outputs": [
    {
     "data": {
      "text/plain": [
       "True"
      ]
     },
     "execution_count": 6,
     "metadata": {},
     "output_type": "execute_result"
    }
   ],
   "source": [
    "class Solution:\n",
    "    def backspaceCompare(self, s: str, t: str) -> bool:\n",
    "\n",
    "        def getChar(s, i):\n",
    "            char = ''\n",
    "            skip = 0\n",
    "            \n",
    "            while i>=0 and char=='':\n",
    "                if s[i]=='#':\n",
    "                    skip += 1\n",
    "                elif skip==0:\n",
    "                    char = s[i]\n",
    "                else:\n",
    "                    skip -= 1\n",
    "                \n",
    "                i -= 1\n",
    "                \n",
    "            return char, i\n",
    "        \n",
    "        l1 = len(s)\n",
    "        l2 = len(t)\n",
    "        \n",
    "        while l1>=0 or l2>=0:\n",
    "            s1, l1 = getChar(s, l1-1)\n",
    "            s2, l2 = getChar(t, l2-1)\n",
    "\n",
    "            if s1!=s2:\n",
    "                return False\n",
    "        \n",
    "        return True\n",
    "\n",
    "    \n",
    "s = 'ab##'\n",
    "t = 'c#d#'\n",
    "\n",
    "sol = Solution()\n",
    "sol.backspaceCompare(s, t)"
   ]
  },
  {
   "cell_type": "code",
   "execution_count": 15,
   "metadata": {},
   "outputs": [
    {
     "name": "stdout",
     "output_type": "stream",
     "text": [
      " -1\n",
      " -1\n"
     ]
    },
    {
     "data": {
      "text/plain": [
       "True"
      ]
     },
     "execution_count": 15,
     "metadata": {},
     "output_type": "execute_result"
    }
   ],
   "source": [
    "class Solution:\n",
    "    def backspaceCompare(self, s: str, t: str) -> bool:\n",
    "\n",
    "        def getChar(s, i):\n",
    "            if i<0:\n",
    "                return ('', -1)\n",
    "            \n",
    "            skip=0\n",
    "            while i>=0:\n",
    "                if s[i]=='#':\n",
    "                    skip += 1\n",
    "                elif skip==0:\n",
    "                    return (s[i], i)\n",
    "                else:\n",
    "                    skip -= 1\n",
    "                i -= 1\n",
    "            \n",
    "            return ('', -1)\n",
    "\n",
    "        \n",
    "        l1 = len(s)\n",
    "        l2 = len(t)\n",
    "        \n",
    "        while l1>=0 or l2>=0:\n",
    "            s1, l1 = getChar(s, l1-1)\n",
    "            s2, l2 = getChar(t, l2-1)\n",
    "            \n",
    "            print(s1, l1)\n",
    "            print(s2, l2)\n",
    "            \n",
    "            if s1!=s2:\n",
    "                return False\n",
    "        \n",
    "        return True\n",
    "    \n",
    "    \n",
    "s = 'ab##'\n",
    "t = 'c#d#'\n",
    "\n",
    "sol = Solution()\n",
    "sol.backspaceCompare(s, t)"
   ]
  }
 ],
 "metadata": {
  "kernelspec": {
   "display_name": "Python 3",
   "language": "python",
   "name": "python3"
  },
  "language_info": {
   "codemirror_mode": {
    "name": "ipython",
    "version": 3
   },
   "file_extension": ".py",
   "mimetype": "text/x-python",
   "name": "python",
   "nbconvert_exporter": "python",
   "pygments_lexer": "ipython3",
   "version": "3.7.6"
  }
 },
 "nbformat": 4,
 "nbformat_minor": 4
}
