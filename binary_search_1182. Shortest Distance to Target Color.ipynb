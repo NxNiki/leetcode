{
 "cells": [
  {
   "cell_type": "code",
   "execution_count": 7,
   "metadata": {},
   "outputs": [
    {
     "name": "stdout",
     "output_type": "stream",
     "text": [
      "defaultdict(<class 'list'>, {3: [0, 4, 5, 9, 12, 14, 30, 31, 32, 34, 41], 1: [1, 2, 7, 10, 11, 15, 16, 17, 18, 21, 25, 26, 27, 28, 33, 36, 37, 40, 42, 44, 45, 48], 2: [3, 6, 8, 13, 19, 20, 22, 23, 24, 29, 35, 38, 39, 43, 46, 47, 49]})\n",
      "7\n"
     ]
    },
    {
     "data": {
      "text/plain": [
       "[1]"
      ]
     },
     "execution_count": 7,
     "metadata": {},
     "output_type": "execute_result"
    }
   ],
   "source": [
    "from collections import defaultdict\n",
    "class Solution(object):\n",
    "    def shortestDistanceColor(self, colors, queries):\n",
    "        \"\"\"\n",
    "        :type colors: List[int]\n",
    "        :type queries: List[List[int]]\n",
    "        :rtype: List[int]\n",
    "        \"\"\"\n",
    "        \n",
    "        def binary_search(index_list, target):\n",
    "            # return the index where target should be inserted to the index_list:\n",
    "            \n",
    "            left, right = 0, len(index_list) - 1\n",
    "            \n",
    "            while left < right:\n",
    "                mid = left + (right - left) // 2\n",
    "                \n",
    "                if index_list[mid] >= target:\n",
    "                    right = mid - 1\n",
    "                else:\n",
    "                    left  = mid + 1\n",
    "                    \n",
    "            return right\n",
    "        \n",
    "        \n",
    "        hashmap = defaultdict(list)\n",
    "        \n",
    "        \n",
    "        for i, c in enumerate(colors):\n",
    "            hashmap[c].append(i)\n",
    "        print(hashmap)\n",
    "        \n",
    "        res = []\n",
    "        for i, c in queries:\n",
    "            if c not in hashmap:\n",
    "                res.append(-1)\n",
    "            else:\n",
    "                \n",
    "                index_list = hashmap[c]\n",
    "                #insert_idx = bisect.bisect_left(index_list, i)\n",
    "                insert_idx = binary_search(index_list, i)\n",
    "                print(insert_idx)\n",
    "\n",
    "                left_nearest = abs(i - index_list[max(insert_idx - 1, 0)])\n",
    "                right_nearest = abs(i - index_list[min(insert_idx, len(index_list)-1)])\n",
    "\n",
    "                res.append(min(left_nearest, right_nearest))\n",
    "            \n",
    "        return res\n",
    "    \n",
    "    \n",
    "color = [3,1,1,2,3,3,2,1,2,3,1,1,3,2,3,1,1,1,1,2,2,1,2,2,2,1,1,1,1,2,3,3,3,1,3,2,1,1,2,2,1,3,1,2,1,1,2,2,1,2]\n",
    "query = [[32,3]]\n",
    "\n",
    "sol = Solution()\n",
    "sol.shortestDistanceColor(color, query)"
   ]
  },
  {
   "cell_type": "code",
   "execution_count": 10,
   "metadata": {},
   "outputs": [
    {
     "name": "stdout",
     "output_type": "stream",
     "text": [
      "defaultdict(<class 'list'>, {3: [0, 4, 5, 9, 12, 14, 30, 31, 32, 34, 41], 1: [1, 2, 7, 10, 11, 15, 16, 17, 18, 21, 25, 26, 27, 28, 33, 36, 37, 40, 42, 44, 45, 48], 2: [3, 6, 8, 13, 19, 20, 22, 23, 24, 29, 35, 38, 39, 43, 46, 47, 49]})\n",
      "3\n"
     ]
    },
    {
     "data": {
      "text/plain": [
       "[2]"
      ]
     },
     "execution_count": 10,
     "metadata": {},
     "output_type": "execute_result"
    }
   ],
   "source": [
    "from collections import defaultdict\n",
    "class Solution(object):\n",
    "    def shortestDistanceColor(self, colors, queries):\n",
    "        \"\"\"\n",
    "        :type colors: List[int]\n",
    "        :type queries: List[List[int]]\n",
    "        :rtype: List[int]\n",
    "        \"\"\"\n",
    "        \n",
    "        def binary_search(index_list, target):\n",
    "            # return the index where target should be inserted to the index_list:\n",
    "            \n",
    "            left, right = 0, len(index_list) - 1\n",
    "            \n",
    "            while left < right:\n",
    "                mid = left + (right - left) // 2\n",
    "                \n",
    "                if index_list[mid] > target:\n",
    "                    right = mid\n",
    "                elif index_list[mid] < target:\n",
    "                    left  = mid + 1\n",
    "                else:\n",
    "                    return mid\n",
    "                    \n",
    "            return right\n",
    "        \n",
    "        \n",
    "        hashmap = defaultdict(list)\n",
    "        \n",
    "        \n",
    "        for i, c in enumerate(colors):\n",
    "            hashmap[c].append(i)\n",
    "        print(hashmap)\n",
    "        \n",
    "        res = []\n",
    "        for i, c in queries:\n",
    "            if c not in hashmap:\n",
    "                res.append(-1)\n",
    "            else:\n",
    "                \n",
    "                index_list = hashmap[c]\n",
    "                #insert_idx = bisect.bisect_left(index_list, i)\n",
    "                insert_idx = binary_search(index_list, i)\n",
    "                print(insert_idx)\n",
    "\n",
    "                left_nearest = abs(i - index_list[max(insert_idx - 1, 0)])\n",
    "                right_nearest = abs(i - index_list[min(insert_idx, len(index_list)-1)])\n",
    "\n",
    "                res.append(min(left_nearest, right_nearest))\n",
    "            \n",
    "        return res\n",
    "    \n",
    "    \n",
    "color = [3,1,1,2,3,3,2,1,2,3,1,1,3,2,3,1,1,1,1,2,2,1,2,2,2,1,1,1,1,2,3,3,3,1,3,2,1,1,2,2,1,3,1,2,1,1,2,2,1,2]\n",
    "query = [[11,2]]\n",
    "\n",
    "sol = Solution()\n",
    "sol.shortestDistanceColor(color, query)"
   ]
  },
  {
   "cell_type": "code",
   "execution_count": 3,
   "metadata": {},
   "outputs": [
    {
     "data": {
      "text/plain": [
       "3"
      ]
     },
     "execution_count": 3,
     "metadata": {},
     "output_type": "execute_result"
    }
   ],
   "source": [
    "color[32]"
   ]
  }
 ],
 "metadata": {
  "kernelspec": {
   "display_name": "Python 3",
   "language": "python",
   "name": "python3"
  },
  "language_info": {
   "codemirror_mode": {
    "name": "ipython",
    "version": 3
   },
   "file_extension": ".py",
   "mimetype": "text/x-python",
   "name": "python",
   "nbconvert_exporter": "python",
   "pygments_lexer": "ipython3",
   "version": "3.7.6"
  }
 },
 "nbformat": 4,
 "nbformat_minor": 4
}
