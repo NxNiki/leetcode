{
 "cells": [
  {
   "cell_type": "code",
   "execution_count": 1,
   "metadata": {},
   "outputs": [
    {
     "name": "stdout",
     "output_type": "stream",
     "text": [
      "{1: 1, 2: 0, 3: 2}\n"
     ]
    },
    {
     "data": {
      "text/plain": [
       "3"
      ]
     },
     "execution_count": 1,
     "metadata": {},
     "output_type": "execute_result"
    }
   ],
   "source": [
    "class Solution(object):\n",
    "    def findJudge(self, n, trust):\n",
    "        \"\"\"\n",
    "        :type n: int\n",
    "        :type trust: List[List[int]]\n",
    "        :rtype: int\n",
    "        \"\"\"\n",
    "        \n",
    "        if len(trust) < n - 1:\n",
    "            return -1\n",
    "        \n",
    "        hashmap = {i : 0 for i in range(1, n+1)}\n",
    "        for a, b in trust:\n",
    "            hashmap[b] += 1\n",
    "            \n",
    "        print(hashmap)\n",
    "            \n",
    "            \n",
    "        for i in range(1, n + 1):\n",
    "            if i in hashmap:\n",
    "                if hashmap[i] == n - 1:\n",
    "                    return i\n",
    "                \n",
    "        return -1\n",
    "\n",
    "\n",
    "trust = [[1,3],[2,3],[3,1]]\n",
    "n = 3\n",
    "\n",
    "sol = Solution()\n",
    "sol.findJudge(n, trust)"
   ]
  },
  {
   "cell_type": "code",
   "execution_count": 2,
   "metadata": {},
   "outputs": [
    {
     "data": {
      "text/plain": [
       "-1"
      ]
     },
     "execution_count": 2,
     "metadata": {},
     "output_type": "execute_result"
    }
   ],
   "source": [
    "class Solution(object):\n",
    "    def findJudge(self, n, trust):\n",
    "        \"\"\"\n",
    "        :type n: int\n",
    "        :type trust: List[List[int]]\n",
    "        :rtype: int\n",
    "        \"\"\"\n",
    "        \n",
    "        if len(trust) < n - 1:\n",
    "            return -1\n",
    "        \n",
    "        hashmap = {i : 0 for i in range(1, n+1)}\n",
    "        for a, b in trust:\n",
    "            if a in hashmap:\n",
    "                hashmap.pop(a, '')\n",
    "            if b in hashmap:\n",
    "                hashmap[b] += 1\n",
    "            \n",
    "            \n",
    "        for i in range(1, n + 1):\n",
    "            if i in hashmap:\n",
    "                if hashmap[i] == n - 1:\n",
    "                    return i\n",
    "                \n",
    "        return -1\n",
    "    \n",
    "trust = [[1,3],[2,3],[3,1]]\n",
    "n = 3\n",
    "\n",
    "sol = Solution()\n",
    "sol.findJudge(n, trust)"
   ]
  }
 ],
 "metadata": {
  "kernelspec": {
   "display_name": "Python 3",
   "language": "python",
   "name": "python3"
  },
  "language_info": {
   "codemirror_mode": {
    "name": "ipython",
    "version": 3
   },
   "file_extension": ".py",
   "mimetype": "text/x-python",
   "name": "python",
   "nbconvert_exporter": "python",
   "pygments_lexer": "ipython3",
   "version": "3.7.6"
  }
 },
 "nbformat": 4,
 "nbformat_minor": 4
}
