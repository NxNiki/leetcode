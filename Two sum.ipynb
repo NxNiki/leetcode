{
 "cells": [
  {
   "cell_type": "code",
   "execution_count": null,
   "id": "76101d64",
   "metadata": {},
   "outputs": [],
   "source": [
    "## correct but slow:\n",
    "\n",
    "# class Solution:\n",
    "#     def twoSum(self, nums: List[int], target: int) -> List[int]:\n",
    "#         for i in range(len(nums)):\n",
    "#             for j in range(i+1, len(nums)):\n",
    "#                 if nums[i]+nums[j]==target:return([i,j])\n",
    "                              \n",
    "\n",
    "## trying to do it less than O(n^2):\n",
    "\n",
    "# class Solution:\n",
    "#     def twoSum(self, nums: List[int], target: int) -> List[int]:\n",
    "        \n",
    "#         nums1 = nums[1:round(len(nums)/2)]\n",
    "#         nums2 = nums[round(len(nums)/2):]\n",
    "        \n",
    "#         x=0\n",
    "#         for i in range(len(nums1)):\n",
    "#             for j in range(len(nums2)):\n",
    "#                 if nums1[i]==nums2[j]:\n",
    "#                     return([i, j+round(len(nums)/2)])\n",
    "#                     x = 1\n",
    "#         if x==0:\n",
    "\n",
    "#             twoSum(nums1, target) # cannot call self function in python?\n",
    "#             twoSum(nums2, target) \n",
    "        \n"
   ]
  },
  {
   "cell_type": "code",
   "execution_count": null,
   "id": "238e2541",
   "metadata": {},
   "outputs": [],
   "source": [
    "# answer from others:\n",
    "\n",
    "class Solution:\n",
    "    \n",
    "    def twoSum(self, nums, target):\n",
    "        cache = {}\n",
    "        \n",
    "        for i in range(len(nums)):\n",
    "            a = nums[i]\n",
    "            #checks if the number is one of the needed ones\n",
    "            if nums[i] in cache:\n",
    "                #if it is then that is the solution\n",
    "                return [cache[nums[i]], i]\n",
    "            \n",
    "            #if it is not we added add the new one to the cache\n",
    "            cache[target - a] = i"
   ]
  },
  {
   "cell_type": "code",
   "execution_count": null,
   "id": "b0907d7f",
   "metadata": {},
   "outputs": [],
   "source": [
    "class Solution:\n",
    "    \n",
    "    def twoSum(self, nums, target):\n",
    "        cache = {}\n",
    "        \n",
    "        for i in range(len(nums)):\n",
    "            if nums[i] in cache:\n",
    "                return([cache[nums[i], i]])\n",
    "            \n",
    "            cache[target - nums[i]] = i"
   ]
  },
  {
   "cell_type": "code",
   "execution_count": null,
   "id": "02add971",
   "metadata": {},
   "outputs": [],
   "source": [
    "class Solution:\n",
    "    \n",
    "    def twoSum(self, nums: List[int], target: int) -> List[int]:\n",
    "        \"\"\"\n",
    "        Given an array of integers nums and an integer target, return indices of the two numbers such that they add up to target.\n",
    "\n",
    "        You may assume that each input would have exactly one solution, and you may not use the same element twice.\n",
    "\n",
    "        You can return the answer in any order.\n",
    "        \"\"\"\n",
    "\n",
    "        value__index = {num: i for i, num in enumerate(nums)}\n",
    "\n",
    "        for i, num in enumerate(nums):\n",
    "\n",
    "            compliment = target - num\n",
    "\n",
    "            try:\n",
    "                if i != value__index[compliment]:\n",
    "                    return [i, value__index[compliment]]\n",
    "            except KeyError:\n",
    "                pass\n",
    "                "
   ]
  },
  {
   "cell_type": "code",
   "execution_count": null,
   "id": "2bc06dc3",
   "metadata": {},
   "outputs": [],
   "source": []
  }
 ],
 "metadata": {
  "kernelspec": {
   "display_name": "Python 3 (ipykernel)",
   "language": "python",
   "name": "python3"
  },
  "language_info": {
   "codemirror_mode": {
    "name": "ipython",
    "version": 3
   },
   "file_extension": ".py",
   "mimetype": "text/x-python",
   "name": "python",
   "nbconvert_exporter": "python",
   "pygments_lexer": "ipython3",
   "version": "3.9.5"
  }
 },
 "nbformat": 4,
 "nbformat_minor": 5
}
