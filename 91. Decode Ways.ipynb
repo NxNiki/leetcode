{
 "cells": [
  {
   "cell_type": "code",
   "execution_count": 48,
   "metadata": {},
   "outputs": [
    {
     "name": "stdout",
     "output_type": "stream",
     "text": [
      "2\n",
      "3\n",
      "3\n"
     ]
    }
   ],
   "source": [
    "# we first try recurse from end to start of the s:\n",
    "\n",
    "class Solution:\n",
    "    def numDecodings(self, s: str) -> int:\n",
    "        \n",
    "        def recurse(i):\n",
    "            if i<=0:\n",
    "                return 1\n",
    "            \n",
    "            if s[i]=='0':\n",
    "                # when we encounter '0', \n",
    "                return recurse(i-1)\n",
    "            elif int(s[i-1:i+1])>int('26'):\n",
    "                return recurse(i-1)\n",
    "            else:\n",
    "                return recurse(i-1) + recurse(i-2)\n",
    "            \n",
    "            \n",
    "        return recurse(len(s)-1)\n",
    "        \n",
    "        \n",
    "sol = Solution()\n",
    "print(sol.numDecodings('12'))\n",
    "print(sol.numDecodings('123'))\n",
    "print(sol.numDecodings('1234'))"
   ]
  },
  {
   "cell_type": "code",
   "execution_count": 49,
   "metadata": {},
   "outputs": [
    {
     "name": "stdout",
     "output_type": "stream",
     "text": [
      "2\n",
      "2\n"
     ]
    }
   ],
   "source": [
    "# But 0 is not handled correctly in the above solution:\n",
    "\n",
    "print(sol.numDecodings('06'))\n",
    "print(sol.numDecodings('606'))"
   ]
  },
  {
   "cell_type": "code",
   "execution_count": 20,
   "metadata": {},
   "outputs": [
    {
     "name": "stdout",
     "output_type": "stream",
     "text": [
      "0\n",
      "1\n"
     ]
    }
   ],
   "source": [
    "class Solution:\n",
    "    def numDecodings(self, s: str) -> int:\n",
    "        \n",
    "        # handle 0 at the beginning:\n",
    "        if s[0]=='0':\n",
    "            return 0\n",
    "        \n",
    "        def recurse(i):\n",
    "            if i<=0:\n",
    "                return 1\n",
    "            \n",
    "            if s[i]=='0':\n",
    "                return 0\n",
    "            elif int(s[i-1:i+1])>int('26'):\n",
    "                return recurse(i-1)\n",
    "            else:\n",
    "                return recurse(i-1) + recurse(i-2)\n",
    "            \n",
    "            \n",
    "        return recurse(len(s)-1)\n",
    "        \n",
    "        \n",
    "sol = Solution()\n",
    "print(sol.numDecodings('06'))\n",
    "print(sol.numDecodings('606')) # '0' in the middle is still not correctly handled.\n",
    "\n",
    "# we realize things are complex if recurse from end. For example, when we encounter '0' at i, we need to consider:\n",
    "# '10' return recurse(i-1)\n",
    "# or '30' return 0"
   ]
  },
  {
   "cell_type": "code",
   "execution_count": 52,
   "metadata": {},
   "outputs": [
    {
     "name": "stdout",
     "output_type": "stream",
     "text": [
      "1\n",
      "2\n",
      "2\n"
     ]
    }
   ],
   "source": [
    "# It turns out things are easier if we recurse from start to end:\n",
    "\n",
    "class Solution:\n",
    "    def numDecodings(self, s: str) -> int:\n",
    "        if s[0]=='0':\n",
    "            return 0\n",
    "        \n",
    "        def recurse(i):\n",
    "            if i>=len(s)-1:\n",
    "                return 1\n",
    "            \n",
    "            if s[i]=='0':\n",
    "                return 0\n",
    "            elif int(s[i:i+2])>int('26'):\n",
    "                return recurse(i+1)\n",
    "            else:\n",
    "                return recurse(i+1) + recurse(i+2)\n",
    "            \n",
    "            \n",
    "        return recurse(0)\n",
    "    \n",
    "sol = Solution()\n",
    "# print(sol.numDecodings('06'))\n",
    "print(sol.numDecodings('1066')) \n",
    "print(sol.numDecodings('12')) \n",
    "print(sol.numDecodings('10')) # this is not correct."
   ]
  },
  {
   "cell_type": "code",
   "execution_count": 56,
   "metadata": {},
   "outputs": [
    {
     "name": "stdout",
     "output_type": "stream",
     "text": [
      "2\n",
      "3\n",
      "1\n"
     ]
    }
   ],
   "source": [
    "# It turns out things are easier if we recurse from start to end:\n",
    "\n",
    "class Solution:\n",
    "    def numDecodings(self, s: str) -> int:\n",
    "        if s[0]=='0':\n",
    "            return 0\n",
    "        \n",
    "        def recurse(i):\n",
    "            # for '10', s[1] will be 1 rather than 0 as it already come the the end.\n",
    "            # but for '12' it will add additional 1 when it goes to the end.\n",
    "            if i>=len(s): \n",
    "                return 1\n",
    "            \n",
    "            if s[i]=='0':\n",
    "                return 0\n",
    "            elif int(s[i:i+2])>int('26'):\n",
    "                return recurse(i+1)\n",
    "            else:\n",
    "                return recurse(i+1) + recurse(i+2)\n",
    "            \n",
    "            \n",
    "        return recurse(0)\n",
    "    \n",
    "sol = Solution()\n",
    "# print(sol.numDecodings('06'))\n",
    "print(sol.numDecodings('1066'))  # this is not correct.\n",
    "print(sol.numDecodings('12'))  # this is not correct.\n",
    "print(sol.numDecodings('10'))"
   ]
  },
  {
   "cell_type": "code",
   "execution_count": 56,
   "metadata": {},
   "outputs": [
    {
     "name": "stdout",
     "output_type": "stream",
     "text": [
      "2\n",
      "3\n",
      "1\n"
     ]
    }
   ],
   "source": [
    "# It turns out things are easier if we recurse from start to end:\n",
    "\n",
    "class Solution:\n",
    "    def numDecodings(self, s: str) -> int:\n",
    "        if s[0]=='0':\n",
    "            return 0\n",
    "        \n",
    "        def recurse(i):\n",
    "            # for '10', s[1] will be 1 rather than 0 as it already come the the end.\n",
    "            # but for '12' it will add additional 1 when it goes to the end.\n",
    "            # we also cannot do if i==len(s) in this case becuase it will exceed the range of s.\n",
    "            if i>=len(s): \n",
    "                return 1\n",
    "            \n",
    "            if s[i]=='0':\n",
    "                return 0\n",
    "            elif int(s[i:i+2])>int('26'):\n",
    "                return recurse(i+1)\n",
    "            else: # so we consider add more condition when we do recurse(i+2)...\n",
    "                return recurse(i+1) + recurse(i+2)\n",
    "            \n",
    "            \n",
    "        return recurse(0)\n",
    "    \n",
    "sol = Solution()\n",
    "# print(sol.numDecodings('06'))\n",
    "print(sol.numDecodings('1066'))  # this is not correct.\n",
    "print(sol.numDecodings('12'))  # this is not correct.\n",
    "print(sol.numDecodings('10'))"
   ]
  },
  {
   "cell_type": "code",
   "execution_count": 57,
   "metadata": {},
   "outputs": [
    {
     "name": "stdout",
     "output_type": "stream",
     "text": [
      "1\n",
      "2\n",
      "1\n"
     ]
    }
   ],
   "source": [
    "# It turns out things are easier if we recurse from start to end:\n",
    "\n",
    "class Solution:\n",
    "    def numDecodings(self, s: str) -> int:\n",
    "        if s[0]=='0':\n",
    "            return 0\n",
    "        \n",
    "        def recurse(i):\n",
    "            if i==len(s): \n",
    "                return 1\n",
    "            \n",
    "            if s[i]=='0':\n",
    "                return 0\n",
    "            elif int(s[i:i+2])>int('26'):\n",
    "                return recurse(i+1)\n",
    "            elif i<len(s)-1:\n",
    "                return recurse(i+1) + recurse(i+2)\n",
    "            else: # this condition can be added to above place...\n",
    "                return recurse(i+1)\n",
    "            \n",
    "            \n",
    "        return recurse(0)\n",
    "    \n",
    "sol = Solution()\n",
    "# print(sol.numDecodings('06'))\n",
    "print(sol.numDecodings('1066'))  # this is not correct.\n",
    "print(sol.numDecodings('12'))  # this is not correct.\n",
    "print(sol.numDecodings('10'))"
   ]
  },
  {
   "cell_type": "code",
   "execution_count": null,
   "metadata": {},
   "outputs": [],
   "source": []
  },
  {
   "cell_type": "code",
   "execution_count": 58,
   "metadata": {},
   "outputs": [],
   "source": [
    "# clean up and use DP to avoid redundant calculations:\n",
    "\n",
    "class Solution:\n",
    "    def numDecodings(self, s: str) -> int:\n",
    "        \n",
    "        if s[0]=='0':\n",
    "            return 0\n",
    "        \n",
    "        dp = [-1]*(len(s)+1)\n",
    "        dp[-1] = 1\n",
    "        def recurse(i):\n",
    "\n",
    "            if dp[i] != -1:\n",
    "                return dp[i]\n",
    "            \n",
    "            if s[i]=='0':\n",
    "                dp[i] = 0\n",
    "            # current and next value is larger than 26, or we go to the last value of s,\n",
    "            # do not increment the count.\n",
    "            elif int(s[i:i+2])>int('26') or i==len(s)-1:\n",
    "                dp[i] = recurse(i+1)\n",
    "            # if current and next value is smaller than 26 and not the last value,\n",
    "            # we can either split the current and next number (this is same as recurse(i+1))\n",
    "            # or merge the current and next number (this is same as recurse(i+2))\n",
    "            elif i<len(s)-1:\n",
    "                dp[i] = recurse(i+1) + recurse(i+2)\n",
    "           \n",
    "            return dp[i]\n",
    "        \n",
    "        return recurse(0)"
   ]
  },
  {
   "cell_type": "code",
   "execution_count": 60,
   "metadata": {},
   "outputs": [
    {
     "name": "stdout",
     "output_type": "stream",
     "text": [
      "1\n",
      "2\n",
      "1\n"
     ]
    }
   ],
   "source": [
    "# Now do bottom up DP:\n",
    "\n",
    "class Solution:\n",
    "    def numDecodings(self, s: str) -> int:\n",
    "        if s[0]=='0':\n",
    "            return 0\n",
    "        \n",
    "        dp = [-1]*(len(s)+1)\n",
    "        dp[-1] = 1\n",
    "        \n",
    "        for i in range(len(s)-1, -1, -1):\n",
    "            if s[i] == '0':\n",
    "                dp[i] = 0\n",
    "            elif int(s[i:i+2])>26 or i==len(s)-1:\n",
    "                dp[i] = dp[i+1]\n",
    "            else:\n",
    "                dp[i] = dp[i+1] + dp[i+2]\n",
    "        \n",
    "        return dp[0]\n",
    "    \n",
    "sol = Solution()\n",
    "# print(sol.numDecodings('06'))\n",
    "print(sol.numDecodings('1066')) \n",
    "print(sol.numDecodings('12')) \n",
    "print(sol.numDecodings('10'))"
   ]
  },
  {
   "cell_type": "code",
   "execution_count": null,
   "metadata": {},
   "outputs": [],
   "source": [
    "# other solutions:\n",
    "\n",
    "class Solution:\n",
    "    def numDecodings(self, s: str) -> int:\n",
    "        if len(s)==0 or s[0]=='0':\n",
    "            return 0\n",
    "        \n",
    "        prev2 = 1\n",
    "        prev = 1\n",
    "        cur = 1\n",
    "        \n",
    "        for i in range(2, len(s)+1):\n",
    "            if s[i-1]=='0':\n",
    "                cur = 0\n",
    "                \n",
    "            if 0<int(s[i-1])<=9:\n",
    "                cur = prev\n",
    "                \n",
    "            if 10<=int(s[i-2:i])<=26:\n",
    "                cur += prev2\n",
    "                \n",
    "            prev2 = prev\n",
    "            prev = cur\n",
    "            \n",
    "        return cur"
   ]
  }
 ],
 "metadata": {
  "kernelspec": {
   "display_name": "Python 3",
   "language": "python",
   "name": "python3"
  },
  "language_info": {
   "codemirror_mode": {
    "name": "ipython",
    "version": 3
   },
   "file_extension": ".py",
   "mimetype": "text/x-python",
   "name": "python",
   "nbconvert_exporter": "python",
   "pygments_lexer": "ipython3",
   "version": "3.7.6"
  }
 },
 "nbformat": 4,
 "nbformat_minor": 4
}
