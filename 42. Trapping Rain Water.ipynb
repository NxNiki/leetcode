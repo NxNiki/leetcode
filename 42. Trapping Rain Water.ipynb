{
 "cells": [
  {
   "cell_type": "code",
   "execution_count": 6,
   "metadata": {},
   "outputs": [
    {
     "name": "stdout",
     "output_type": "stream",
     "text": [
      "0 5\n",
      "1 5\n",
      "1 4\n",
      "2 4\n",
      "3 4\n"
     ]
    },
    {
     "data": {
      "text/plain": [
       "7"
      ]
     },
     "execution_count": 6,
     "metadata": {},
     "output_type": "execute_result"
    }
   ],
   "source": [
    "class Solution:\n",
    "    def trap(self, height) -> int:\n",
    "        \n",
    "        left, right = 0, len(height) - 1\n",
    "        left_max =  right_max = 0\n",
    "        \n",
    "        res = 0\n",
    "        while left < right:\n",
    "            print(left, right)\n",
    "            # on the second iteration, left_max larger than right_max, so right -= 1.\n",
    "            if left_max <= right_max:\n",
    "                if height[left] > left_max:\n",
    "                    left_max = height[left]\n",
    "                else:\n",
    "                    res += -(height[left] - left_max)\n",
    "                left += 1\n",
    "            else:   \n",
    "                if height[right] > right_max:\n",
    "                    right_max = height[right]\n",
    "                else:\n",
    "                    res += -(height[right] - right_max)\n",
    "                right -= 1\n",
    "        \n",
    "        return res\n",
    "\n",
    "    \n",
    "sol = Solution()\n",
    "height = [4,2,0,3,2,5]\n",
    "\n",
    "sol.trap(height)"
   ]
  },
  {
   "cell_type": "code",
   "execution_count": 7,
   "metadata": {},
   "outputs": [
    {
     "name": "stdout",
     "output_type": "stream",
     "text": [
      "0 5\n",
      "1 5\n",
      "1 4\n",
      "2 4\n",
      "3 4\n",
      "4 4\n"
     ]
    },
    {
     "data": {
      "text/plain": [
       "9"
      ]
     },
     "execution_count": 7,
     "metadata": {},
     "output_type": "execute_result"
    }
   ],
   "source": [
    "class Solution:\n",
    "    def trap(self, height) -> int:\n",
    "        \n",
    "        left, right = 0, len(height) - 1\n",
    "        left_max =  right_max = 0\n",
    "        \n",
    "        res = 0\n",
    "        while left <= right: # as right will go left as least 1 step, we need to use <=, rather than <\n",
    "            print(left, right)\n",
    "            # on the second iteration, left_max larger than right_max, so right -= 1.\n",
    "            if left_max <= right_max:\n",
    "                if height[left] > left_max:\n",
    "                    left_max = height[left]\n",
    "                else:\n",
    "                    res += -(height[left] - left_max)\n",
    "                left += 1\n",
    "            else:   \n",
    "                if height[right] > right_max:\n",
    "                    right_max = height[right]\n",
    "                else:\n",
    "                    res += -(height[right] - right_max)\n",
    "                right -= 1\n",
    "        \n",
    "        return res\n",
    "\n",
    "    \n",
    "sol = Solution()\n",
    "height = [4,2,0,3,2,5]\n",
    "\n",
    "sol.trap(height)"
   ]
  },
  {
   "cell_type": "code",
   "execution_count": 8,
   "metadata": {},
   "outputs": [
    {
     "name": "stdout",
     "output_type": "stream",
     "text": [
      "0 5\n",
      "1 5\n",
      "2 5\n",
      "3 5\n",
      "4 5\n"
     ]
    },
    {
     "data": {
      "text/plain": [
       "9"
      ]
     },
     "execution_count": 8,
     "metadata": {},
     "output_type": "execute_result"
    }
   ],
   "source": [
    "class Solution:\n",
    "    def trap(self, height) -> int:\n",
    "        \n",
    "        left, right = 0, len(height) - 1\n",
    "        left_max =  right_max = 0\n",
    "        \n",
    "        res = 0\n",
    "        while left < right:\n",
    "            print(left, right)\n",
    "            # on the second iteration, left_max larger than right_max, so right -= 1.\n",
    "            if height[left] < height[right]: # it's reasonable to use height rather than max_height.\n",
    "                if height[left] > left_max:\n",
    "                    left_max = height[left]\n",
    "                else:\n",
    "                    res += -(height[left] - left_max)\n",
    "                left += 1\n",
    "            else:   \n",
    "                if height[right] > right_max:\n",
    "                    right_max = height[right]\n",
    "                else:\n",
    "                    res += -(height[right] - right_max)\n",
    "                right -= 1\n",
    "        \n",
    "        return res\n",
    "\n",
    "    \n",
    "sol = Solution()\n",
    "height = [4,2,0,3,2,5]\n",
    "\n",
    "sol.trap(height)"
   ]
  }
 ],
 "metadata": {
  "kernelspec": {
   "display_name": "Python 3",
   "language": "python",
   "name": "python3"
  },
  "language_info": {
   "codemirror_mode": {
    "name": "ipython",
    "version": 3
   },
   "file_extension": ".py",
   "mimetype": "text/x-python",
   "name": "python",
   "nbconvert_exporter": "python",
   "pygments_lexer": "ipython3",
   "version": "3.7.6"
  }
 },
 "nbformat": 4,
 "nbformat_minor": 4
}
