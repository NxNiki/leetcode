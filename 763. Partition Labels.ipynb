{
 "cells": [
  {
   "cell_type": "code",
   "execution_count": 2,
   "metadata": {},
   "outputs": [
    {
     "data": {
      "text/plain": [
       "[9, 7, 8]"
      ]
     },
     "execution_count": 2,
     "metadata": {},
     "output_type": "execute_result"
    }
   ],
   "source": [
    "class Solution:\n",
    "    def partitionLabels(self, s: str):\n",
    "        \n",
    "        right_most = {c: i for i, c in enumerate(s)}\n",
    "        \n",
    "        left, right = -1, 0\n",
    "        res = []\n",
    "        \n",
    "        for i in range(len(s)):\n",
    "            right = max(right, right_most[s[i]])\n",
    "            \n",
    "            if i == right:\n",
    "                res.append(right - left)\n",
    "                left = i\n",
    "                \n",
    "        return res\n",
    "    \n",
    "    \n",
    "        \n",
    "s = \"ababcbacadefegdehijhklij\" \n",
    "sol = Solution()\n",
    "sol.partitionLabels(s)"
   ]
  },
  {
   "cell_type": "code",
   "execution_count": null,
   "metadata": {},
   "outputs": [],
   "source": [
    "\n",
    "# similar questions:\n",
    "# two sum\n",
    "# 560. Subarray Sum Equals K\n",
    "\n",
    "# Given an array of integers nums and an integer k, return the total number of subarrays whose sum equals to k\n",
    "\n",
    "class Solution:\n",
    "    def subarraySum(self, nums, k: int) -> int:\n",
    "        \n",
    "        ans=0\n",
    "        prefsum=0\n",
    "        d={0:1}\n",
    "\n",
    "        for num in nums:\n",
    "            prefsum = prefsum + num\n",
    "\n",
    "            if prefsum-k in d:\n",
    "                ans = ans + d[prefsum-k]\n",
    "\n",
    "            if prefsum not in d:\n",
    "                d[prefsum] = 1\n",
    "            else:\n",
    "                d[prefsum] = d[prefsum]+1\n",
    "\n",
    "        return ans\n",
    "    \n",
    "    "
   ]
  }
 ],
 "metadata": {
  "kernelspec": {
   "display_name": "Python 3",
   "language": "python",
   "name": "python3"
  },
  "language_info": {
   "codemirror_mode": {
    "name": "ipython",
    "version": 3
   },
   "file_extension": ".py",
   "mimetype": "text/x-python",
   "name": "python",
   "nbconvert_exporter": "python",
   "pygments_lexer": "ipython3",
   "version": "3.7.6"
  }
 },
 "nbformat": 4,
 "nbformat_minor": 4
}
