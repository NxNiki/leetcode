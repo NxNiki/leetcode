{
 "cells": [
  {
   "cell_type": "code",
   "execution_count": null,
   "metadata": {},
   "outputs": [],
   "source": [
    "class Solution:\n",
    "    def subarraySum(self, nums: List[int], k: int) -> int:\n",
    "        \n",
    "        count = 0\n",
    "        \n",
    "        for start in range(len(nums)):\n",
    "            for end in range(start + 1, len(nums) + 1):\n",
    "                sum_ = 0\n",
    "                \n",
    "                for i in range(start, end):\n",
    "                    sum_ += nums[i]\n",
    "                \n",
    "                if sum_ == k:\n",
    "                    count += 1\n",
    "                    \n",
    "        return count\n",
    "              "
   ]
  },
  {
   "cell_type": "code",
   "execution_count": null,
   "metadata": {},
   "outputs": [],
   "source": [
    "class Solution:\n",
    "    def subarraySum(self, nums: List[int], k: int) -> int:\n",
    "        \n",
    "        cumulative_sum = [0] * (len(nums) + 1)\n",
    "        for i in range(1, len(nums) + 1):\n",
    "            cumulative_sum[i] = nums[i-1] + cumulative_sum[i - 1]\n",
    "            \n",
    "        count = 0\n",
    "        for start in range(len(nums)):\n",
    "            for end in range(start + 1, len(nums) + 1):\n",
    "                if cumulative_sum[end] - cumulative_sum[start] == k:\n",
    "                    count += 1\n",
    "        return count\n",
    "    "
   ]
  },
  {
   "cell_type": "code",
   "execution_count": null,
   "metadata": {},
   "outputs": [],
   "source": [
    "class Solution:\n",
    "    def subarraySum(self, nums: List[int], k: int) -> int:\n",
    "        \n",
    "        count = 0\n",
    "        for start in range(len(nums)):\n",
    "            sum_curr = 0\n",
    "            for end in range(start + 1, len(nums) + 1):\n",
    "                sum_curr += nums[end-1]\n",
    "                if sum_curr == k:\n",
    "                    count += 1\n",
    "        return count\n",
    "    "
   ]
  },
  {
   "cell_type": "code",
   "execution_count": null,
   "metadata": {},
   "outputs": [],
   "source": [
    "class Solution:\n",
    "    def subarraySum(self, nums: List[int], k: int) -> int:\n",
    "        \n",
    "        hashmap = {0: 1}\n",
    "        prev_sum = 0\n",
    "        count = 0\n",
    "        \n",
    "        for n in nums:\n",
    "            prev_sum += n\n",
    "            if prev_sum - k in hashmap:\n",
    "                count += hashmap[prev_sum - k]\n",
    "            if prev_sum in hashmap:\n",
    "                hashmap[prev_sum] += 1\n",
    "            else:\n",
    "                hashmap[prev_sum] = 1\n",
    "                \n",
    "        return count"
   ]
  }
 ],
 "metadata": {
  "kernelspec": {
   "display_name": "Python 3",
   "language": "python",
   "name": "python3"
  },
  "language_info": {
   "codemirror_mode": {
    "name": "ipython",
    "version": 3
   },
   "file_extension": ".py",
   "mimetype": "text/x-python",
   "name": "python",
   "nbconvert_exporter": "python",
   "pygments_lexer": "ipython3",
   "version": "3.7.6"
  }
 },
 "nbformat": 4,
 "nbformat_minor": 4
}
