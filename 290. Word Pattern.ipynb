{
 "cells": [
  {
   "cell_type": "code",
   "execution_count": 6,
   "metadata": {},
   "outputs": [
    {
     "name": "stdout",
     "output_type": "stream",
     "text": [
      "g\n",
      "o\n",
      "d\n",
      " \n",
      "t\n",
      "a\n",
      "c\n",
      " \n",
      "t\n",
      "a\n",
      "c\n",
      " \n",
      "g\n",
      "o\n",
      "d\n",
      "['dog', 'cat', 'cat', 'dog']\n"
     ]
    },
    {
     "data": {
      "text/plain": [
       "True"
      ]
     },
     "execution_count": 6,
     "metadata": {},
     "output_type": "execute_result"
    }
   ],
   "source": [
    "class Solution:\n",
    "    def wordPattern(self, pattern: str, s: str) -> bool:\n",
    "        \n",
    "        pattern = list(pattern)\n",
    "        s = list(s)\n",
    "        string = []\n",
    "        \n",
    "        word = ''\n",
    "        while s:\n",
    "            cur_s = s.pop() \n",
    "            print(cur_s)\n",
    "            if cur_s == ' ':\n",
    "                string.append(word[::-1])\n",
    "                word = ''\n",
    "            else:\n",
    "                word += cur_s\n",
    "        string.append(word[::-1])\n",
    "         \n",
    "        print(string)\n",
    "        if len(pattern) != len(string):\n",
    "            return False\n",
    "        \n",
    "        string = string[::-1]\n",
    "        hashmap = {} # letter : word\n",
    "        \n",
    "        for i in range(len(pattern)):\n",
    "            if pattern[i] in hashmap:\n",
    "                if string[i]!=hashmap[pattern[i]]:\n",
    "                    return False\n",
    "            else:\n",
    "                hashmap[pattern[i]] = string[i]\n",
    "                \n",
    "        return True\n",
    "                    \n",
    "pattern = \"abba\"\n",
    "s = \"dog cat cat dog\"\n",
    "\n",
    "sol = Solution()\n",
    "sol.wordPattern(pattern, s)"
   ]
  },
  {
   "cell_type": "code",
   "execution_count": 7,
   "metadata": {},
   "outputs": [
    {
     "data": {
      "text/plain": [
       "True"
      ]
     },
     "execution_count": 7,
     "metadata": {},
     "output_type": "execute_result"
    }
   ],
   "source": [
    "class Solution:\n",
    "    def wordPattern(self, pattern: str, s: str) -> bool:\n",
    "        \n",
    "        pattern = list(pattern)\n",
    "        string = s.split()\n",
    "        if len(pattern) != len(string):\n",
    "            return False\n",
    "        \n",
    "        string = string[::-1]\n",
    "        hashmap = {} # letter : word\n",
    "        \n",
    "        for i in range(len(pattern)):\n",
    "            if pattern[i] in hashmap:\n",
    "                if string[i]!=hashmap[pattern[i]]:\n",
    "                    return False\n",
    "            else:\n",
    "                hashmap[pattern[i]] = string[i]\n",
    "                \n",
    "        return True\n",
    "                    \n",
    "pattern = \"abba\"\n",
    "s = \"dog cat cat dog\"\n",
    "\n",
    "sol = Solution()\n",
    "sol.wordPattern(pattern, s)"
   ]
  },
  {
   "cell_type": "code",
   "execution_count": null,
   "metadata": {},
   "outputs": [],
   "source": [
    "#https://leetcode.com/problems/word-pattern/discuss/73433/Short-in-Python\n",
    "    \n",
    "def wordPattern(self, pattern, str):\n",
    "    s = pattern\n",
    "    t = str.split()\n",
    "    return map(s.find, s) == map(t.index, t)\n",
    "#Improved version also from there:\n",
    "\n",
    "def wordPattern(self, pattern, str):\n",
    "    f = lambda s: map({}.setdefault, s, range(len(s)))\n",
    "    return f(pattern) == f(str.split())\n",
    "#From here:\n",
    "\n",
    "def wordPattern(self, pattern, str):\n",
    "    s = pattern\n",
    "    t = str.split()\n",
    "    return len(set(zip(s, t))) == len(set(s)) == len(set(t)) and len(s) == len(t)"
   ]
  },
  {
   "cell_type": "code",
   "execution_count": 3,
   "metadata": {},
   "outputs": [
    {
     "name": "stdout",
     "output_type": "stream",
     "text": [
      "dog a\n",
      "cat b\n",
      "cat b\n",
      "dog a\n"
     ]
    },
    {
     "data": {
      "text/plain": [
       "True"
      ]
     },
     "execution_count": 3,
     "metadata": {},
     "output_type": "execute_result"
    }
   ],
   "source": [
    "class Solution:\n",
    "    def wordPattern(self, pattern: str, s: str) -> bool:\n",
    "        \n",
    "        pattern = list(pattern)\n",
    "        string = s.split()\n",
    "        \n",
    "        if len(pattern) != len(string):\n",
    "            return False\n",
    "        \n",
    "        hashmap = {}\n",
    "        for s, p in zip(string, pattern):\n",
    "            if p in hashmap:\n",
    "                if hashmap[p] != s:\n",
    "                    return False\n",
    "            elif s in hashmap.values():\n",
    "                return False\n",
    "            else:\n",
    "                hashmap[p] = s\n",
    "        return True\n",
    "    \n",
    "pattern = \"abba\"\n",
    "s = \"dog cat cat dog\"\n",
    "\n",
    "sol = Solution()\n",
    "sol.wordPattern(pattern, s)"
   ]
  }
 ],
 "metadata": {
  "kernelspec": {
   "display_name": "Python 3",
   "language": "python",
   "name": "python3"
  },
  "language_info": {
   "codemirror_mode": {
    "name": "ipython",
    "version": 3
   },
   "file_extension": ".py",
   "mimetype": "text/x-python",
   "name": "python",
   "nbconvert_exporter": "python",
   "pygments_lexer": "ipython3",
   "version": "3.7.6"
  }
 },
 "nbformat": 4,
 "nbformat_minor": 4
}
