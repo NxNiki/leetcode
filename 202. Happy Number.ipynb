{
 "cells": [
  {
   "cell_type": "code",
   "execution_count": 4,
   "metadata": {},
   "outputs": [
    {
     "name": "stdout",
     "output_type": "stream",
     "text": [
      "82\n",
      "68\n",
      "100\n",
      "1\n"
     ]
    },
    {
     "data": {
      "text/plain": [
       "True"
      ]
     },
     "execution_count": 4,
     "metadata": {},
     "output_type": "execute_result"
    }
   ],
   "source": [
    "class Solution:\n",
    "    def isHappy(self, n: int) -> bool:\n",
    "        \n",
    "        visited = set()\n",
    "        \n",
    "        while True:\n",
    "            next_n = 0\n",
    "            \n",
    "            while n:\n",
    "                next_n += (n % 10)**2\n",
    "                n //= 10\n",
    "            print(next_n)\n",
    "            \n",
    "            if next_n == 1:\n",
    "                return True\n",
    "            \n",
    "            if next_n not in visited:\n",
    "                visited.add(next_n)\n",
    "                n = next_n\n",
    "            else:\n",
    "                return False\n",
    "            \n",
    "            \n",
    "s = Solution()\n",
    "s.isHappy(19)"
   ]
  },
  {
   "cell_type": "code",
   "execution_count": 11,
   "metadata": {},
   "outputs": [
    {
     "data": {
      "text/plain": [
       "True"
      ]
     },
     "execution_count": 11,
     "metadata": {},
     "output_type": "execute_result"
    }
   ],
   "source": [
    "class Solution:\n",
    "    def isHappy(self, n: int) -> bool:\n",
    "        \n",
    "        visited = set()\n",
    "        \n",
    "        while True:\n",
    "            next_n = self.digit_square_sum(n)\n",
    "            \n",
    "            if next_n == 1:\n",
    "                return True\n",
    "            \n",
    "            if next_n not in visited:\n",
    "                visited.add(next_n)\n",
    "                n = next_n\n",
    "            else:\n",
    "                return False\n",
    "            \n",
    "            \n",
    "    def digit_square_sum(self, n):\n",
    "        res = 0\n",
    "        while n:\n",
    "            res += (n % 10)**2\n",
    "            n //= 10\n",
    "\n",
    "        return res\n",
    "\n",
    "                \n",
    "s = Solution()\n",
    "s.isHappy(19)"
   ]
  },
  {
   "cell_type": "code",
   "execution_count": 17,
   "metadata": {},
   "outputs": [
    {
     "data": {
      "text/plain": [
       "True"
      ]
     },
     "execution_count": 17,
     "metadata": {},
     "output_type": "execute_result"
    }
   ],
   "source": [
    "class Solution:\n",
    "    def isHappy(self, n: int) -> bool:\n",
    "        \n",
    "        visited = set()\n",
    "        \n",
    "        while n not in visited:\n",
    "            visited.add(n)\n",
    "            n = self.digit_square_sum(n)\n",
    "            if n == 1:\n",
    "                return True\n",
    "\n",
    "        return False\n",
    "\n",
    "    def digit_square_sum(self, num):\n",
    "        res = sum([int(x) **2 for x in str(num)])\n",
    "        return res\n",
    "\n",
    "s = Solution()\n",
    "s.isHappy(19)"
   ]
  },
  {
   "cell_type": "code",
   "execution_count": 18,
   "metadata": {},
   "outputs": [
    {
     "data": {
      "text/plain": [
       "True"
      ]
     },
     "execution_count": 18,
     "metadata": {},
     "output_type": "execute_result"
    }
   ],
   "source": [
    "class Solution:\n",
    "    def isHappy(self, n: int) -> bool:\n",
    "        \n",
    "        visited = set()\n",
    "        while n not in visited:\n",
    "            visited.add(n)\n",
    "            n = self.digit_square_sum(n)\n",
    "            if n == 1:\n",
    "                return True\n",
    "\n",
    "        return False\n",
    "\n",
    "            \n",
    "    def digit_square_sum(self, n):\n",
    "        \n",
    "        res = 0\n",
    "        while n:\n",
    "            res += (n % 10)**2\n",
    "            n //= 10\n",
    "\n",
    "        return res\n",
    "\n",
    "s = Solution()\n",
    "s.isHappy(19)"
   ]
  }
 ],
 "metadata": {
  "kernelspec": {
   "display_name": "Python 3",
   "language": "python",
   "name": "python3"
  },
  "language_info": {
   "codemirror_mode": {
    "name": "ipython",
    "version": 3
   },
   "file_extension": ".py",
   "mimetype": "text/x-python",
   "name": "python",
   "nbconvert_exporter": "python",
   "pygments_lexer": "ipython3",
   "version": "3.7.6"
  }
 },
 "nbformat": 4,
 "nbformat_minor": 4
}
