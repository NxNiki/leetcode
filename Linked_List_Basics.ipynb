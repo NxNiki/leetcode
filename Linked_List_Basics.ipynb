{
 "cells": [
  {
   "cell_type": "code",
   "execution_count": 1,
   "metadata": {},
   "outputs": [],
   "source": [
    "class ListNode:\n",
    "    def __init__(self, val=0, next=None):\n",
    "        self.val = val\n",
    "        self.next = next\n",
    "        \n",
    "    def createLinkList(l):\n",
    "        head = ListNode(val = l[0])\n",
    "        p = head\n",
    "        for i in l[1:]:\n",
    "            p.next = ListNode(val = i)\n",
    "            p = p.next\n",
    "        return head\n",
    "        \n",
    "    def show(self):\n",
    "        res = []\n",
    "        while self:\n",
    "            res.append(self.val)\n",
    "            self = self.next\n",
    "        return res\n"
   ]
  },
  {
   "cell_type": "code",
   "execution_count": 15,
   "metadata": {},
   "outputs": [
    {
     "name": "stdout",
     "output_type": "stream",
     "text": [
      "[0, 1, 2, 3, 4, 5, 6]\n",
      "[0, 2, 3, 4, 5, 6]\n",
      "[1, 2, 3, 4, 5, 6]\n"
     ]
    }
   ],
   "source": [
    "head = ListNode.createLinkList([1,2,3,4,5,6])\n",
    "dummy1 = ListNode(0, head)\n",
    "dummy2 = ListNode(0, head)\n",
    "# every time we call ListNode(0, head), a new head is created. \n",
    "# So dummy1 and dummy2 points to two different head with the same value.\n",
    "\n",
    "dummy2.next = dummy2.next.next\n",
    "print(dummy1.show())\n",
    "print(dummy2.show())\n",
    "print(head.show())\n",
    "# only dummy2 is changed."
   ]
  },
  {
   "cell_type": "markdown",
   "metadata": {},
   "source": [
    "with the above test, we know every time we call: dummy1 = ListNode(0, head), we create a new dummy point to head and a new head pointing to the next value in the list. So if we update the nodes after the head, all three lists will be changed.\n",
    "\n",
    "The structure is:\n",
    "\n",
    "(head1)->[head2]\n",
    "dummy1->(head1)->[head2]\n",
    "dummy2->(head1)->[head2]\n",
    "\n",
    "(head1) are different nodes with the same value.\n",
    "[head2] is the same node (points to the space in memory). So if we upate [head2], or the following nodes, head1, dummy1, and dummy2 will be changed.\n"
   ]
  },
  {
   "cell_type": "code",
   "execution_count": 20,
   "metadata": {},
   "outputs": [
    {
     "name": "stdout",
     "output_type": "stream",
     "text": [
      "[0, 1, 2, 4, 5, 6]\n",
      "[0, 1, 2, 4, 5, 6]\n",
      "[1, 2, 4, 5, 6]\n",
      "---\n",
      "[0, 1, 2, 5, 6]\n",
      "[0, 1, 2, 5, 6]\n",
      "[1, 2, 5, 6]\n"
     ]
    }
   ],
   "source": [
    "head = ListNode.createLinkList([1,2,3,4,5,6])\n",
    "dummy1 = ListNode(0, head)\n",
    "dummy2 = ListNode(0, head)\n",
    "\n",
    "dummy2.next.next.next = dummy2.next.next.next.next\n",
    "print(dummy1.show())\n",
    "print(dummy2.show())\n",
    "print(head.show())\n",
    "# all three lists are changed.\n",
    "print('---')\n",
    "\n",
    "head.next.next = head.next.next.next\n",
    "print(dummy1.show())\n",
    "print(dummy2.show())\n",
    "print(head.show())\n",
    "# all three lists are changed."
   ]
  },
  {
   "cell_type": "code",
   "execution_count": 24,
   "metadata": {},
   "outputs": [
    {
     "name": "stdout",
     "output_type": "stream",
     "text": [
      "[0, 1, 2, 3, 4, 5, 6]\n",
      "[0, 2, 3, 4, 5, 6]\n",
      "[1, 2, 3, 4, 5, 6]\n"
     ]
    }
   ],
   "source": [
    "head = ListNode.createLinkList([1,2,3,4,5,6])\n",
    "dummy1 = ListNode(0, head)\n",
    "dummy2 = ListNode(0, head)\n",
    "\n",
    "dummy2.next = head.next\n",
    "print(dummy1.show())\n",
    "print(dummy2.show())\n",
    "print(head.show())"
   ]
  },
  {
   "cell_type": "code",
   "execution_count": 28,
   "metadata": {},
   "outputs": [
    {
     "name": "stdout",
     "output_type": "stream",
     "text": [
      "[0, 1, 3, 4, 5, 6]\n",
      "[0, 1, 3, 4, 5, 6]\n",
      "[1, 3, 4, 5, 6]\n",
      "---\n",
      "[0, 1, 2, 3, 4, 5, 6]\n",
      "[0, 1, 2, 3, 4, 5, 6]\n",
      "[3, 4, 5, 6]\n"
     ]
    }
   ],
   "source": [
    "head = ListNode.createLinkList([1,2,3,4,5,6])\n",
    "dummy1 = ListNode(0, head)\n",
    "dummy2 = ListNode(0, head)\n",
    "\n",
    "head.next = head.next.next\n",
    "print(dummy1.show())\n",
    "print(dummy2.show())\n",
    "print(head.show())\n",
    "print('---')\n",
    "head = ListNode.createLinkList([1,2,3,4,5,6])\n",
    "dummy1 = ListNode(0, head)\n",
    "dummy2 = ListNode(0, head)\n",
    "\n",
    "head = head.next.next\n",
    "print(dummy1.show())\n",
    "print(dummy2.show())\n",
    "print(head.show())"
   ]
  },
  {
   "cell_type": "code",
   "execution_count": 29,
   "metadata": {},
   "outputs": [
    {
     "name": "stdout",
     "output_type": "stream",
     "text": [
      "[0, 1, 2, 3, 4, 5, 6]\n",
      "[0, 1, 2, 3, 4, 5, 6]\n",
      "[2, 3, 4, 5, 6]\n"
     ]
    }
   ],
   "source": [
    "head = ListNode.createLinkList([1,2,3,4,5,6])\n",
    "dummy1 = ListNode(0, head)\n",
    "dummy2 = ListNode(0, head)\n",
    "\n",
    "# if we update head, this won't change dummy1 or dummy2\n",
    "head = head.next\n",
    "print(dummy1.show())\n",
    "print(dummy2.show())\n",
    "print(head.show())"
   ]
  },
  {
   "cell_type": "code",
   "execution_count": 30,
   "metadata": {},
   "outputs": [
    {
     "name": "stdout",
     "output_type": "stream",
     "text": [
      "[0, 1, 2, 3, 4, 5, 6]\n",
      "[0, 1, 2, 3, 4, 5, 6]\n",
      "---\n",
      "[0, 2, 3, 4, 5, 6]\n",
      "[0, 2, 3, 4, 5, 6]\n",
      "---\n",
      "[0, 2, 3, 4, 5, 6]\n",
      "[2, 3, 4, 5, 6]\n",
      "---\n",
      "[0, 2, 4, 5, 6]\n",
      "[2, 4, 5, 6]\n"
     ]
    }
   ],
   "source": [
    "head = ListNode.createLinkList([1,2,3,4,5,6])\n",
    "dummy1 = dummy2 =  ListNode(0, head)\n",
    "# in this case, dummy1 and dummy2 points to the same node\n",
    "\n",
    "print(dummy1.show())\n",
    "print(dummy2.show())\n",
    "print('---')\n",
    "# this will update both dummy1 and dummy2:\n",
    "dummy2.next = dummy2.next.next\n",
    "print(dummy1.show())\n",
    "print(dummy2.show())\n",
    "print('---')\n",
    "# this will only update dummy2:\n",
    "dummy2 = dummy2.next\n",
    "print(dummy1.show())\n",
    "print(dummy2.show())\n",
    "print('---')\n",
    "# if we udpate dummy2.next again:\n",
    "dummy2.next = dummy2.next.next\n",
    "print(dummy1.show())\n",
    "print(dummy2.show())"
   ]
  },
  {
   "cell_type": "markdown",
   "metadata": {},
   "source": [
    "When we call dummy1 = dummy2 = ListNode(0, head), they will points to the same node.\n",
    "\n",
    "The structure is:\n",
    "\n",
    "[head1]->[head2]\n",
    "dummy1->[head1]->[head2]\n",
    "dummy2->[head1]->[head2]\n",
    "\n",
    "[head1] is the same node\n",
    "[head2] is the same node (points to the space in memory). So if we upate [head2], or the following nodes, head1, dummy1, and dummy2 will be changed."
   ]
  },
  {
   "cell_type": "code",
   "execution_count": 3,
   "metadata": {},
   "outputs": [
    {
     "name": "stdout",
     "output_type": "stream",
     "text": [
      "[0, 3, 3, 4, 5, 5, 6]\n",
      "[0, 3, 3, 4, 5, 5, 6]\n"
     ]
    }
   ],
   "source": [
    "head = ListNode.createLinkList([1,2,3,4,5,6])\n",
    "dummy1 = ListNode(0, head)\n",
    "dummy2 = dummy1\n",
    "\n",
    "# this will also update both list:\n",
    "dummy2.next = dummy2.next.next\n",
    "print(dummy1.show())\n",
    "print(dummy2.show())"
   ]
  },
  {
   "cell_type": "code",
   "execution_count": null,
   "metadata": {},
   "outputs": [],
   "source": []
  }
 ],
 "metadata": {
  "kernelspec": {
   "display_name": "Python 3",
   "language": "python",
   "name": "python3"
  },
  "language_info": {
   "codemirror_mode": {
    "name": "ipython",
    "version": 3
   },
   "file_extension": ".py",
   "mimetype": "text/x-python",
   "name": "python",
   "nbconvert_exporter": "python",
   "pygments_lexer": "ipython3",
   "version": "3.7.6"
  }
 },
 "nbformat": 4,
 "nbformat_minor": 4
}
