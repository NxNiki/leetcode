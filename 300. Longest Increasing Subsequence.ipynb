{
 "cells": [
  {
   "cell_type": "code",
   "execution_count": null,
   "metadata": {},
   "outputs": [],
   "source": [
    "class Solution:\n",
    "    def lengthOfLIS(self, nums: List[int]) -> int:\n",
    "        \n",
    "        dp = [1]*len(nums)\n",
    "        \n",
    "        for i in range(1, len(nums)):\n",
    "            for j in range(i):\n",
    "                if nums[i]>nums[j] and dp[i]<dp[j]+1:\n",
    "                    dp[i]= dp[j]+1\n",
    "                    \n",
    "        return max(dp)\n",
    "    \n",
    "    \n",
    "    "
   ]
  },
  {
   "cell_type": "code",
   "execution_count": null,
   "metadata": {},
   "outputs": [],
   "source": [
    "## 2/22/2022 \n",
    "class Solution:\n",
    "    def lengthOfLIS(self, nums: List[int]) -> int:\n",
    "       # recurse(i) returns the number of elements smaller than nums[i] in the previous position plus 1.\n",
    "        \n",
    "        dp = [1]*len(nums)\n",
    "        \n",
    "        for i in range(1, len(nums)):\n",
    "            for j in range(i):\n",
    "                if nums[j]<nums[i]:\n",
    "                    dp[i] = max(dp[j], dp[j]+1) # this will overwrite the max value in previous iterations.\n",
    "        \n",
    "        return max(dp)"
   ]
  },
  {
   "cell_type": "code",
   "execution_count": null,
   "metadata": {},
   "outputs": [],
   "source": [
    " class Solution:\n",
    "    def lengthOfLIS(self, nums: List[int]) -> int:\n",
    "       # recurse(i) returns the number of elements smaller than nums[i] in the previous position plus 1.\n",
    "        \n",
    "        dp = [1]*len(nums)\n",
    "        \n",
    "        for i in range(1, len(nums)):\n",
    "            for j in range(i):\n",
    "                if nums[j]<nums[i]:\n",
    "                    dp[i] = max(dp[i], dp[j]+1)\n",
    "        \n",
    "        return max(dp)"
   ]
  }
 ],
 "metadata": {
  "kernelspec": {
   "display_name": "Python 3",
   "language": "python",
   "name": "python3"
  },
  "language_info": {
   "codemirror_mode": {
    "name": "ipython",
    "version": 3
   },
   "file_extension": ".py",
   "mimetype": "text/x-python",
   "name": "python",
   "nbconvert_exporter": "python",
   "pygments_lexer": "ipython3",
   "version": "3.7.6"
  }
 },
 "nbformat": 4,
 "nbformat_minor": 4
}
