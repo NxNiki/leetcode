{
 "cells": [
  {
   "cell_type": "code",
   "execution_count": 7,
   "metadata": {},
   "outputs": [
    {
     "name": "stdout",
     "output_type": "stream",
     "text": [
      "solution: [1, 1, 1, 1, 1, 1, 1]\n",
      "exceed target: [1, 1, 1, 1, 1, 1, 2]\n",
      "exceed target: [1, 1, 1, 1, 1, 1, 3]\n",
      "exceed target: [1, 1, 1, 1, 1, 1, 5]\n",
      "solution: [1, 1, 1, 1, 1, 2]\n",
      "exceed target: [1, 1, 1, 1, 1, 3]\n",
      "exceed target: [1, 1, 1, 1, 1, 5]\n",
      "exceed target: [1, 1, 1, 1, 2, 2]\n",
      "exceed target: [1, 1, 1, 1, 2, 3]\n",
      "exceed target: [1, 1, 1, 1, 2, 5]\n",
      "solution: [1, 1, 1, 1, 3]\n",
      "exceed target: [1, 1, 1, 1, 5]\n",
      "solution: [1, 1, 1, 2, 2]\n",
      "exceed target: [1, 1, 1, 2, 3]\n",
      "exceed target: [1, 1, 1, 2, 5]\n",
      "exceed target: [1, 1, 1, 3, 3]\n",
      "exceed target: [1, 1, 1, 3, 5]\n",
      "exceed target: [1, 1, 1, 5]\n",
      "exceed target: [1, 1, 2, 2, 2]\n",
      "exceed target: [1, 1, 2, 2, 3]\n",
      "exceed target: [1, 1, 2, 2, 5]\n",
      "solution: [1, 1, 2, 3]\n",
      "exceed target: [1, 1, 2, 5]\n",
      "exceed target: [1, 1, 3, 3]\n",
      "exceed target: [1, 1, 3, 5]\n",
      "solution: [1, 1, 5]\n",
      "solution: [1, 2, 2, 2]\n",
      "exceed target: [1, 2, 2, 3]\n",
      "exceed target: [1, 2, 2, 5]\n",
      "exceed target: [1, 2, 3, 3]\n",
      "exceed target: [1, 2, 3, 5]\n",
      "exceed target: [1, 2, 5]\n",
      "solution: [1, 3, 3]\n",
      "exceed target: [1, 3, 5]\n",
      "exceed target: [1, 5, 5]\n",
      "exceed target: [2, 2, 2, 2]\n",
      "exceed target: [2, 2, 2, 3]\n",
      "exceed target: [2, 2, 2, 5]\n",
      "solution: [2, 2, 3]\n",
      "exceed target: [2, 2, 5]\n",
      "exceed target: [2, 3, 3]\n",
      "exceed target: [2, 3, 5]\n",
      "solution: [2, 5]\n",
      "exceed target: [3, 3, 3]\n",
      "exceed target: [3, 3, 5]\n",
      "exceed target: [3, 5]\n",
      "exceed target: [5, 5]\n"
     ]
    },
    {
     "data": {
      "text/plain": [
       "[[1, 1, 1, 1, 1, 1, 1],\n",
       " [1, 1, 1, 1, 1, 2],\n",
       " [1, 1, 1, 1, 3],\n",
       " [1, 1, 1, 2, 2],\n",
       " [1, 1, 2, 3],\n",
       " [1, 1, 5],\n",
       " [1, 2, 2, 2],\n",
       " [1, 3, 3],\n",
       " [2, 2, 3],\n",
       " [2, 5]]"
      ]
     },
     "execution_count": 7,
     "metadata": {},
     "output_type": "execute_result"
    }
   ],
   "source": [
    "class Solution:\n",
    "    def combinationSum(self, candidates, target: int) :\n",
    "        \n",
    "        def backtrack(start, cur):\n",
    "            if sum(cur)==target:\n",
    "                res.append(cur.copy())\n",
    "                print('solution:', cur)\n",
    "                return\n",
    "            \n",
    "            if sum(cur)>target:\n",
    "                print('exceed target:', cur)\n",
    "                return\n",
    "            \n",
    "            for i in range(start, len(candidates)):\n",
    "                cur.append(candidates[i])\n",
    "                backtrack(i, cur)\n",
    "                cur.pop()\n",
    "                \n",
    "        res = []\n",
    "        backtrack(0, [])\n",
    "        \n",
    "        return res\n",
    "            \n",
    "s = Solution()\n",
    "nums = [1,2,3,5]\n",
    "target = 7\n",
    "res = s.combinationSum(nums, target)\n",
    "res"
   ]
  },
  {
   "cell_type": "code",
   "execution_count": 9,
   "metadata": {},
   "outputs": [
    {
     "data": {
      "text/plain": [
       "[[1, 1, 1, 1, 1, 1, 1],\n",
       " [1, 1, 1, 1, 1, 2],\n",
       " [1, 1, 1, 1, 3],\n",
       " [1, 1, 1, 2, 2],\n",
       " [1, 1, 2, 3],\n",
       " [1, 1, 5],\n",
       " [1, 2, 2, 2],\n",
       " [1, 3, 3],\n",
       " [2, 2, 3],\n",
       " [2, 5]]"
      ]
     },
     "execution_count": 9,
     "metadata": {},
     "output_type": "execute_result"
    }
   ],
   "source": [
    "class Solution:\n",
    "    def combinationSum(self, candidates, target: int) :\n",
    "        \n",
    "        res = []\n",
    "        \n",
    "        def dfs(i, cur, total):\n",
    "            if total == target:\n",
    "                res.append(cur.copy())\n",
    "                return\n",
    "            \n",
    "            if i>=len(candidates) or total>target:\n",
    "                return\n",
    "            \n",
    "            cur.append(candidates[i])\n",
    "            dfs(i, cur, total+candidates[i])\n",
    "            cur.pop()\n",
    "            dfs(i+1, cur, total)\n",
    "            \n",
    "        dfs(0, [], 0)\n",
    "        \n",
    "        return res\n",
    "    \n",
    "s = Solution()\n",
    "nums = [1,2,3,5]\n",
    "target = 7\n",
    "res = s.combinationSum(nums, target)\n",
    "res"
   ]
  }
 ],
 "metadata": {
  "kernelspec": {
   "display_name": "Python 3",
   "language": "python",
   "name": "python3"
  },
  "language_info": {
   "codemirror_mode": {
    "name": "ipython",
    "version": 3
   },
   "file_extension": ".py",
   "mimetype": "text/x-python",
   "name": "python",
   "nbconvert_exporter": "python",
   "pygments_lexer": "ipython3",
   "version": "3.7.6"
  }
 },
 "nbformat": 4,
 "nbformat_minor": 4
}
