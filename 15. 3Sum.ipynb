{
 "cells": [
  {
   "cell_type": "code",
   "execution_count": 2,
   "metadata": {},
   "outputs": [
    {
     "name": "stdout",
     "output_type": "stream",
     "text": [
      "[-4, -1, -1, 0, 1, 2]\n",
      "0 []\n",
      "1 []\n",
      "2 [[-1, -1, 2], [-1, 0, 1]]\n",
      "3 [[-1, -1, 2], [-1, 0, 1]]\n"
     ]
    },
    {
     "data": {
      "text/plain": [
       "[[-1, -1, 2], [-1, 0, 1]]"
      ]
     },
     "execution_count": 2,
     "metadata": {},
     "output_type": "execute_result"
    }
   ],
   "source": [
    "class Solution:\n",
    "    def threeSum(self, nums):\n",
    "        \n",
    "        res = []\n",
    "        nums.sort()\n",
    "        \n",
    "        for i in range(len(nums)-2):\n",
    "            print(i, res)\n",
    "            if nums[i]>0:\n",
    "                break\n",
    "            \n",
    "            # avoid duplicated triplets:\n",
    "            if i>0 and nums[i]==nums[i-1]:\n",
    "                continue\n",
    "            \n",
    "            two_sum = self.twoSum(nums[i+1:], -nums[i])\n",
    "            if two_sum:\n",
    "                for ts in two_sum:\n",
    "                    res.append([nums[i]] + ts)\n",
    "        \n",
    "        return res\n",
    "        \n",
    "    def twoSum(self, nums, target):\n",
    "        # suppose nums is sorted:\n",
    "        \n",
    "        res = []\n",
    "        left, right = 0, len(nums)-1\n",
    "        while left<right:\n",
    "            val = nums[left] + nums[right] \n",
    "            if val == target:\n",
    "                res.append([nums[left], nums[right]])\n",
    "                #print(res)\n",
    "                left += 1\n",
    "                while nums[left]==nums[left-1]:\n",
    "                    left += 1\n",
    "\n",
    "            elif val < target:\n",
    "                left += 1\n",
    "            else:\n",
    "                right -= 1\n",
    "        \n",
    "        return res\n",
    "    \n",
    "\n",
    "    \n",
    "nums = [-1,0,1,2,-1,-4]\n",
    "nums.sort()\n",
    "print(nums)\n",
    "s = Solution()\n",
    "s.threeSum(nums)"
   ]
  }
 ],
 "metadata": {
  "kernelspec": {
   "display_name": "Python 3",
   "language": "python",
   "name": "python3"
  },
  "language_info": {
   "codemirror_mode": {
    "name": "ipython",
    "version": 3
   },
   "file_extension": ".py",
   "mimetype": "text/x-python",
   "name": "python",
   "nbconvert_exporter": "python",
   "pygments_lexer": "ipython3",
   "version": "3.7.6"
  }
 },
 "nbformat": 4,
 "nbformat_minor": 4
}
