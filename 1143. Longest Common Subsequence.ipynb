{
 "cells": [
  {
   "cell_type": "code",
   "execution_count": 8,
   "metadata": {},
   "outputs": [
    {
     "name": "stdout",
     "output_type": "stream",
     "text": [
      "[[0, 0, 0, 0, 0, 0, 0, 0], [0, 1, 1, 1, 1, 1, 1, 1], [0, 1, 2, 2, 2, 2, 2, 2], [0, 1, 2, 3, 3, 3, 3, 3], [0, 1, 2, 3, 4, 4, 4, 4], [0, 1, 2, 3, 4, 4, 4, 5]]\n"
     ]
    },
    {
     "data": {
      "text/plain": [
       "5"
      ]
     },
     "execution_count": 8,
     "metadata": {},
     "output_type": "execute_result"
    }
   ],
   "source": [
    "class Solution:\n",
    "    def longestCommonSubsequence(self, text1: str, text2: str) -> int:\n",
    "    \n",
    "        dp = [[0] * (len(text2)+1) for _ in range(len(text1)+1)]\n",
    "        \n",
    "        for i in range(1, len(text1)+1):\n",
    "            for j in range(1, len(text2)+1):\n",
    "                if text1[i-1]==text2[j-1]:\n",
    "                    dp[i][j] = 1 + dp[i-1][j-1]\n",
    "                else:\n",
    "                    dp[i][j] = max(dp[i-1][j], dp[i][j-1])\n",
    "                \n",
    "        print(dp)\n",
    "        return dp[len(text1)][len(text2)]\n",
    "    \n",
    "    \n",
    "s = Solution()\n",
    "t1 = \"abcba\"\n",
    "t2 = \"abcbcba\"\n",
    "s.longestCommonSubsequence(t1, t2)"
   ]
  },
  {
   "cell_type": "code",
   "execution_count": 10,
   "metadata": {},
   "outputs": [
    {
     "name": "stdout",
     "output_type": "stream",
     "text": [
      "[0, 1, 1, 1, 1, 1, 1, 2]\n",
      "[0, 1, 2, 2, 3, 3, 4, 4]\n",
      "[0, 1, 2, 3, 3, 4, 4, 4]\n",
      "[0, 1, 2, 3, 4, 4, 5, 5]\n",
      "[0, 1, 2, 3, 4, 4, 5, 6]\n"
     ]
    },
    {
     "data": {
      "text/plain": [
       "6"
      ]
     },
     "execution_count": 10,
     "metadata": {},
     "output_type": "execute_result"
    }
   ],
   "source": [
    "class Solution:\n",
    "    def longestCommonSubsequence(self, text1: str, text2: str) -> int:\n",
    "    \n",
    "        dp = [0] * (len(text2)+1) \n",
    "        \n",
    "        for i in range(1, len(text1)+1):\n",
    "            for j in range(1, len(text2)+1):\n",
    "                if text1[i-1]==text2[j-1]:\n",
    "                    dp[j] = 1 + dp[j-1]\n",
    "                else:\n",
    "                    dp[j] = max(dp[j], dp[j-1])\n",
    "            print(dp)\n",
    "\n",
    "        return dp[len(text2)]\n",
    "    \n",
    "    \n",
    "s = Solution()\n",
    "t1 = \"abcba\"\n",
    "t2 = \"abcbcba\"\n",
    "s.longestCommonSubsequence(t1, t2)"
   ]
  },
  {
   "cell_type": "code",
   "execution_count": 29,
   "metadata": {},
   "outputs": [
    {
     "name": "stdout",
     "output_type": "stream",
     "text": [
      "[0, 0, 0, 0, 0, 0, 0, 0]\n",
      "[0, 0, 0, 0, 0, 0, 0, 0]\n",
      "[0, 1, 1, 1, 1, 1, 1, 1]\n",
      "[0, 1, 1, 1, 1, 1, 2, 2]\n",
      "[0, 1, 1, 1, 1, 1, 2, 2]\n",
      "[0, 1, 1, 1, 2, 2, 2, 2]\n"
     ]
    },
    {
     "data": {
      "text/plain": [
       "2"
      ]
     },
     "execution_count": 29,
     "metadata": {},
     "output_type": "execute_result"
    }
   ],
   "source": [
    "class Solution:\n",
    "    def longestCommonSubsequence(self, text1: str, text2: str) -> int:\n",
    "        \n",
    "        dp1 = [0] * (len(text2)+1) \n",
    "        dp2 = [0] * (len(text2)+1) \n",
    "        \n",
    "        for i in range(1, len(text1)+1):\n",
    "            for j in range(1, len(text2)+1):\n",
    "                if text1[i-1]==text2[j-1]:\n",
    "                    dp2[j] = 1 + dp1[j-1]\n",
    "                else:\n",
    "                    dp2[j] = max(dp1[j], dp2[j-1])\n",
    "            \n",
    "            dp1 = dp2\n",
    "            dp2 = [0] * (len(text2)+1) \n",
    "            print(dp1)\n",
    "\n",
    "        return dp1[len(text2)]\n",
    "    \n",
    "    \n",
    "s = Solution()\n",
    "t1 = \"abcba\"\n",
    "t2 = \"abcbcba\"\n",
    "\n",
    "t1 = \"ezupkr\"\n",
    "t2 = \"ubmrapg\"\n",
    "s.longestCommonSubsequence(t1, t2)"
   ]
  },
  {
   "cell_type": "code",
   "execution_count": 28,
   "metadata": {},
   "outputs": [
    {
     "name": "stdout",
     "output_type": "stream",
     "text": [
      "[0, 0, 0, 0, 0, 0, 0, 0]\n",
      "[0, 0, 0, 0, 0, 0, 0, 0]\n",
      "[0, 0, 0, 0, 0, 0, 0, 0]\n",
      "[0, 0, 0, 0, 0, 0, 1, 1]\n",
      "[0, 0, 0, 0, 0, 0, 1, 1]\n",
      "[0, 0, 0, 0, 0, 0, 1, 1]\n"
     ]
    },
    {
     "data": {
      "text/plain": [
       "1"
      ]
     },
     "execution_count": 28,
     "metadata": {},
     "output_type": "execute_result"
    }
   ],
   "source": [
    "class Solution:\n",
    "    def longestCommonSubsequence(self, text1: str, text2: str) -> int:\n",
    "    \n",
    "        \n",
    "        # let text 2 be the longer one, \n",
    "        # we need to reverse the order in the second function in case the length of 2 string are same\n",
    "        text1, text2 = min(text1, text2, key = len), max(text2, text1, key = len)\n",
    "        \n",
    "        dp1 = [0] * (len(text2)+1) \n",
    "        dp2 = [0] * (len(text2)+1) \n",
    "        \n",
    "        for i in range(1, len(text1)+1):\n",
    "            for j in range(i, len(text2)+1): # trying to avoid half of the inner loop\n",
    "                if text1[i-1]==text2[j-1]:\n",
    "                    dp2[j] = 1 + dp1[j-1]\n",
    "                else:\n",
    "                    dp2[j] = max(dp1[j], dp2[j-1])\n",
    "            \n",
    "            dp1 = dp2\n",
    "            dp2 = [0] * (len(text2)+1) \n",
    "            print(dp1)\n",
    "\n",
    "        return dp1[len(text2)]\n",
    "    \n",
    "    \n",
    "s = Solution()\n",
    "t1 = \"abcba\"\n",
    "t2 = \"abcbcba\"\n",
    "\n",
    "t1 = \"ezupkr\"\n",
    "t2 = \"ubmrapg\"\n",
    "s.longestCommonSubsequence(t1, t2)\n",
    "# this is wrong..."
   ]
  },
  {
   "cell_type": "code",
   "execution_count": 17,
   "metadata": {},
   "outputs": [
    {
     "name": "stdout",
     "output_type": "stream",
     "text": [
      "2\n",
      "5\n",
      "7\n",
      "10\n",
      "12\n"
     ]
    },
    {
     "data": {
      "text/plain": [
       "12"
      ]
     },
     "execution_count": 17,
     "metadata": {},
     "output_type": "execute_result"
    }
   ],
   "source": [
    "## DP with O(1) space:\n",
    "\n",
    "class Solution:\n",
    "    def longestCommonSubsequence(self, text1: str, text2: str) -> int:\n",
    "    \n",
    "        dp1 = 0\n",
    "        dp2 = 0\n",
    "        \n",
    "        for i in range(1, len(text1)+1):\n",
    "            for j in range(1, len(text2)+1):\n",
    "                if text1[i-1]==text2[j-1]:\n",
    "                    dp2 = 1 + dp1\n",
    "                else:\n",
    "                    dp2 = max(dp1, dp2)\n",
    "            \n",
    "                dp1 = dp2\n",
    "            dp2 = 0\n",
    "            print(dp1)\n",
    "\n",
    "        return dp1\n",
    "    \n",
    "    \n",
    "s = Solution()\n",
    "t1 = \"abcba\"\n",
    "t2 = \"abcbcba\"\n",
    "s.longestCommonSubsequence(t1, t2)"
   ]
  }
 ],
 "metadata": {
  "kernelspec": {
   "display_name": "Python 3",
   "language": "python",
   "name": "python3"
  },
  "language_info": {
   "codemirror_mode": {
    "name": "ipython",
    "version": 3
   },
   "file_extension": ".py",
   "mimetype": "text/x-python",
   "name": "python",
   "nbconvert_exporter": "python",
   "pygments_lexer": "ipython3",
   "version": "3.7.6"
  }
 },
 "nbformat": 4,
 "nbformat_minor": 4
}
