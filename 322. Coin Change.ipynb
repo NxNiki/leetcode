{
 "cells": [
  {
   "cell_type": "code",
   "execution_count": null,
   "metadata": {},
   "outputs": [],
   "source": [
    "class Solution:\n",
    "    def coinChange(self, coins: List[int], amount: int) -> int:\n",
    "        \n",
    "        if amount == 0:\n",
    "            return 0\n",
    "        \n",
    "        queue = deque([(0,0)])\n",
    "        visited = [False]*amount\n",
    "        \n",
    "        while queue:\n",
    "            count, curVal = queue.popleft()\n",
    "            count += 1\n",
    "            for c in coins:\n",
    "                nextVal = curVal + c\n",
    "                if nextVal == amount:\n",
    "                    return count\n",
    "                elif nextVal < amount and not visited[nextVal]:\n",
    "                    visited[nextVal]=True\n",
    "                    queue.append((count, nextVal))\n",
    "        \n",
    "        return -1\n",
    "    \n",
    "    \n"
   ]
  }
 ],
 "metadata": {
  "kernelspec": {
   "display_name": "Python 3",
   "language": "python",
   "name": "python3"
  },
  "language_info": {
   "codemirror_mode": {
    "name": "ipython",
    "version": 3
   },
   "file_extension": ".py",
   "mimetype": "text/x-python",
   "name": "python",
   "nbconvert_exporter": "python",
   "pygments_lexer": "ipython3",
   "version": "3.7.6"
  }
 },
 "nbformat": 4,
 "nbformat_minor": 4
}
