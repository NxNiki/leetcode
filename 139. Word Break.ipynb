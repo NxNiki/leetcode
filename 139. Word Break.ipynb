{
 "cells": [
  {
   "cell_type": "code",
   "execution_count": 17,
   "metadata": {},
   "outputs": [],
   "source": [
    "class solution:\n",
    "    def wordBreak(self, s: str, wordDict) -> bool:\n",
    "    \n",
    "        def backtracking(s, wordDict):\n",
    "                if not s:\n",
    "                    return True\n",
    "\n",
    "                idx = []\n",
    "                for i in range(1, len(s)+1):\n",
    "                    if s[:i] in wordDict:\n",
    "                        idx.append(i)\n",
    "                print(idx)\n",
    "                if not idx:\n",
    "                    return False\n",
    "                else:\n",
    "                    for i in idx:\n",
    "                        if backtracking(s[i:], wordDict):\n",
    "                            return True\n",
    "                    return False\n",
    "\n",
    "        return backtracking(s, wordDict)\n",
    "\n",
    "s = 'leetcode'\n",
    "wd = ['leet', 'code']\n",
    "\n",
    "sol = solution()\n",
    "sol.wordBreak(s, wd)"
   ]
  },
  {
   "cell_type": "code",
   "execution_count": 21,
   "metadata": {},
   "outputs": [
    {
     "name": "stdout",
     "output_type": "stream",
     "text": [
      "[4]\n",
      "[8]\n"
     ]
    },
    {
     "data": {
      "text/plain": [
       "True"
      ]
     },
     "execution_count": 21,
     "metadata": {},
     "output_type": "execute_result"
    }
   ],
   "source": [
    "class solution:\n",
    "    def wordBreak(self, s: str, wordDict) -> bool:\n",
    "\n",
    "        dp = []\n",
    "\n",
    "        def backtracking(s, i, wordDict):\n",
    "            if i>=len(s)-1:\n",
    "                return True\n",
    "            # if i in dp:\n",
    "            #     return True\n",
    "\n",
    "            if not s:\n",
    "                return True\n",
    "\n",
    "            idx = []\n",
    "            for j in range(i+1, len(s)+1):\n",
    "                if s[i:j] in wordDict:\n",
    "                    idx.append(j)\n",
    "            print(idx)\n",
    "            if not idx:\n",
    "                return False\n",
    "            else:\n",
    "                for j in idx:\n",
    "                    if backtracking(s, j, wordDict):\n",
    "                        # dp.append(j)\n",
    "                        return True\n",
    "                return False\n",
    "\n",
    "        return backtracking(s, 0, wordDict)\n",
    "\n",
    "s = 'leetcode'\n",
    "wd = ['leet', 'code']\n",
    "\n",
    "sol = solution()\n",
    "sol.wordBreak(s, wd)"
   ]
  },
  {
   "cell_type": "code",
   "execution_count": 22,
   "metadata": {},
   "outputs": [
    {
     "data": {
      "text/plain": [
       "True"
      ]
     },
     "execution_count": 22,
     "metadata": {},
     "output_type": "execute_result"
    }
   ],
   "source": [
    "class solution:\n",
    "    def wordBreak(self, s: str, wordDict) -> bool:\n",
    "\n",
    "        dp = [False]*(len(s)+1)\n",
    "        dp[0] = True\n",
    "        \n",
    "        for i_end in range(1, len(s)+1):\n",
    "            for wd in wordDict:\n",
    "                if s[i_end-len(wd):i_end]==wd and dp[i_end-len(wd)]:\n",
    "                    dp[i_end]=True\n",
    "        \n",
    "        return dp[-1]\n",
    "\n",
    "s = 'leetcode'\n",
    "wd = ['leet', 'code']\n",
    "\n",
    "sol = solution()\n",
    "sol.wordBreak(s, wd)     "
   ]
  }
 ],
 "metadata": {
  "kernelspec": {
   "display_name": "Python 3",
   "language": "python",
   "name": "python3"
  },
  "language_info": {
   "codemirror_mode": {
    "name": "ipython",
    "version": 3
   },
   "file_extension": ".py",
   "mimetype": "text/x-python",
   "name": "python",
   "nbconvert_exporter": "python",
   "pygments_lexer": "ipython3",
   "version": "3.7.6"
  }
 },
 "nbformat": 4,
 "nbformat_minor": 4
}
